{
  "nbformat": 4,
  "nbformat_minor": 0,
  "metadata": {
    "colab": {
      "provenance": [],
      "authorship_tag": "ABX9TyMW03yauqA4A3169mKbMAzV",
      "include_colab_link": true
    },
    "kernelspec": {
      "name": "python3",
      "display_name": "Python 3"
    },
    "language_info": {
      "name": "python"
    }
  },
  "cells": [
    {
      "cell_type": "markdown",
      "metadata": {
        "id": "view-in-github",
        "colab_type": "text"
      },
      "source": [
        "<a href=\"https://colab.research.google.com/github/689itzjack/Data-Science/blob/main/thePandasModuleLociLoc.ipynb\" target=\"_parent\"><img src=\"https://colab.research.google.com/assets/colab-badge.svg\" alt=\"Open In Colab\"/></a>"
      ]
    },
    {
      "cell_type": "markdown",
      "source": [
        "# **LEYENDO LAS TABLAS .CSV DLE DRIVE**"
      ],
      "metadata": {
        "id": "Q0sjEMLeuV4X"
      }
    },
    {
      "cell_type": "code",
      "execution_count": 4,
      "metadata": {
        "colab": {
          "base_uri": "https://localhost:8080/",
          "height": 223
        },
        "id": "eLEr2L1hmDpf",
        "outputId": "f927d01f-a967-45c6-949b-d149187f1bea"
      },
      "outputs": [
        {
          "output_type": "stream",
          "name": "stdout",
          "text": [
            "Mounted at /content/gdrive\n"
          ]
        },
        {
          "output_type": "execute_result",
          "data": {
            "text/plain": [
              "   NOMBRE  APELLIDO   OCUPACION GRADO_PREPARACION         CUIDAD  EDAD\n",
              "0   JORGE  CASTILLO  ESTUDIANTE       UNIVERSIDAD            NaN    23\n",
              "1    OMAR    GAMBOA        PEON               NaN         PUEBLA    24\n",
              "2  MIRIAM   JIMENES  ESTUDIANTE            KINDER         MANILA    25\n",
              "3    JAYA     RIERA         NaN       PRREESCOLAR  TANGAMANDAPIO    50\n",
              "4    JANA    GAMBOA      MELAVA              SECU        YAGUARU   100"
            ],
            "text/html": [
              "\n",
              "  <div id=\"df-c7c01cb6-fffd-41c1-94ff-89bd5f496d4d\">\n",
              "    <div class=\"colab-df-container\">\n",
              "      <div>\n",
              "<style scoped>\n",
              "    .dataframe tbody tr th:only-of-type {\n",
              "        vertical-align: middle;\n",
              "    }\n",
              "\n",
              "    .dataframe tbody tr th {\n",
              "        vertical-align: top;\n",
              "    }\n",
              "\n",
              "    .dataframe thead th {\n",
              "        text-align: right;\n",
              "    }\n",
              "</style>\n",
              "<table border=\"1\" class=\"dataframe\">\n",
              "  <thead>\n",
              "    <tr style=\"text-align: right;\">\n",
              "      <th></th>\n",
              "      <th>NOMBRE</th>\n",
              "      <th>APELLIDO</th>\n",
              "      <th>OCUPACION</th>\n",
              "      <th>GRADO_PREPARACION</th>\n",
              "      <th>CUIDAD</th>\n",
              "      <th>EDAD</th>\n",
              "    </tr>\n",
              "  </thead>\n",
              "  <tbody>\n",
              "    <tr>\n",
              "      <th>0</th>\n",
              "      <td>JORGE</td>\n",
              "      <td>CASTILLO</td>\n",
              "      <td>ESTUDIANTE</td>\n",
              "      <td>UNIVERSIDAD</td>\n",
              "      <td>NaN</td>\n",
              "      <td>23</td>\n",
              "    </tr>\n",
              "    <tr>\n",
              "      <th>1</th>\n",
              "      <td>OMAR</td>\n",
              "      <td>GAMBOA</td>\n",
              "      <td>PEON</td>\n",
              "      <td>NaN</td>\n",
              "      <td>PUEBLA</td>\n",
              "      <td>24</td>\n",
              "    </tr>\n",
              "    <tr>\n",
              "      <th>2</th>\n",
              "      <td>MIRIAM</td>\n",
              "      <td>JIMENES</td>\n",
              "      <td>ESTUDIANTE</td>\n",
              "      <td>KINDER</td>\n",
              "      <td>MANILA</td>\n",
              "      <td>25</td>\n",
              "    </tr>\n",
              "    <tr>\n",
              "      <th>3</th>\n",
              "      <td>JAYA</td>\n",
              "      <td>RIERA</td>\n",
              "      <td>NaN</td>\n",
              "      <td>PRREESCOLAR</td>\n",
              "      <td>TANGAMANDAPIO</td>\n",
              "      <td>50</td>\n",
              "    </tr>\n",
              "    <tr>\n",
              "      <th>4</th>\n",
              "      <td>JANA</td>\n",
              "      <td>GAMBOA</td>\n",
              "      <td>MELAVA</td>\n",
              "      <td>SECU</td>\n",
              "      <td>YAGUARU</td>\n",
              "      <td>100</td>\n",
              "    </tr>\n",
              "  </tbody>\n",
              "</table>\n",
              "</div>\n",
              "      <button class=\"colab-df-convert\" onclick=\"convertToInteractive('df-c7c01cb6-fffd-41c1-94ff-89bd5f496d4d')\"\n",
              "              title=\"Convert this dataframe to an interactive table.\"\n",
              "              style=\"display:none;\">\n",
              "        \n",
              "  <svg xmlns=\"http://www.w3.org/2000/svg\" height=\"24px\"viewBox=\"0 0 24 24\"\n",
              "       width=\"24px\">\n",
              "    <path d=\"M0 0h24v24H0V0z\" fill=\"none\"/>\n",
              "    <path d=\"M18.56 5.44l.94 2.06.94-2.06 2.06-.94-2.06-.94-.94-2.06-.94 2.06-2.06.94zm-11 1L8.5 8.5l.94-2.06 2.06-.94-2.06-.94L8.5 2.5l-.94 2.06-2.06.94zm10 10l.94 2.06.94-2.06 2.06-.94-2.06-.94-.94-2.06-.94 2.06-2.06.94z\"/><path d=\"M17.41 7.96l-1.37-1.37c-.4-.4-.92-.59-1.43-.59-.52 0-1.04.2-1.43.59L10.3 9.45l-7.72 7.72c-.78.78-.78 2.05 0 2.83L4 21.41c.39.39.9.59 1.41.59.51 0 1.02-.2 1.41-.59l7.78-7.78 2.81-2.81c.8-.78.8-2.07 0-2.86zM5.41 20L4 18.59l7.72-7.72 1.47 1.35L5.41 20z\"/>\n",
              "  </svg>\n",
              "      </button>\n",
              "      \n",
              "  <style>\n",
              "    .colab-df-container {\n",
              "      display:flex;\n",
              "      flex-wrap:wrap;\n",
              "      gap: 12px;\n",
              "    }\n",
              "\n",
              "    .colab-df-convert {\n",
              "      background-color: #E8F0FE;\n",
              "      border: none;\n",
              "      border-radius: 50%;\n",
              "      cursor: pointer;\n",
              "      display: none;\n",
              "      fill: #1967D2;\n",
              "      height: 32px;\n",
              "      padding: 0 0 0 0;\n",
              "      width: 32px;\n",
              "    }\n",
              "\n",
              "    .colab-df-convert:hover {\n",
              "      background-color: #E2EBFA;\n",
              "      box-shadow: 0px 1px 2px rgba(60, 64, 67, 0.3), 0px 1px 3px 1px rgba(60, 64, 67, 0.15);\n",
              "      fill: #174EA6;\n",
              "    }\n",
              "\n",
              "    [theme=dark] .colab-df-convert {\n",
              "      background-color: #3B4455;\n",
              "      fill: #D2E3FC;\n",
              "    }\n",
              "\n",
              "    [theme=dark] .colab-df-convert:hover {\n",
              "      background-color: #434B5C;\n",
              "      box-shadow: 0px 1px 3px 1px rgba(0, 0, 0, 0.15);\n",
              "      filter: drop-shadow(0px 1px 2px rgba(0, 0, 0, 0.3));\n",
              "      fill: #FFFFFF;\n",
              "    }\n",
              "  </style>\n",
              "\n",
              "      <script>\n",
              "        const buttonEl =\n",
              "          document.querySelector('#df-c7c01cb6-fffd-41c1-94ff-89bd5f496d4d button.colab-df-convert');\n",
              "        buttonEl.style.display =\n",
              "          google.colab.kernel.accessAllowed ? 'block' : 'none';\n",
              "\n",
              "        async function convertToInteractive(key) {\n",
              "          const element = document.querySelector('#df-c7c01cb6-fffd-41c1-94ff-89bd5f496d4d');\n",
              "          const dataTable =\n",
              "            await google.colab.kernel.invokeFunction('convertToInteractive',\n",
              "                                                     [key], {});\n",
              "          if (!dataTable) return;\n",
              "\n",
              "          const docLinkHtml = 'Like what you see? Visit the ' +\n",
              "            '<a target=\"_blank\" href=https://colab.research.google.com/notebooks/data_table.ipynb>data table notebook</a>'\n",
              "            + ' to learn more about interactive tables.';\n",
              "          element.innerHTML = '';\n",
              "          dataTable['output_type'] = 'display_data';\n",
              "          await google.colab.output.renderOutput(dataTable, element);\n",
              "          const docLink = document.createElement('div');\n",
              "          docLink.innerHTML = docLinkHtml;\n",
              "          element.appendChild(docLink);\n",
              "        }\n",
              "      </script>\n",
              "    </div>\n",
              "  </div>\n",
              "  "
            ]
          },
          "metadata": {},
          "execution_count": 4
        }
      ],
      "source": [
        "from google.colab import drive\n",
        "drive.mount('/content/gdrive')\n",
        "import pandas as pd\n",
        "import os\n",
        "students_file = '/content/gdrive/My Drive/Introduction to Data Science/trial.csv'\n",
        "assert(os.path.exists(students_file)) #  sanity check\n",
        "df_students = pd.read_csv(students_file)\n",
        "df_students"
      ]
    },
    {
      "cell_type": "markdown",
      "source": [
        "**CAMBIANDO EL INDICE NUMERICO A INDICE DE DATA (EL INDICE ES UNA DETERMINADA COLUMNA)**"
      ],
      "metadata": {
        "id": "VVEk9mgivU79"
      }
    },
    {
      "cell_type": "code",
      "source": [
        "students_file = '/content/gdrive/My Drive/Introduction to Data Science/trial.csv'\n",
        "df2 = pd.read_csv(students_file, index_col=0)  # Selecting the Name column to be the index\n",
        "df2"
      ],
      "metadata": {
        "colab": {
          "base_uri": "https://localhost:8080/",
          "height": 237
        },
        "id": "Nx79IXoDs7JQ",
        "outputId": "04383135-ff8e-46c5-c938-352ff21ae64b"
      },
      "execution_count": 5,
      "outputs": [
        {
          "output_type": "execute_result",
          "data": {
            "text/plain": [
              "        APELLIDO   OCUPACION GRADO_PREPARACION         CUIDAD  EDAD\n",
              "NOMBRE                                                             \n",
              "JORGE   CASTILLO  ESTUDIANTE       UNIVERSIDAD            NaN    23\n",
              "OMAR      GAMBOA        PEON               NaN         PUEBLA    24\n",
              "MIRIAM   JIMENES  ESTUDIANTE            KINDER         MANILA    25\n",
              "JAYA       RIERA         NaN       PRREESCOLAR  TANGAMANDAPIO    50\n",
              "JANA      GAMBOA      MELAVA              SECU        YAGUARU   100"
            ],
            "text/html": [
              "\n",
              "  <div id=\"df-de339fe2-988b-496b-8fbd-3fa794d13167\">\n",
              "    <div class=\"colab-df-container\">\n",
              "      <div>\n",
              "<style scoped>\n",
              "    .dataframe tbody tr th:only-of-type {\n",
              "        vertical-align: middle;\n",
              "    }\n",
              "\n",
              "    .dataframe tbody tr th {\n",
              "        vertical-align: top;\n",
              "    }\n",
              "\n",
              "    .dataframe thead th {\n",
              "        text-align: right;\n",
              "    }\n",
              "</style>\n",
              "<table border=\"1\" class=\"dataframe\">\n",
              "  <thead>\n",
              "    <tr style=\"text-align: right;\">\n",
              "      <th></th>\n",
              "      <th>APELLIDO</th>\n",
              "      <th>OCUPACION</th>\n",
              "      <th>GRADO_PREPARACION</th>\n",
              "      <th>CUIDAD</th>\n",
              "      <th>EDAD</th>\n",
              "    </tr>\n",
              "    <tr>\n",
              "      <th>NOMBRE</th>\n",
              "      <th></th>\n",
              "      <th></th>\n",
              "      <th></th>\n",
              "      <th></th>\n",
              "      <th></th>\n",
              "    </tr>\n",
              "  </thead>\n",
              "  <tbody>\n",
              "    <tr>\n",
              "      <th>JORGE</th>\n",
              "      <td>CASTILLO</td>\n",
              "      <td>ESTUDIANTE</td>\n",
              "      <td>UNIVERSIDAD</td>\n",
              "      <td>NaN</td>\n",
              "      <td>23</td>\n",
              "    </tr>\n",
              "    <tr>\n",
              "      <th>OMAR</th>\n",
              "      <td>GAMBOA</td>\n",
              "      <td>PEON</td>\n",
              "      <td>NaN</td>\n",
              "      <td>PUEBLA</td>\n",
              "      <td>24</td>\n",
              "    </tr>\n",
              "    <tr>\n",
              "      <th>MIRIAM</th>\n",
              "      <td>JIMENES</td>\n",
              "      <td>ESTUDIANTE</td>\n",
              "      <td>KINDER</td>\n",
              "      <td>MANILA</td>\n",
              "      <td>25</td>\n",
              "    </tr>\n",
              "    <tr>\n",
              "      <th>JAYA</th>\n",
              "      <td>RIERA</td>\n",
              "      <td>NaN</td>\n",
              "      <td>PRREESCOLAR</td>\n",
              "      <td>TANGAMANDAPIO</td>\n",
              "      <td>50</td>\n",
              "    </tr>\n",
              "    <tr>\n",
              "      <th>JANA</th>\n",
              "      <td>GAMBOA</td>\n",
              "      <td>MELAVA</td>\n",
              "      <td>SECU</td>\n",
              "      <td>YAGUARU</td>\n",
              "      <td>100</td>\n",
              "    </tr>\n",
              "  </tbody>\n",
              "</table>\n",
              "</div>\n",
              "      <button class=\"colab-df-convert\" onclick=\"convertToInteractive('df-de339fe2-988b-496b-8fbd-3fa794d13167')\"\n",
              "              title=\"Convert this dataframe to an interactive table.\"\n",
              "              style=\"display:none;\">\n",
              "        \n",
              "  <svg xmlns=\"http://www.w3.org/2000/svg\" height=\"24px\"viewBox=\"0 0 24 24\"\n",
              "       width=\"24px\">\n",
              "    <path d=\"M0 0h24v24H0V0z\" fill=\"none\"/>\n",
              "    <path d=\"M18.56 5.44l.94 2.06.94-2.06 2.06-.94-2.06-.94-.94-2.06-.94 2.06-2.06.94zm-11 1L8.5 8.5l.94-2.06 2.06-.94-2.06-.94L8.5 2.5l-.94 2.06-2.06.94zm10 10l.94 2.06.94-2.06 2.06-.94-2.06-.94-.94-2.06-.94 2.06-2.06.94z\"/><path d=\"M17.41 7.96l-1.37-1.37c-.4-.4-.92-.59-1.43-.59-.52 0-1.04.2-1.43.59L10.3 9.45l-7.72 7.72c-.78.78-.78 2.05 0 2.83L4 21.41c.39.39.9.59 1.41.59.51 0 1.02-.2 1.41-.59l7.78-7.78 2.81-2.81c.8-.78.8-2.07 0-2.86zM5.41 20L4 18.59l7.72-7.72 1.47 1.35L5.41 20z\"/>\n",
              "  </svg>\n",
              "      </button>\n",
              "      \n",
              "  <style>\n",
              "    .colab-df-container {\n",
              "      display:flex;\n",
              "      flex-wrap:wrap;\n",
              "      gap: 12px;\n",
              "    }\n",
              "\n",
              "    .colab-df-convert {\n",
              "      background-color: #E8F0FE;\n",
              "      border: none;\n",
              "      border-radius: 50%;\n",
              "      cursor: pointer;\n",
              "      display: none;\n",
              "      fill: #1967D2;\n",
              "      height: 32px;\n",
              "      padding: 0 0 0 0;\n",
              "      width: 32px;\n",
              "    }\n",
              "\n",
              "    .colab-df-convert:hover {\n",
              "      background-color: #E2EBFA;\n",
              "      box-shadow: 0px 1px 2px rgba(60, 64, 67, 0.3), 0px 1px 3px 1px rgba(60, 64, 67, 0.15);\n",
              "      fill: #174EA6;\n",
              "    }\n",
              "\n",
              "    [theme=dark] .colab-df-convert {\n",
              "      background-color: #3B4455;\n",
              "      fill: #D2E3FC;\n",
              "    }\n",
              "\n",
              "    [theme=dark] .colab-df-convert:hover {\n",
              "      background-color: #434B5C;\n",
              "      box-shadow: 0px 1px 3px 1px rgba(0, 0, 0, 0.15);\n",
              "      filter: drop-shadow(0px 1px 2px rgba(0, 0, 0, 0.3));\n",
              "      fill: #FFFFFF;\n",
              "    }\n",
              "  </style>\n",
              "\n",
              "      <script>\n",
              "        const buttonEl =\n",
              "          document.querySelector('#df-de339fe2-988b-496b-8fbd-3fa794d13167 button.colab-df-convert');\n",
              "        buttonEl.style.display =\n",
              "          google.colab.kernel.accessAllowed ? 'block' : 'none';\n",
              "\n",
              "        async function convertToInteractive(key) {\n",
              "          const element = document.querySelector('#df-de339fe2-988b-496b-8fbd-3fa794d13167');\n",
              "          const dataTable =\n",
              "            await google.colab.kernel.invokeFunction('convertToInteractive',\n",
              "                                                     [key], {});\n",
              "          if (!dataTable) return;\n",
              "\n",
              "          const docLinkHtml = 'Like what you see? Visit the ' +\n",
              "            '<a target=\"_blank\" href=https://colab.research.google.com/notebooks/data_table.ipynb>data table notebook</a>'\n",
              "            + ' to learn more about interactive tables.';\n",
              "          element.innerHTML = '';\n",
              "          dataTable['output_type'] = 'display_data';\n",
              "          await google.colab.output.renderOutput(dataTable, element);\n",
              "          const docLink = document.createElement('div');\n",
              "          docLink.innerHTML = docLinkHtml;\n",
              "          element.appendChild(docLink);\n",
              "        }\n",
              "      </script>\n",
              "    </div>\n",
              "  </div>\n",
              "  "
            ]
          },
          "metadata": {},
          "execution_count": 5
        }
      ]
    },
    {
      "cell_type": "markdown",
      "source": [
        "CUANDO ESTAMOS LEEYENDO EL ARCHIVO .CSV Y COMO PARAMETRO LE MANDAMOS ALA FUNCION index_col=0 COMO PARAMETRO, ENTONCES LOS INDICES NUMERICOS SE BORRAN Y EL NOMBRE PASA A SER EL INDICE PRINCIPAL. "
      ],
      "metadata": {
        "id": "zJMrOdGStOUP"
      }
    },
    {
      "cell_type": "code",
      "source": [
        "df3 = df2.copy() #COPIAMOS LA TABLA df2 EN LA VARUABLE df3\n",
        "df4 = df3.set_index('APELLIDO') #CAMBIAMOS EL INDICE DEL NOMBRE POR EL APELLIDO\n",
        "df4"
      ],
      "metadata": {
        "colab": {
          "base_uri": "https://localhost:8080/",
          "height": 237
        },
        "id": "oWuJjU8vvwwt",
        "outputId": "c035dca2-41a5-43b7-facb-0d85b4aa051b"
      },
      "execution_count": null,
      "outputs": [
        {
          "output_type": "execute_result",
          "data": {
            "text/plain": [
              "           OCUPACION GRADO_PREPARACION         CUIDAD  EDAD\n",
              "APELLIDO                                                   \n",
              "CASTILLO  ESTUDIANTE       UNIVERSIDAD            NaN    23\n",
              "GAMBOA          PEON               NaN         PUEBLA    24\n",
              "JIMENES   ESTUDIANTE            KINDER         MANILA    25\n",
              "RIERA            NaN       PRREESCOLAR  TANGAMANDAPIO    50\n",
              "GAMBOA        MELAVA              SECU        YAGUARU   100"
            ],
            "text/html": [
              "\n",
              "  <div id=\"df-a08d40b8-70a6-4c4f-8a3b-c9244d880d20\">\n",
              "    <div class=\"colab-df-container\">\n",
              "      <div>\n",
              "<style scoped>\n",
              "    .dataframe tbody tr th:only-of-type {\n",
              "        vertical-align: middle;\n",
              "    }\n",
              "\n",
              "    .dataframe tbody tr th {\n",
              "        vertical-align: top;\n",
              "    }\n",
              "\n",
              "    .dataframe thead th {\n",
              "        text-align: right;\n",
              "    }\n",
              "</style>\n",
              "<table border=\"1\" class=\"dataframe\">\n",
              "  <thead>\n",
              "    <tr style=\"text-align: right;\">\n",
              "      <th></th>\n",
              "      <th>OCUPACION</th>\n",
              "      <th>GRADO_PREPARACION</th>\n",
              "      <th>CUIDAD</th>\n",
              "      <th>EDAD</th>\n",
              "    </tr>\n",
              "    <tr>\n",
              "      <th>APELLIDO</th>\n",
              "      <th></th>\n",
              "      <th></th>\n",
              "      <th></th>\n",
              "      <th></th>\n",
              "    </tr>\n",
              "  </thead>\n",
              "  <tbody>\n",
              "    <tr>\n",
              "      <th>CASTILLO</th>\n",
              "      <td>ESTUDIANTE</td>\n",
              "      <td>UNIVERSIDAD</td>\n",
              "      <td>NaN</td>\n",
              "      <td>23</td>\n",
              "    </tr>\n",
              "    <tr>\n",
              "      <th>GAMBOA</th>\n",
              "      <td>PEON</td>\n",
              "      <td>NaN</td>\n",
              "      <td>PUEBLA</td>\n",
              "      <td>24</td>\n",
              "    </tr>\n",
              "    <tr>\n",
              "      <th>JIMENES</th>\n",
              "      <td>ESTUDIANTE</td>\n",
              "      <td>KINDER</td>\n",
              "      <td>MANILA</td>\n",
              "      <td>25</td>\n",
              "    </tr>\n",
              "    <tr>\n",
              "      <th>RIERA</th>\n",
              "      <td>NaN</td>\n",
              "      <td>PRREESCOLAR</td>\n",
              "      <td>TANGAMANDAPIO</td>\n",
              "      <td>50</td>\n",
              "    </tr>\n",
              "    <tr>\n",
              "      <th>GAMBOA</th>\n",
              "      <td>MELAVA</td>\n",
              "      <td>SECU</td>\n",
              "      <td>YAGUARU</td>\n",
              "      <td>100</td>\n",
              "    </tr>\n",
              "  </tbody>\n",
              "</table>\n",
              "</div>\n",
              "      <button class=\"colab-df-convert\" onclick=\"convertToInteractive('df-a08d40b8-70a6-4c4f-8a3b-c9244d880d20')\"\n",
              "              title=\"Convert this dataframe to an interactive table.\"\n",
              "              style=\"display:none;\">\n",
              "        \n",
              "  <svg xmlns=\"http://www.w3.org/2000/svg\" height=\"24px\"viewBox=\"0 0 24 24\"\n",
              "       width=\"24px\">\n",
              "    <path d=\"M0 0h24v24H0V0z\" fill=\"none\"/>\n",
              "    <path d=\"M18.56 5.44l.94 2.06.94-2.06 2.06-.94-2.06-.94-.94-2.06-.94 2.06-2.06.94zm-11 1L8.5 8.5l.94-2.06 2.06-.94-2.06-.94L8.5 2.5l-.94 2.06-2.06.94zm10 10l.94 2.06.94-2.06 2.06-.94-2.06-.94-.94-2.06-.94 2.06-2.06.94z\"/><path d=\"M17.41 7.96l-1.37-1.37c-.4-.4-.92-.59-1.43-.59-.52 0-1.04.2-1.43.59L10.3 9.45l-7.72 7.72c-.78.78-.78 2.05 0 2.83L4 21.41c.39.39.9.59 1.41.59.51 0 1.02-.2 1.41-.59l7.78-7.78 2.81-2.81c.8-.78.8-2.07 0-2.86zM5.41 20L4 18.59l7.72-7.72 1.47 1.35L5.41 20z\"/>\n",
              "  </svg>\n",
              "      </button>\n",
              "      \n",
              "  <style>\n",
              "    .colab-df-container {\n",
              "      display:flex;\n",
              "      flex-wrap:wrap;\n",
              "      gap: 12px;\n",
              "    }\n",
              "\n",
              "    .colab-df-convert {\n",
              "      background-color: #E8F0FE;\n",
              "      border: none;\n",
              "      border-radius: 50%;\n",
              "      cursor: pointer;\n",
              "      display: none;\n",
              "      fill: #1967D2;\n",
              "      height: 32px;\n",
              "      padding: 0 0 0 0;\n",
              "      width: 32px;\n",
              "    }\n",
              "\n",
              "    .colab-df-convert:hover {\n",
              "      background-color: #E2EBFA;\n",
              "      box-shadow: 0px 1px 2px rgba(60, 64, 67, 0.3), 0px 1px 3px 1px rgba(60, 64, 67, 0.15);\n",
              "      fill: #174EA6;\n",
              "    }\n",
              "\n",
              "    [theme=dark] .colab-df-convert {\n",
              "      background-color: #3B4455;\n",
              "      fill: #D2E3FC;\n",
              "    }\n",
              "\n",
              "    [theme=dark] .colab-df-convert:hover {\n",
              "      background-color: #434B5C;\n",
              "      box-shadow: 0px 1px 3px 1px rgba(0, 0, 0, 0.15);\n",
              "      filter: drop-shadow(0px 1px 2px rgba(0, 0, 0, 0.3));\n",
              "      fill: #FFFFFF;\n",
              "    }\n",
              "  </style>\n",
              "\n",
              "      <script>\n",
              "        const buttonEl =\n",
              "          document.querySelector('#df-a08d40b8-70a6-4c4f-8a3b-c9244d880d20 button.colab-df-convert');\n",
              "        buttonEl.style.display =\n",
              "          google.colab.kernel.accessAllowed ? 'block' : 'none';\n",
              "\n",
              "        async function convertToInteractive(key) {\n",
              "          const element = document.querySelector('#df-a08d40b8-70a6-4c4f-8a3b-c9244d880d20');\n",
              "          const dataTable =\n",
              "            await google.colab.kernel.invokeFunction('convertToInteractive',\n",
              "                                                     [key], {});\n",
              "          if (!dataTable) return;\n",
              "\n",
              "          const docLinkHtml = 'Like what you see? Visit the ' +\n",
              "            '<a target=\"_blank\" href=https://colab.research.google.com/notebooks/data_table.ipynb>data table notebook</a>'\n",
              "            + ' to learn more about interactive tables.';\n",
              "          element.innerHTML = '';\n",
              "          dataTable['output_type'] = 'display_data';\n",
              "          await google.colab.output.renderOutput(dataTable, element);\n",
              "          const docLink = document.createElement('div');\n",
              "          docLink.innerHTML = docLinkHtml;\n",
              "          element.appendChild(docLink);\n",
              "        }\n",
              "      </script>\n",
              "    </div>\n",
              "  </div>\n",
              "  "
            ]
          },
          "metadata": {},
          "execution_count": 9
        }
      ]
    },
    {
      "cell_type": "markdown",
      "source": [
        "DE ESTA MANERA CAMBIAMOS EL INDICE DE NOMBRE POR LA COLUMNA APELLIDO"
      ],
      "metadata": {
        "id": "BCH_a1DGwUIe"
      }
    },
    {
      "cell_type": "code",
      "source": [
        "df3_sorted = df3.sort_values(by = ['NOMBRE'])\n",
        "df3_sorted"
      ],
      "metadata": {
        "colab": {
          "base_uri": "https://localhost:8080/",
          "height": 237
        },
        "id": "zd6uItn9yyAu",
        "outputId": "e3828cac-cb8b-4cbb-ed0c-25a6ea3aca8f"
      },
      "execution_count": null,
      "outputs": [
        {
          "output_type": "execute_result",
          "data": {
            "text/plain": [
              "        APELLIDO   OCUPACION GRADO_PREPARACION         CUIDAD  EDAD\n",
              "NOMBRE                                                             \n",
              "JANA      GAMBOA      MELAVA              SECU        YAGUARU   100\n",
              "JAYA       RIERA         NaN       PRREESCOLAR  TANGAMANDAPIO    50\n",
              "JORGE   CASTILLO  ESTUDIANTE       UNIVERSIDAD            NaN    23\n",
              "MIRIAM   JIMENES  ESTUDIANTE            KINDER         MANILA    25\n",
              "OMAR      GAMBOA        PEON               NaN         PUEBLA    24"
            ],
            "text/html": [
              "\n",
              "  <div id=\"df-ef18ce25-f39f-4485-8a74-08e6abc62ec5\">\n",
              "    <div class=\"colab-df-container\">\n",
              "      <div>\n",
              "<style scoped>\n",
              "    .dataframe tbody tr th:only-of-type {\n",
              "        vertical-align: middle;\n",
              "    }\n",
              "\n",
              "    .dataframe tbody tr th {\n",
              "        vertical-align: top;\n",
              "    }\n",
              "\n",
              "    .dataframe thead th {\n",
              "        text-align: right;\n",
              "    }\n",
              "</style>\n",
              "<table border=\"1\" class=\"dataframe\">\n",
              "  <thead>\n",
              "    <tr style=\"text-align: right;\">\n",
              "      <th></th>\n",
              "      <th>APELLIDO</th>\n",
              "      <th>OCUPACION</th>\n",
              "      <th>GRADO_PREPARACION</th>\n",
              "      <th>CUIDAD</th>\n",
              "      <th>EDAD</th>\n",
              "    </tr>\n",
              "    <tr>\n",
              "      <th>NOMBRE</th>\n",
              "      <th></th>\n",
              "      <th></th>\n",
              "      <th></th>\n",
              "      <th></th>\n",
              "      <th></th>\n",
              "    </tr>\n",
              "  </thead>\n",
              "  <tbody>\n",
              "    <tr>\n",
              "      <th>JANA</th>\n",
              "      <td>GAMBOA</td>\n",
              "      <td>MELAVA</td>\n",
              "      <td>SECU</td>\n",
              "      <td>YAGUARU</td>\n",
              "      <td>100</td>\n",
              "    </tr>\n",
              "    <tr>\n",
              "      <th>JAYA</th>\n",
              "      <td>RIERA</td>\n",
              "      <td>NaN</td>\n",
              "      <td>PRREESCOLAR</td>\n",
              "      <td>TANGAMANDAPIO</td>\n",
              "      <td>50</td>\n",
              "    </tr>\n",
              "    <tr>\n",
              "      <th>JORGE</th>\n",
              "      <td>CASTILLO</td>\n",
              "      <td>ESTUDIANTE</td>\n",
              "      <td>UNIVERSIDAD</td>\n",
              "      <td>NaN</td>\n",
              "      <td>23</td>\n",
              "    </tr>\n",
              "    <tr>\n",
              "      <th>MIRIAM</th>\n",
              "      <td>JIMENES</td>\n",
              "      <td>ESTUDIANTE</td>\n",
              "      <td>KINDER</td>\n",
              "      <td>MANILA</td>\n",
              "      <td>25</td>\n",
              "    </tr>\n",
              "    <tr>\n",
              "      <th>OMAR</th>\n",
              "      <td>GAMBOA</td>\n",
              "      <td>PEON</td>\n",
              "      <td>NaN</td>\n",
              "      <td>PUEBLA</td>\n",
              "      <td>24</td>\n",
              "    </tr>\n",
              "  </tbody>\n",
              "</table>\n",
              "</div>\n",
              "      <button class=\"colab-df-convert\" onclick=\"convertToInteractive('df-ef18ce25-f39f-4485-8a74-08e6abc62ec5')\"\n",
              "              title=\"Convert this dataframe to an interactive table.\"\n",
              "              style=\"display:none;\">\n",
              "        \n",
              "  <svg xmlns=\"http://www.w3.org/2000/svg\" height=\"24px\"viewBox=\"0 0 24 24\"\n",
              "       width=\"24px\">\n",
              "    <path d=\"M0 0h24v24H0V0z\" fill=\"none\"/>\n",
              "    <path d=\"M18.56 5.44l.94 2.06.94-2.06 2.06-.94-2.06-.94-.94-2.06-.94 2.06-2.06.94zm-11 1L8.5 8.5l.94-2.06 2.06-.94-2.06-.94L8.5 2.5l-.94 2.06-2.06.94zm10 10l.94 2.06.94-2.06 2.06-.94-2.06-.94-.94-2.06-.94 2.06-2.06.94z\"/><path d=\"M17.41 7.96l-1.37-1.37c-.4-.4-.92-.59-1.43-.59-.52 0-1.04.2-1.43.59L10.3 9.45l-7.72 7.72c-.78.78-.78 2.05 0 2.83L4 21.41c.39.39.9.59 1.41.59.51 0 1.02-.2 1.41-.59l7.78-7.78 2.81-2.81c.8-.78.8-2.07 0-2.86zM5.41 20L4 18.59l7.72-7.72 1.47 1.35L5.41 20z\"/>\n",
              "  </svg>\n",
              "      </button>\n",
              "      \n",
              "  <style>\n",
              "    .colab-df-container {\n",
              "      display:flex;\n",
              "      flex-wrap:wrap;\n",
              "      gap: 12px;\n",
              "    }\n",
              "\n",
              "    .colab-df-convert {\n",
              "      background-color: #E8F0FE;\n",
              "      border: none;\n",
              "      border-radius: 50%;\n",
              "      cursor: pointer;\n",
              "      display: none;\n",
              "      fill: #1967D2;\n",
              "      height: 32px;\n",
              "      padding: 0 0 0 0;\n",
              "      width: 32px;\n",
              "    }\n",
              "\n",
              "    .colab-df-convert:hover {\n",
              "      background-color: #E2EBFA;\n",
              "      box-shadow: 0px 1px 2px rgba(60, 64, 67, 0.3), 0px 1px 3px 1px rgba(60, 64, 67, 0.15);\n",
              "      fill: #174EA6;\n",
              "    }\n",
              "\n",
              "    [theme=dark] .colab-df-convert {\n",
              "      background-color: #3B4455;\n",
              "      fill: #D2E3FC;\n",
              "    }\n",
              "\n",
              "    [theme=dark] .colab-df-convert:hover {\n",
              "      background-color: #434B5C;\n",
              "      box-shadow: 0px 1px 3px 1px rgba(0, 0, 0, 0.15);\n",
              "      filter: drop-shadow(0px 1px 2px rgba(0, 0, 0, 0.3));\n",
              "      fill: #FFFFFF;\n",
              "    }\n",
              "  </style>\n",
              "\n",
              "      <script>\n",
              "        const buttonEl =\n",
              "          document.querySelector('#df-ef18ce25-f39f-4485-8a74-08e6abc62ec5 button.colab-df-convert');\n",
              "        buttonEl.style.display =\n",
              "          google.colab.kernel.accessAllowed ? 'block' : 'none';\n",
              "\n",
              "        async function convertToInteractive(key) {\n",
              "          const element = document.querySelector('#df-ef18ce25-f39f-4485-8a74-08e6abc62ec5');\n",
              "          const dataTable =\n",
              "            await google.colab.kernel.invokeFunction('convertToInteractive',\n",
              "                                                     [key], {});\n",
              "          if (!dataTable) return;\n",
              "\n",
              "          const docLinkHtml = 'Like what you see? Visit the ' +\n",
              "            '<a target=\"_blank\" href=https://colab.research.google.com/notebooks/data_table.ipynb>data table notebook</a>'\n",
              "            + ' to learn more about interactive tables.';\n",
              "          element.innerHTML = '';\n",
              "          dataTable['output_type'] = 'display_data';\n",
              "          await google.colab.output.renderOutput(dataTable, element);\n",
              "          const docLink = document.createElement('div');\n",
              "          docLink.innerHTML = docLinkHtml;\n",
              "          element.appendChild(docLink);\n",
              "        }\n",
              "      </script>\n",
              "    </div>\n",
              "  </div>\n",
              "  "
            ]
          },
          "metadata": {},
          "execution_count": 10
        }
      ]
    },
    {
      "cell_type": "markdown",
      "source": [
        "ORDENAMOS LOS INDICES EN ORDEN ALFABETICO PARA TENER UN CIERTO ORDEN Y PODER LLAMAR A LOS ELEMENTOS EN ORDEN"
      ],
      "metadata": {
        "id": "u75iexPJ0c7t"
      }
    },
    {
      "cell_type": "markdown",
      "source": [
        "# **LLAMAR A LOS ELEMENTOS DEACUERDO AL INDICE NUEVO**"
      ],
      "metadata": {
        "id": "gaBxrIaM0-cc"
      }
    },
    {
      "cell_type": "code",
      "source": [
        "index = df_students.index #NOS MUESTRA LOS INDICES DE LA TABLA\n",
        "index"
      ],
      "metadata": {
        "colab": {
          "base_uri": "https://localhost:8080/"
        },
        "id": "kLMFMS4_03v0",
        "outputId": "3b813b42-4bb8-4d0d-d076-07d53a721c85"
      },
      "execution_count": null,
      "outputs": [
        {
          "output_type": "execute_result",
          "data": {
            "text/plain": [
              "RangeIndex(start=0, stop=5, step=1)"
            ]
          },
          "metadata": {},
          "execution_count": 6
        }
      ]
    },
    {
      "cell_type": "markdown",
      "source": [
        "PODEMOS VER QUE SI LLAMAMOS ALA TABLA ORIGINAL, SUS INDICES SON NUMERICOS con saltos de uno en uno"
      ],
      "metadata": {
        "id": "Gc0WKZFb07zL"
      }
    },
    {
      "cell_type": "code",
      "source": [
        "index_names = df3_sorted.index #NOS MUESTRA LOS INDICES DE LA TABLA\n",
        "index_names"
      ],
      "metadata": {
        "colab": {
          "base_uri": "https://localhost:8080/"
        },
        "id": "3WkQiHyr1hpF",
        "outputId": "407f12d6-f449-4f6d-bf57-0eb266c562d7"
      },
      "execution_count": null,
      "outputs": [
        {
          "output_type": "execute_result",
          "data": {
            "text/plain": [
              "Index(['JANA', 'JAYA', 'JORGE', 'MIRIAM', 'OMAR'], dtype='object', name='NOMBRE')"
            ]
          },
          "metadata": {},
          "execution_count": 11
        }
      ]
    },
    {
      "cell_type": "markdown",
      "source": [
        "PODEMOS OBSERVAR AQUI QUE LOS INDICES SON LOS NOMBRES NO NUMERICOS Y QUE PERTENECEN ALA COLUMNA \"NOMBRE\""
      ],
      "metadata": {
        "id": "kO_I44FX1smS"
      }
    },
    {
      "cell_type": "code",
      "source": [
        "columns = df2.columns  # Note that 'name' is not one of the columns now. NOS MESTRA LAS COLUMNAS\n",
        "columns"
      ],
      "metadata": {
        "colab": {
          "base_uri": "https://localhost:8080/"
        },
        "id": "-CZX7zfT2dbN",
        "outputId": "d36893a6-eb0a-4e9a-fea3-068ce1b3be43"
      },
      "execution_count": null,
      "outputs": [
        {
          "output_type": "execute_result",
          "data": {
            "text/plain": [
              "Index(['APELLIDO', 'OCUPACION', 'GRADO_PREPARACION', 'CUIDAD', 'EDAD'], dtype='object')"
            ]
          },
          "metadata": {},
          "execution_count": 12
        }
      ]
    },
    {
      "cell_type": "markdown",
      "source": [
        "PODEMOS OBSERVAR QUE AL VER CUALES SON LOS AMUDIM, NO NOS SALE LA AMUDA NOMBRE, ESTO ES A CAUSE DE QUE LA COLUMNA DE \"NOMBRE\" LA CONVERTIMOS EN INDEX."
      ],
      "metadata": {
        "id": "DOkpdhPm2-X0"
      }
    },
    {
      "cell_type": "code",
      "source": [
        "values = df2.values #OBTENER LOS DATOS DE LLA TABLA\n",
        "values"
      ],
      "metadata": {
        "colab": {
          "base_uri": "https://localhost:8080/"
        },
        "id": "-0KFvS5sudgv",
        "outputId": "06de9e91-ae48-4cc3-cf80-9b62b913ccfa"
      },
      "execution_count": null,
      "outputs": [
        {
          "output_type": "execute_result",
          "data": {
            "text/plain": [
              "array([['CASTILLO', 'ESTUDIANTE', 'UNIVERSIDAD', nan, 23],\n",
              "       ['GAMBOA', 'PEON', nan, 'PUEBLA', 24],\n",
              "       ['JIMENES', 'ESTUDIANTE', 'KINDER', 'MANILA', 25],\n",
              "       ['RIERA', nan, 'PRREESCOLAR', 'TANGAMANDAPIO', 50],\n",
              "       ['GAMBOA', 'MELAVA', 'SECU', 'YAGUARU', 100]], dtype=object)"
            ]
          },
          "metadata": {},
          "execution_count": 5
        }
      ]
    },
    {
      "cell_type": "markdown",
      "source": [
        "OBTUVIMOS EL CONTENIDO DE LA TABLA. LA COLUMNA D E NOMBRES NO APARECE PORQ ES LA DE LOS INDICES DE LA TABLA."
      ],
      "metadata": {
        "id": "lTnuJ5J9u3TO"
      }
    },
    {
      "cell_type": "code",
      "source": [
        "type(index)"
      ],
      "metadata": {
        "colab": {
          "base_uri": "https://localhost:8080/"
        },
        "id": "H74enariwqrF",
        "outputId": "e7e2b056-cd24-470f-ca5b-cac30b3603b7"
      },
      "execution_count": null,
      "outputs": [
        {
          "output_type": "execute_result",
          "data": {
            "text/plain": [
              "pandas.core.indexes.range.RangeIndex"
            ]
          },
          "metadata": {},
          "execution_count": 13
        }
      ]
    },
    {
      "cell_type": "markdown",
      "source": [
        "podemos ver QUE LOS INDICES NUMERICOS DE LA TABLA df_students SON DE TIPO pandas Y SON UN RANGO DE NUMEROS"
      ],
      "metadata": {
        "id": "XbaYnooXxp0m"
      }
    },
    {
      "cell_type": "code",
      "source": [
        "type(index_names)"
      ],
      "metadata": {
        "colab": {
          "base_uri": "https://localhost:8080/"
        },
        "id": "Bps6mVOB06os",
        "outputId": "af3212fd-e0f7-466d-9b65-b1985bb50819"
      },
      "execution_count": null,
      "outputs": [
        {
          "output_type": "execute_result",
          "data": {
            "text/plain": [
              "pandas.core.indexes.base.Index"
            ]
          },
          "metadata": {},
          "execution_count": 14
        }
      ]
    },
    {
      "cell_type": "markdown",
      "source": [
        "AQUI PODEMOS VER QUE TAMBN ES DE TIPO PANDAS PERO EL TOJEN DE LOS INDEX ES DIFERENTE, OSEA SON STRINGS."
      ],
      "metadata": {
        "id": "xKZBjlKw1B8m"
      }
    },
    {
      "cell_type": "code",
      "source": [
        "type(columns)"
      ],
      "metadata": {
        "colab": {
          "base_uri": "https://localhost:8080/"
        },
        "id": "CAretTJZ1vbD",
        "outputId": "40acb8be-8440-406a-e231-9d262cfc3734"
      },
      "execution_count": null,
      "outputs": [
        {
          "output_type": "execute_result",
          "data": {
            "text/plain": [
              "pandas.core.indexes.base.Index"
            ]
          },
          "metadata": {},
          "execution_count": 15
        }
      ]
    },
    {
      "cell_type": "markdown",
      "source": [
        "PODEMOS OBSERVAR QUE EL TYP DE index_names Y EL TIPO DE columns ES EL MISMO. EN OTRAS PALABRAS LA VARIABLE columns TAMBIEN SON DE TIPO DE INDICES Y DE PUEDE ACCEDER A ELLOS COMO UN INDICE."
      ],
      "metadata": {
        "id": "CcBfZtrO14BK"
      }
    },
    {
      "cell_type": "code",
      "source": [
        "type(values)"
      ],
      "metadata": {
        "colab": {
          "base_uri": "https://localhost:8080/"
        },
        "id": "Gj_W5cVj24EC",
        "outputId": "b359c136-c416-4bc2-dc2c-d3e2f3fe15d6"
      },
      "execution_count": null,
      "outputs": [
        {
          "output_type": "execute_result",
          "data": {
            "text/plain": [
              "numpy.ndarray"
            ]
          },
          "metadata": {},
          "execution_count": 16
        }
      ]
    },
    {
      "cell_type": "markdown",
      "source": [
        "PODEMOS VER QUE EL CONTENIDO DE LA TABLA ES DE TIPO ARRAY, OSEA QUE SE PODRIA ACCEDER A ELLOS COMO ALOS ARRAY"
      ],
      "metadata": {
        "id": "KOZp5PFG29J1"
      }
    },
    {
      "cell_type": "markdown",
      "source": [
        "# **COMO OBTENER DATOS DE LA TABLA**"
      ],
      "metadata": {
        "id": "PV95nrqC4KI5"
      }
    },
    {
      "cell_type": "markdown",
      "source": [
        "***PRIMERO INCIAMOS CON NOMBRE_DE_LATABLA[ ]***"
      ],
      "metadata": {
        "id": "GHwsGoK64uM5"
      }
    },
    {
      "cell_type": "code",
      "source": [
        "df2"
      ],
      "metadata": {
        "colab": {
          "base_uri": "https://localhost:8080/",
          "height": 237
        },
        "id": "XZSu26kA47_B",
        "outputId": "d63dcd3f-9f24-4b43-adaa-746c0039a859"
      },
      "execution_count": null,
      "outputs": [
        {
          "output_type": "execute_result",
          "data": {
            "text/plain": [
              "        APELLIDO   OCUPACION GRADO_PREPARACION         CUIDAD  EDAD\n",
              "NOMBRE                                                             \n",
              "JORGE   CASTILLO  ESTUDIANTE       UNIVERSIDAD            NaN    23\n",
              "OMAR      GAMBOA        PEON               NaN         PUEBLA    24\n",
              "MIRIAM   JIMENES  ESTUDIANTE            KINDER         MANILA    25\n",
              "JAYA       RIERA         NaN       PRREESCOLAR  TANGAMANDAPIO    50\n",
              "JANA      GAMBOA      MELAVA              SECU        YAGUARU   100"
            ],
            "text/html": [
              "\n",
              "  <div id=\"df-9a962cb1-bd59-4149-b828-7f70d4489907\">\n",
              "    <div class=\"colab-df-container\">\n",
              "      <div>\n",
              "<style scoped>\n",
              "    .dataframe tbody tr th:only-of-type {\n",
              "        vertical-align: middle;\n",
              "    }\n",
              "\n",
              "    .dataframe tbody tr th {\n",
              "        vertical-align: top;\n",
              "    }\n",
              "\n",
              "    .dataframe thead th {\n",
              "        text-align: right;\n",
              "    }\n",
              "</style>\n",
              "<table border=\"1\" class=\"dataframe\">\n",
              "  <thead>\n",
              "    <tr style=\"text-align: right;\">\n",
              "      <th></th>\n",
              "      <th>APELLIDO</th>\n",
              "      <th>OCUPACION</th>\n",
              "      <th>GRADO_PREPARACION</th>\n",
              "      <th>CUIDAD</th>\n",
              "      <th>EDAD</th>\n",
              "    </tr>\n",
              "    <tr>\n",
              "      <th>NOMBRE</th>\n",
              "      <th></th>\n",
              "      <th></th>\n",
              "      <th></th>\n",
              "      <th></th>\n",
              "      <th></th>\n",
              "    </tr>\n",
              "  </thead>\n",
              "  <tbody>\n",
              "    <tr>\n",
              "      <th>JORGE</th>\n",
              "      <td>CASTILLO</td>\n",
              "      <td>ESTUDIANTE</td>\n",
              "      <td>UNIVERSIDAD</td>\n",
              "      <td>NaN</td>\n",
              "      <td>23</td>\n",
              "    </tr>\n",
              "    <tr>\n",
              "      <th>OMAR</th>\n",
              "      <td>GAMBOA</td>\n",
              "      <td>PEON</td>\n",
              "      <td>NaN</td>\n",
              "      <td>PUEBLA</td>\n",
              "      <td>24</td>\n",
              "    </tr>\n",
              "    <tr>\n",
              "      <th>MIRIAM</th>\n",
              "      <td>JIMENES</td>\n",
              "      <td>ESTUDIANTE</td>\n",
              "      <td>KINDER</td>\n",
              "      <td>MANILA</td>\n",
              "      <td>25</td>\n",
              "    </tr>\n",
              "    <tr>\n",
              "      <th>JAYA</th>\n",
              "      <td>RIERA</td>\n",
              "      <td>NaN</td>\n",
              "      <td>PRREESCOLAR</td>\n",
              "      <td>TANGAMANDAPIO</td>\n",
              "      <td>50</td>\n",
              "    </tr>\n",
              "    <tr>\n",
              "      <th>JANA</th>\n",
              "      <td>GAMBOA</td>\n",
              "      <td>MELAVA</td>\n",
              "      <td>SECU</td>\n",
              "      <td>YAGUARU</td>\n",
              "      <td>100</td>\n",
              "    </tr>\n",
              "  </tbody>\n",
              "</table>\n",
              "</div>\n",
              "      <button class=\"colab-df-convert\" onclick=\"convertToInteractive('df-9a962cb1-bd59-4149-b828-7f70d4489907')\"\n",
              "              title=\"Convert this dataframe to an interactive table.\"\n",
              "              style=\"display:none;\">\n",
              "        \n",
              "  <svg xmlns=\"http://www.w3.org/2000/svg\" height=\"24px\"viewBox=\"0 0 24 24\"\n",
              "       width=\"24px\">\n",
              "    <path d=\"M0 0h24v24H0V0z\" fill=\"none\"/>\n",
              "    <path d=\"M18.56 5.44l.94 2.06.94-2.06 2.06-.94-2.06-.94-.94-2.06-.94 2.06-2.06.94zm-11 1L8.5 8.5l.94-2.06 2.06-.94-2.06-.94L8.5 2.5l-.94 2.06-2.06.94zm10 10l.94 2.06.94-2.06 2.06-.94-2.06-.94-.94-2.06-.94 2.06-2.06.94z\"/><path d=\"M17.41 7.96l-1.37-1.37c-.4-.4-.92-.59-1.43-.59-.52 0-1.04.2-1.43.59L10.3 9.45l-7.72 7.72c-.78.78-.78 2.05 0 2.83L4 21.41c.39.39.9.59 1.41.59.51 0 1.02-.2 1.41-.59l7.78-7.78 2.81-2.81c.8-.78.8-2.07 0-2.86zM5.41 20L4 18.59l7.72-7.72 1.47 1.35L5.41 20z\"/>\n",
              "  </svg>\n",
              "      </button>\n",
              "      \n",
              "  <style>\n",
              "    .colab-df-container {\n",
              "      display:flex;\n",
              "      flex-wrap:wrap;\n",
              "      gap: 12px;\n",
              "    }\n",
              "\n",
              "    .colab-df-convert {\n",
              "      background-color: #E8F0FE;\n",
              "      border: none;\n",
              "      border-radius: 50%;\n",
              "      cursor: pointer;\n",
              "      display: none;\n",
              "      fill: #1967D2;\n",
              "      height: 32px;\n",
              "      padding: 0 0 0 0;\n",
              "      width: 32px;\n",
              "    }\n",
              "\n",
              "    .colab-df-convert:hover {\n",
              "      background-color: #E2EBFA;\n",
              "      box-shadow: 0px 1px 2px rgba(60, 64, 67, 0.3), 0px 1px 3px 1px rgba(60, 64, 67, 0.15);\n",
              "      fill: #174EA6;\n",
              "    }\n",
              "\n",
              "    [theme=dark] .colab-df-convert {\n",
              "      background-color: #3B4455;\n",
              "      fill: #D2E3FC;\n",
              "    }\n",
              "\n",
              "    [theme=dark] .colab-df-convert:hover {\n",
              "      background-color: #434B5C;\n",
              "      box-shadow: 0px 1px 3px 1px rgba(0, 0, 0, 0.15);\n",
              "      filter: drop-shadow(0px 1px 2px rgba(0, 0, 0, 0.3));\n",
              "      fill: #FFFFFF;\n",
              "    }\n",
              "  </style>\n",
              "\n",
              "      <script>\n",
              "        const buttonEl =\n",
              "          document.querySelector('#df-9a962cb1-bd59-4149-b828-7f70d4489907 button.colab-df-convert');\n",
              "        buttonEl.style.display =\n",
              "          google.colab.kernel.accessAllowed ? 'block' : 'none';\n",
              "\n",
              "        async function convertToInteractive(key) {\n",
              "          const element = document.querySelector('#df-9a962cb1-bd59-4149-b828-7f70d4489907');\n",
              "          const dataTable =\n",
              "            await google.colab.kernel.invokeFunction('convertToInteractive',\n",
              "                                                     [key], {});\n",
              "          if (!dataTable) return;\n",
              "\n",
              "          const docLinkHtml = 'Like what you see? Visit the ' +\n",
              "            '<a target=\"_blank\" href=https://colab.research.google.com/notebooks/data_table.ipynb>data table notebook</a>'\n",
              "            + ' to learn more about interactive tables.';\n",
              "          element.innerHTML = '';\n",
              "          dataTable['output_type'] = 'display_data';\n",
              "          await google.colab.output.renderOutput(dataTable, element);\n",
              "          const docLink = document.createElement('div');\n",
              "          docLink.innerHTML = docLinkHtml;\n",
              "          element.appendChild(docLink);\n",
              "        }\n",
              "      </script>\n",
              "    </div>\n",
              "  </div>\n",
              "  "
            ]
          },
          "metadata": {},
          "execution_count": 17
        }
      ]
    },
    {
      "cell_type": "markdown",
      "source": [
        "COMO YA VIMOS ANTERIORMENTE, LOS INDICES PASARON A SER DE NUMERICOS A LOS NOMBRES DE LOS ESTUDIANTES"
      ],
      "metadata": {
        "id": "ZvREeoe25JsQ"
      }
    },
    {
      "cell_type": "code",
      "source": [
        "df2['OCUPACION']"
      ],
      "metadata": {
        "colab": {
          "base_uri": "https://localhost:8080/"
        },
        "id": "q3kjLB265r-B",
        "outputId": "d1a08d19-b2da-440b-b90e-3d1c2c18e33c"
      },
      "execution_count": null,
      "outputs": [
        {
          "output_type": "execute_result",
          "data": {
            "text/plain": [
              "NOMBRE\n",
              "JORGE     ESTUDIANTE\n",
              "OMAR            PEON\n",
              "MIRIAM    ESTUDIANTE\n",
              "JAYA             NaN\n",
              "JANA          MELAVA\n",
              "Name: OCUPACION, dtype: object"
            ]
          },
          "metadata": {},
          "execution_count": 18
        }
      ]
    },
    {
      "cell_type": "markdown",
      "source": [
        "AHORA SE APRECIA QUE LOS INDICES SON LOS NOMBRES DEL ALUMNO Y LA INFROMACION QUE PEDIMOS ES EL NOMBRE D ELA COLUMNA 'OCUPACION'"
      ],
      "metadata": {
        "id": "MX8GbhL255Kq"
      }
    },
    {
      "cell_type": "code",
      "source": [
        "type(df2['OCUPACION'])"
      ],
      "metadata": {
        "colab": {
          "base_uri": "https://localhost:8080/"
        },
        "id": "m4z3FnAk6Q1Y",
        "outputId": "06175262-4f63-43b9-80ee-29d68372674e"
      },
      "execution_count": null,
      "outputs": [
        {
          "output_type": "execute_result",
          "data": {
            "text/plain": [
              "pandas.core.series.Series"
            ]
          },
          "metadata": {},
          "execution_count": 19
        }
      ]
    },
    {
      "cell_type": "markdown",
      "source": [
        "PODEMOS OBSERVAR QUE EL TYPO DE LA COLUMNA QUE SELECCIONAMOS PARA SU INFORMACION ES DE TIPO SERIES DELA LIBRERIA PANDAS"
      ],
      "metadata": {
        "id": "JqS3pKtu61Mw"
      }
    },
    {
      "cell_type": "code",
      "source": [
        "print(df2['OCUPACION'].index)\n",
        "df2.index"
      ],
      "metadata": {
        "colab": {
          "base_uri": "https://localhost:8080/"
        },
        "id": "lVo1-3rZ7MXA",
        "outputId": "f476ca0b-3e36-4f8c-b88c-0fb35df99e6b"
      },
      "execution_count": null,
      "outputs": [
        {
          "output_type": "stream",
          "name": "stdout",
          "text": [
            "Index(['JORGE', 'OMAR', 'MIRIAM', 'JAYA', 'JANA'], dtype='object', name='NOMBRE')\n"
          ]
        },
        {
          "output_type": "execute_result",
          "data": {
            "text/plain": [
              "Index(['JORGE', 'OMAR', 'MIRIAM', 'JAYA', 'JANA'], dtype='object', name='NOMBRE')"
            ]
          },
          "metadata": {},
          "execution_count": 22
        }
      ]
    },
    {
      "cell_type": "markdown",
      "source": [
        "PODEMOS VER QUE EXISTEN 2 MANERAS PARA VER LOS INDICES DE LA TABLA EN EL COMMANDO ANTERIOR"
      ],
      "metadata": {
        "id": "XD38o5w68L9w"
      }
    },
    {
      "cell_type": "code",
      "source": [
        "df2['OCUPACION'].values #obtiene los valores de la columna 'OCUPACION' retornandonos un array con la info"
      ],
      "metadata": {
        "colab": {
          "base_uri": "https://localhost:8080/"
        },
        "id": "9DP8jVKT8ezx",
        "outputId": "b5f89817-9ad7-4e1e-aea6-e6cf9b3899f2"
      },
      "execution_count": null,
      "outputs": [
        {
          "output_type": "execute_result",
          "data": {
            "text/plain": [
              "array(['ESTUDIANTE', 'PEON', 'ESTUDIANTE', nan, 'MELAVA'], dtype=object)"
            ]
          },
          "metadata": {},
          "execution_count": 23
        }
      ]
    },
    {
      "cell_type": "markdown",
      "source": [
        "podemos VER QU EL RESULTADO AL OBTENER LOS VALORES DE LA COLUMNA ES DE TIPO ARRAY. ESTO QUIERE DECIR QUE EL ARRAY LO PODEMOS GUARDAR EN UNA VARIABLE Y LUEGO OBTENER LA INFORMACION COMO CON UN ARRAY"
      ],
      "metadata": {
        "id": "5WJoZdqK8mv_"
      }
    },
    {
      "cell_type": "code",
      "source": [
        "print(type(df2['OCUPACION']))\n",
        "df2['OCUPACION']"
      ],
      "metadata": {
        "colab": {
          "base_uri": "https://localhost:8080/"
        },
        "id": "Lylrxk_JAUbG",
        "outputId": "172bfaa2-ad2c-4662-f93e-5395cd723866"
      },
      "execution_count": null,
      "outputs": [
        {
          "output_type": "stream",
          "name": "stdout",
          "text": [
            "<class 'pandas.core.series.Series'>\n"
          ]
        },
        {
          "output_type": "execute_result",
          "data": {
            "text/plain": [
              "NOMBRE\n",
              "JORGE     ESTUDIANTE\n",
              "OMAR            PEON\n",
              "MIRIAM    ESTUDIANTE\n",
              "JAYA             NaN\n",
              "JANA          MELAVA\n",
              "Name: OCUPACION, dtype: object"
            ]
          },
          "metadata": {},
          "execution_count": 27
        }
      ]
    },
    {
      "cell_type": "markdown",
      "source": [
        "AQUI PODEMOS OBSERVAR QUE DE ESTA FORMA PODEMOS OBTENER LA INFORMACION POR MEDIO DE OBJETO, OSEA QUE LA INFO ESTA ENCAPSULADA EN FORMA DE OBJETO del tipo SERIES"
      ],
      "metadata": {
        "id": "EnS87Y5yAqX_"
      }
    },
    {
      "cell_type": "markdown",
      "source": [
        "# **SELECCIONAR MULTIPLES COLUMNAS PARA OBTENER INFO**"
      ],
      "metadata": {
        "id": "-Jw7R-7dDelu"
      }
    },
    {
      "cell_type": "code",
      "source": [
        "print(df2)"
      ],
      "metadata": {
        "colab": {
          "base_uri": "https://localhost:8080/"
        },
        "id": "vn4y5YF6E-TM",
        "outputId": "a922aff9-7577-4d4e-ed3b-ac011cd3d374"
      },
      "execution_count": null,
      "outputs": [
        {
          "output_type": "stream",
          "name": "stdout",
          "text": [
            "        APELLIDO   OCUPACION GRADO_PREPARACION         CUIDAD  EDAD\n",
            "NOMBRE                                                             \n",
            "JORGE   CASTILLO  ESTUDIANTE       UNIVERSIDAD            NaN    23\n",
            "OMAR      GAMBOA        PEON               NaN         PUEBLA    24\n",
            "MIRIAM   JIMENES  ESTUDIANTE            KINDER         MANILA    25\n",
            "JAYA       RIERA         NaN       PRREESCOLAR  TANGAMANDAPIO    50\n",
            "JANA      GAMBOA      MELAVA              SECU        YAGUARU   100\n"
          ]
        }
      ]
    },
    {
      "cell_type": "code",
      "source": [
        "print(type(df2[['APELLIDO', 'GRADO_PREPARACION', 'EDAD']]))\n",
        "df2[['APELLIDO', 'GRADO_PREPARACION', 'EDAD']]"
      ],
      "metadata": {
        "colab": {
          "base_uri": "https://localhost:8080/",
          "height": 255
        },
        "id": "9E1mlhKZDqGA",
        "outputId": "3fb007ab-9a18-4a52-96c4-3d3dd9dc9a1b"
      },
      "execution_count": null,
      "outputs": [
        {
          "output_type": "stream",
          "name": "stdout",
          "text": [
            "<class 'pandas.core.frame.DataFrame'>\n"
          ]
        },
        {
          "output_type": "execute_result",
          "data": {
            "text/plain": [
              "        APELLIDO GRADO_PREPARACION  EDAD\n",
              "NOMBRE                                  \n",
              "JORGE   CASTILLO       UNIVERSIDAD    23\n",
              "OMAR      GAMBOA               NaN    24\n",
              "MIRIAM   JIMENES            KINDER    25\n",
              "JAYA       RIERA       PRREESCOLAR    50\n",
              "JANA      GAMBOA              SECU   100"
            ],
            "text/html": [
              "\n",
              "  <div id=\"df-177d225b-20fc-4096-a48b-45f753de925a\">\n",
              "    <div class=\"colab-df-container\">\n",
              "      <div>\n",
              "<style scoped>\n",
              "    .dataframe tbody tr th:only-of-type {\n",
              "        vertical-align: middle;\n",
              "    }\n",
              "\n",
              "    .dataframe tbody tr th {\n",
              "        vertical-align: top;\n",
              "    }\n",
              "\n",
              "    .dataframe thead th {\n",
              "        text-align: right;\n",
              "    }\n",
              "</style>\n",
              "<table border=\"1\" class=\"dataframe\">\n",
              "  <thead>\n",
              "    <tr style=\"text-align: right;\">\n",
              "      <th></th>\n",
              "      <th>APELLIDO</th>\n",
              "      <th>GRADO_PREPARACION</th>\n",
              "      <th>EDAD</th>\n",
              "    </tr>\n",
              "    <tr>\n",
              "      <th>NOMBRE</th>\n",
              "      <th></th>\n",
              "      <th></th>\n",
              "      <th></th>\n",
              "    </tr>\n",
              "  </thead>\n",
              "  <tbody>\n",
              "    <tr>\n",
              "      <th>JORGE</th>\n",
              "      <td>CASTILLO</td>\n",
              "      <td>UNIVERSIDAD</td>\n",
              "      <td>23</td>\n",
              "    </tr>\n",
              "    <tr>\n",
              "      <th>OMAR</th>\n",
              "      <td>GAMBOA</td>\n",
              "      <td>NaN</td>\n",
              "      <td>24</td>\n",
              "    </tr>\n",
              "    <tr>\n",
              "      <th>MIRIAM</th>\n",
              "      <td>JIMENES</td>\n",
              "      <td>KINDER</td>\n",
              "      <td>25</td>\n",
              "    </tr>\n",
              "    <tr>\n",
              "      <th>JAYA</th>\n",
              "      <td>RIERA</td>\n",
              "      <td>PRREESCOLAR</td>\n",
              "      <td>50</td>\n",
              "    </tr>\n",
              "    <tr>\n",
              "      <th>JANA</th>\n",
              "      <td>GAMBOA</td>\n",
              "      <td>SECU</td>\n",
              "      <td>100</td>\n",
              "    </tr>\n",
              "  </tbody>\n",
              "</table>\n",
              "</div>\n",
              "      <button class=\"colab-df-convert\" onclick=\"convertToInteractive('df-177d225b-20fc-4096-a48b-45f753de925a')\"\n",
              "              title=\"Convert this dataframe to an interactive table.\"\n",
              "              style=\"display:none;\">\n",
              "        \n",
              "  <svg xmlns=\"http://www.w3.org/2000/svg\" height=\"24px\"viewBox=\"0 0 24 24\"\n",
              "       width=\"24px\">\n",
              "    <path d=\"M0 0h24v24H0V0z\" fill=\"none\"/>\n",
              "    <path d=\"M18.56 5.44l.94 2.06.94-2.06 2.06-.94-2.06-.94-.94-2.06-.94 2.06-2.06.94zm-11 1L8.5 8.5l.94-2.06 2.06-.94-2.06-.94L8.5 2.5l-.94 2.06-2.06.94zm10 10l.94 2.06.94-2.06 2.06-.94-2.06-.94-.94-2.06-.94 2.06-2.06.94z\"/><path d=\"M17.41 7.96l-1.37-1.37c-.4-.4-.92-.59-1.43-.59-.52 0-1.04.2-1.43.59L10.3 9.45l-7.72 7.72c-.78.78-.78 2.05 0 2.83L4 21.41c.39.39.9.59 1.41.59.51 0 1.02-.2 1.41-.59l7.78-7.78 2.81-2.81c.8-.78.8-2.07 0-2.86zM5.41 20L4 18.59l7.72-7.72 1.47 1.35L5.41 20z\"/>\n",
              "  </svg>\n",
              "      </button>\n",
              "      \n",
              "  <style>\n",
              "    .colab-df-container {\n",
              "      display:flex;\n",
              "      flex-wrap:wrap;\n",
              "      gap: 12px;\n",
              "    }\n",
              "\n",
              "    .colab-df-convert {\n",
              "      background-color: #E8F0FE;\n",
              "      border: none;\n",
              "      border-radius: 50%;\n",
              "      cursor: pointer;\n",
              "      display: none;\n",
              "      fill: #1967D2;\n",
              "      height: 32px;\n",
              "      padding: 0 0 0 0;\n",
              "      width: 32px;\n",
              "    }\n",
              "\n",
              "    .colab-df-convert:hover {\n",
              "      background-color: #E2EBFA;\n",
              "      box-shadow: 0px 1px 2px rgba(60, 64, 67, 0.3), 0px 1px 3px 1px rgba(60, 64, 67, 0.15);\n",
              "      fill: #174EA6;\n",
              "    }\n",
              "\n",
              "    [theme=dark] .colab-df-convert {\n",
              "      background-color: #3B4455;\n",
              "      fill: #D2E3FC;\n",
              "    }\n",
              "\n",
              "    [theme=dark] .colab-df-convert:hover {\n",
              "      background-color: #434B5C;\n",
              "      box-shadow: 0px 1px 3px 1px rgba(0, 0, 0, 0.15);\n",
              "      filter: drop-shadow(0px 1px 2px rgba(0, 0, 0, 0.3));\n",
              "      fill: #FFFFFF;\n",
              "    }\n",
              "  </style>\n",
              "\n",
              "      <script>\n",
              "        const buttonEl =\n",
              "          document.querySelector('#df-177d225b-20fc-4096-a48b-45f753de925a button.colab-df-convert');\n",
              "        buttonEl.style.display =\n",
              "          google.colab.kernel.accessAllowed ? 'block' : 'none';\n",
              "\n",
              "        async function convertToInteractive(key) {\n",
              "          const element = document.querySelector('#df-177d225b-20fc-4096-a48b-45f753de925a');\n",
              "          const dataTable =\n",
              "            await google.colab.kernel.invokeFunction('convertToInteractive',\n",
              "                                                     [key], {});\n",
              "          if (!dataTable) return;\n",
              "\n",
              "          const docLinkHtml = 'Like what you see? Visit the ' +\n",
              "            '<a target=\"_blank\" href=https://colab.research.google.com/notebooks/data_table.ipynb>data table notebook</a>'\n",
              "            + ' to learn more about interactive tables.';\n",
              "          element.innerHTML = '';\n",
              "          dataTable['output_type'] = 'display_data';\n",
              "          await google.colab.output.renderOutput(dataTable, element);\n",
              "          const docLink = document.createElement('div');\n",
              "          docLink.innerHTML = docLinkHtml;\n",
              "          element.appendChild(docLink);\n",
              "        }\n",
              "      </script>\n",
              "    </div>\n",
              "  </div>\n",
              "  "
            ]
          },
          "metadata": {},
          "execution_count": 31
        }
      ]
    },
    {
      "cell_type": "markdown",
      "source": [
        "PODEMOS OBTENER 1 O MAS COLUMNAS DE UN JALE, PONIENDOLAS EN FORMA DE LISTA entre [ ]. EL TIPO DEL RESULTADO ES UN DATAFRAME. INCLUSO PODEMOS OBTENER UNA COLUMNA Y DE TODAS FORMAS EL TIPO ES DATA FRAME."
      ],
      "metadata": {
        "id": "-yso5dVyFqJj"
      }
    },
    {
      "cell_type": "code",
      "source": [
        "df2[['EDAD','GRADO_PREPARACION','APELLIDO']]"
      ],
      "metadata": {
        "colab": {
          "base_uri": "https://localhost:8080/",
          "height": 237
        },
        "id": "VO81ZC8hJj6m",
        "outputId": "907d6e9e-f1ab-4e91-a7fc-0122409ef661"
      },
      "execution_count": null,
      "outputs": [
        {
          "output_type": "execute_result",
          "data": {
            "text/plain": [
              "        EDAD GRADO_PREPARACION  APELLIDO\n",
              "NOMBRE                                  \n",
              "JORGE     23       UNIVERSIDAD  CASTILLO\n",
              "OMAR      24               NaN    GAMBOA\n",
              "MIRIAM    25            KINDER   JIMENES\n",
              "JAYA      50       PRREESCOLAR     RIERA\n",
              "JANA     100              SECU    GAMBOA"
            ],
            "text/html": [
              "\n",
              "  <div id=\"df-bf31d584-305b-4ec9-b8cd-8f752263feff\">\n",
              "    <div class=\"colab-df-container\">\n",
              "      <div>\n",
              "<style scoped>\n",
              "    .dataframe tbody tr th:only-of-type {\n",
              "        vertical-align: middle;\n",
              "    }\n",
              "\n",
              "    .dataframe tbody tr th {\n",
              "        vertical-align: top;\n",
              "    }\n",
              "\n",
              "    .dataframe thead th {\n",
              "        text-align: right;\n",
              "    }\n",
              "</style>\n",
              "<table border=\"1\" class=\"dataframe\">\n",
              "  <thead>\n",
              "    <tr style=\"text-align: right;\">\n",
              "      <th></th>\n",
              "      <th>EDAD</th>\n",
              "      <th>GRADO_PREPARACION</th>\n",
              "      <th>APELLIDO</th>\n",
              "    </tr>\n",
              "    <tr>\n",
              "      <th>NOMBRE</th>\n",
              "      <th></th>\n",
              "      <th></th>\n",
              "      <th></th>\n",
              "    </tr>\n",
              "  </thead>\n",
              "  <tbody>\n",
              "    <tr>\n",
              "      <th>JORGE</th>\n",
              "      <td>23</td>\n",
              "      <td>UNIVERSIDAD</td>\n",
              "      <td>CASTILLO</td>\n",
              "    </tr>\n",
              "    <tr>\n",
              "      <th>OMAR</th>\n",
              "      <td>24</td>\n",
              "      <td>NaN</td>\n",
              "      <td>GAMBOA</td>\n",
              "    </tr>\n",
              "    <tr>\n",
              "      <th>MIRIAM</th>\n",
              "      <td>25</td>\n",
              "      <td>KINDER</td>\n",
              "      <td>JIMENES</td>\n",
              "    </tr>\n",
              "    <tr>\n",
              "      <th>JAYA</th>\n",
              "      <td>50</td>\n",
              "      <td>PRREESCOLAR</td>\n",
              "      <td>RIERA</td>\n",
              "    </tr>\n",
              "    <tr>\n",
              "      <th>JANA</th>\n",
              "      <td>100</td>\n",
              "      <td>SECU</td>\n",
              "      <td>GAMBOA</td>\n",
              "    </tr>\n",
              "  </tbody>\n",
              "</table>\n",
              "</div>\n",
              "      <button class=\"colab-df-convert\" onclick=\"convertToInteractive('df-bf31d584-305b-4ec9-b8cd-8f752263feff')\"\n",
              "              title=\"Convert this dataframe to an interactive table.\"\n",
              "              style=\"display:none;\">\n",
              "        \n",
              "  <svg xmlns=\"http://www.w3.org/2000/svg\" height=\"24px\"viewBox=\"0 0 24 24\"\n",
              "       width=\"24px\">\n",
              "    <path d=\"M0 0h24v24H0V0z\" fill=\"none\"/>\n",
              "    <path d=\"M18.56 5.44l.94 2.06.94-2.06 2.06-.94-2.06-.94-.94-2.06-.94 2.06-2.06.94zm-11 1L8.5 8.5l.94-2.06 2.06-.94-2.06-.94L8.5 2.5l-.94 2.06-2.06.94zm10 10l.94 2.06.94-2.06 2.06-.94-2.06-.94-.94-2.06-.94 2.06-2.06.94z\"/><path d=\"M17.41 7.96l-1.37-1.37c-.4-.4-.92-.59-1.43-.59-.52 0-1.04.2-1.43.59L10.3 9.45l-7.72 7.72c-.78.78-.78 2.05 0 2.83L4 21.41c.39.39.9.59 1.41.59.51 0 1.02-.2 1.41-.59l7.78-7.78 2.81-2.81c.8-.78.8-2.07 0-2.86zM5.41 20L4 18.59l7.72-7.72 1.47 1.35L5.41 20z\"/>\n",
              "  </svg>\n",
              "      </button>\n",
              "      \n",
              "  <style>\n",
              "    .colab-df-container {\n",
              "      display:flex;\n",
              "      flex-wrap:wrap;\n",
              "      gap: 12px;\n",
              "    }\n",
              "\n",
              "    .colab-df-convert {\n",
              "      background-color: #E8F0FE;\n",
              "      border: none;\n",
              "      border-radius: 50%;\n",
              "      cursor: pointer;\n",
              "      display: none;\n",
              "      fill: #1967D2;\n",
              "      height: 32px;\n",
              "      padding: 0 0 0 0;\n",
              "      width: 32px;\n",
              "    }\n",
              "\n",
              "    .colab-df-convert:hover {\n",
              "      background-color: #E2EBFA;\n",
              "      box-shadow: 0px 1px 2px rgba(60, 64, 67, 0.3), 0px 1px 3px 1px rgba(60, 64, 67, 0.15);\n",
              "      fill: #174EA6;\n",
              "    }\n",
              "\n",
              "    [theme=dark] .colab-df-convert {\n",
              "      background-color: #3B4455;\n",
              "      fill: #D2E3FC;\n",
              "    }\n",
              "\n",
              "    [theme=dark] .colab-df-convert:hover {\n",
              "      background-color: #434B5C;\n",
              "      box-shadow: 0px 1px 3px 1px rgba(0, 0, 0, 0.15);\n",
              "      filter: drop-shadow(0px 1px 2px rgba(0, 0, 0, 0.3));\n",
              "      fill: #FFFFFF;\n",
              "    }\n",
              "  </style>\n",
              "\n",
              "      <script>\n",
              "        const buttonEl =\n",
              "          document.querySelector('#df-bf31d584-305b-4ec9-b8cd-8f752263feff button.colab-df-convert');\n",
              "        buttonEl.style.display =\n",
              "          google.colab.kernel.accessAllowed ? 'block' : 'none';\n",
              "\n",
              "        async function convertToInteractive(key) {\n",
              "          const element = document.querySelector('#df-bf31d584-305b-4ec9-b8cd-8f752263feff');\n",
              "          const dataTable =\n",
              "            await google.colab.kernel.invokeFunction('convertToInteractive',\n",
              "                                                     [key], {});\n",
              "          if (!dataTable) return;\n",
              "\n",
              "          const docLinkHtml = 'Like what you see? Visit the ' +\n",
              "            '<a target=\"_blank\" href=https://colab.research.google.com/notebooks/data_table.ipynb>data table notebook</a>'\n",
              "            + ' to learn more about interactive tables.';\n",
              "          element.innerHTML = '';\n",
              "          dataTable['output_type'] = 'display_data';\n",
              "          await google.colab.output.renderOutput(dataTable, element);\n",
              "          const docLink = document.createElement('div');\n",
              "          docLink.innerHTML = docLinkHtml;\n",
              "          element.appendChild(docLink);\n",
              "        }\n",
              "      </script>\n",
              "    </div>\n",
              "  </div>\n",
              "  "
            ]
          },
          "metadata": {},
          "execution_count": 32
        }
      ]
    },
    {
      "cell_type": "markdown",
      "source": [
        "INCLUSO PODEMOS REVERTIR EL ORDEN DE LA TABLA O NUESTRO GUSTO."
      ],
      "metadata": {
        "id": "lDUKu4u_Jz1B"
      }
    },
    {
      "cell_type": "markdown",
      "source": [
        "# **USO DE loc[ ]**"
      ],
      "metadata": {
        "id": "f7A0gVfkMHzL"
      }
    },
    {
      "cell_type": "markdown",
      "source": [
        "PODEMOS USAR [ ] PARA OBTENER LA INFORMACION DE UNA HILERA DE LA TABLA PERO NO ES RECOMENDABLE. PARA ESTEOBJETIVO USAMOS LA FUNCION loc[ ]. CON ESTA FUNCION PODEMOS OBTENER UNA HILERA PARA OBTENER INFORMACION D ELLA.\n",
        "\n",
        "CON loc[ ] CAMBIAMOS LA PERSPECTIVA, AHORA LOS NOMBRES DE LAS COLUMNAS SON LOS INDICES Y LOS NOMBRES DE LAS HILERAS SON COMO LAS COLUMNAS."
      ],
      "metadata": {
        "id": "W9f1FoB5MehL"
      }
    },
    {
      "cell_type": "code",
      "source": [
        "df2"
      ],
      "metadata": {
        "colab": {
          "base_uri": "https://localhost:8080/",
          "height": 237
        },
        "id": "2RP42AxxRExH",
        "outputId": "fb59315b-7fd9-4c52-bcb4-8edceed26ebc"
      },
      "execution_count": null,
      "outputs": [
        {
          "output_type": "execute_result",
          "data": {
            "text/plain": [
              "        APELLIDO   OCUPACION GRADO_PREPARACION         CUIDAD  EDAD\n",
              "NOMBRE                                                             \n",
              "JORGE   CASTILLO  ESTUDIANTE       UNIVERSIDAD            NaN    23\n",
              "OMAR      GAMBOA        PEON               NaN         PUEBLA    24\n",
              "MIRIAM   JIMENES  ESTUDIANTE            KINDER         MANILA    25\n",
              "JAYA       RIERA         NaN       PRREESCOLAR  TANGAMANDAPIO    50\n",
              "JANA      GAMBOA      MELAVA              SECU        YAGUARU   100"
            ],
            "text/html": [
              "\n",
              "  <div id=\"df-5eeceb1c-d7ba-4c34-b7e6-785fd129f3f7\">\n",
              "    <div class=\"colab-df-container\">\n",
              "      <div>\n",
              "<style scoped>\n",
              "    .dataframe tbody tr th:only-of-type {\n",
              "        vertical-align: middle;\n",
              "    }\n",
              "\n",
              "    .dataframe tbody tr th {\n",
              "        vertical-align: top;\n",
              "    }\n",
              "\n",
              "    .dataframe thead th {\n",
              "        text-align: right;\n",
              "    }\n",
              "</style>\n",
              "<table border=\"1\" class=\"dataframe\">\n",
              "  <thead>\n",
              "    <tr style=\"text-align: right;\">\n",
              "      <th></th>\n",
              "      <th>APELLIDO</th>\n",
              "      <th>OCUPACION</th>\n",
              "      <th>GRADO_PREPARACION</th>\n",
              "      <th>CUIDAD</th>\n",
              "      <th>EDAD</th>\n",
              "    </tr>\n",
              "    <tr>\n",
              "      <th>NOMBRE</th>\n",
              "      <th></th>\n",
              "      <th></th>\n",
              "      <th></th>\n",
              "      <th></th>\n",
              "      <th></th>\n",
              "    </tr>\n",
              "  </thead>\n",
              "  <tbody>\n",
              "    <tr>\n",
              "      <th>JORGE</th>\n",
              "      <td>CASTILLO</td>\n",
              "      <td>ESTUDIANTE</td>\n",
              "      <td>UNIVERSIDAD</td>\n",
              "      <td>NaN</td>\n",
              "      <td>23</td>\n",
              "    </tr>\n",
              "    <tr>\n",
              "      <th>OMAR</th>\n",
              "      <td>GAMBOA</td>\n",
              "      <td>PEON</td>\n",
              "      <td>NaN</td>\n",
              "      <td>PUEBLA</td>\n",
              "      <td>24</td>\n",
              "    </tr>\n",
              "    <tr>\n",
              "      <th>MIRIAM</th>\n",
              "      <td>JIMENES</td>\n",
              "      <td>ESTUDIANTE</td>\n",
              "      <td>KINDER</td>\n",
              "      <td>MANILA</td>\n",
              "      <td>25</td>\n",
              "    </tr>\n",
              "    <tr>\n",
              "      <th>JAYA</th>\n",
              "      <td>RIERA</td>\n",
              "      <td>NaN</td>\n",
              "      <td>PRREESCOLAR</td>\n",
              "      <td>TANGAMANDAPIO</td>\n",
              "      <td>50</td>\n",
              "    </tr>\n",
              "    <tr>\n",
              "      <th>JANA</th>\n",
              "      <td>GAMBOA</td>\n",
              "      <td>MELAVA</td>\n",
              "      <td>SECU</td>\n",
              "      <td>YAGUARU</td>\n",
              "      <td>100</td>\n",
              "    </tr>\n",
              "  </tbody>\n",
              "</table>\n",
              "</div>\n",
              "      <button class=\"colab-df-convert\" onclick=\"convertToInteractive('df-5eeceb1c-d7ba-4c34-b7e6-785fd129f3f7')\"\n",
              "              title=\"Convert this dataframe to an interactive table.\"\n",
              "              style=\"display:none;\">\n",
              "        \n",
              "  <svg xmlns=\"http://www.w3.org/2000/svg\" height=\"24px\"viewBox=\"0 0 24 24\"\n",
              "       width=\"24px\">\n",
              "    <path d=\"M0 0h24v24H0V0z\" fill=\"none\"/>\n",
              "    <path d=\"M18.56 5.44l.94 2.06.94-2.06 2.06-.94-2.06-.94-.94-2.06-.94 2.06-2.06.94zm-11 1L8.5 8.5l.94-2.06 2.06-.94-2.06-.94L8.5 2.5l-.94 2.06-2.06.94zm10 10l.94 2.06.94-2.06 2.06-.94-2.06-.94-.94-2.06-.94 2.06-2.06.94z\"/><path d=\"M17.41 7.96l-1.37-1.37c-.4-.4-.92-.59-1.43-.59-.52 0-1.04.2-1.43.59L10.3 9.45l-7.72 7.72c-.78.78-.78 2.05 0 2.83L4 21.41c.39.39.9.59 1.41.59.51 0 1.02-.2 1.41-.59l7.78-7.78 2.81-2.81c.8-.78.8-2.07 0-2.86zM5.41 20L4 18.59l7.72-7.72 1.47 1.35L5.41 20z\"/>\n",
              "  </svg>\n",
              "      </button>\n",
              "      \n",
              "  <style>\n",
              "    .colab-df-container {\n",
              "      display:flex;\n",
              "      flex-wrap:wrap;\n",
              "      gap: 12px;\n",
              "    }\n",
              "\n",
              "    .colab-df-convert {\n",
              "      background-color: #E8F0FE;\n",
              "      border: none;\n",
              "      border-radius: 50%;\n",
              "      cursor: pointer;\n",
              "      display: none;\n",
              "      fill: #1967D2;\n",
              "      height: 32px;\n",
              "      padding: 0 0 0 0;\n",
              "      width: 32px;\n",
              "    }\n",
              "\n",
              "    .colab-df-convert:hover {\n",
              "      background-color: #E2EBFA;\n",
              "      box-shadow: 0px 1px 2px rgba(60, 64, 67, 0.3), 0px 1px 3px 1px rgba(60, 64, 67, 0.15);\n",
              "      fill: #174EA6;\n",
              "    }\n",
              "\n",
              "    [theme=dark] .colab-df-convert {\n",
              "      background-color: #3B4455;\n",
              "      fill: #D2E3FC;\n",
              "    }\n",
              "\n",
              "    [theme=dark] .colab-df-convert:hover {\n",
              "      background-color: #434B5C;\n",
              "      box-shadow: 0px 1px 3px 1px rgba(0, 0, 0, 0.15);\n",
              "      filter: drop-shadow(0px 1px 2px rgba(0, 0, 0, 0.3));\n",
              "      fill: #FFFFFF;\n",
              "    }\n",
              "  </style>\n",
              "\n",
              "      <script>\n",
              "        const buttonEl =\n",
              "          document.querySelector('#df-5eeceb1c-d7ba-4c34-b7e6-785fd129f3f7 button.colab-df-convert');\n",
              "        buttonEl.style.display =\n",
              "          google.colab.kernel.accessAllowed ? 'block' : 'none';\n",
              "\n",
              "        async function convertToInteractive(key) {\n",
              "          const element = document.querySelector('#df-5eeceb1c-d7ba-4c34-b7e6-785fd129f3f7');\n",
              "          const dataTable =\n",
              "            await google.colab.kernel.invokeFunction('convertToInteractive',\n",
              "                                                     [key], {});\n",
              "          if (!dataTable) return;\n",
              "\n",
              "          const docLinkHtml = 'Like what you see? Visit the ' +\n",
              "            '<a target=\"_blank\" href=https://colab.research.google.com/notebooks/data_table.ipynb>data table notebook</a>'\n",
              "            + ' to learn more about interactive tables.';\n",
              "          element.innerHTML = '';\n",
              "          dataTable['output_type'] = 'display_data';\n",
              "          await google.colab.output.renderOutput(dataTable, element);\n",
              "          const docLink = document.createElement('div');\n",
              "          docLink.innerHTML = docLinkHtml;\n",
              "          element.appendChild(docLink);\n",
              "        }\n",
              "      </script>\n",
              "    </div>\n",
              "  </div>\n",
              "  "
            ]
          },
          "metadata": {},
          "execution_count": 33
        }
      ]
    },
    {
      "cell_type": "code",
      "source": [
        "print(df2.loc['OMAR'])\n",
        "print()\n",
        "df2.loc['OMAR'].index"
      ],
      "metadata": {
        "colab": {
          "base_uri": "https://localhost:8080/"
        },
        "id": "OLo_0ohoRVjZ",
        "outputId": "7e664d47-49a1-4859-8e76-297c0c4ea0df"
      },
      "execution_count": null,
      "outputs": [
        {
          "output_type": "stream",
          "name": "stdout",
          "text": [
            "APELLIDO             GAMBOA\n",
            "OCUPACION              PEON\n",
            "GRADO_PREPARACION       NaN\n",
            "CUIDAD               PUEBLA\n",
            "EDAD                     24\n",
            "Name: OMAR, dtype: object\n",
            "\n"
          ]
        },
        {
          "output_type": "execute_result",
          "data": {
            "text/plain": [
              "Index(['APELLIDO', 'OCUPACION', 'GRADO_PREPARACION', 'CUIDAD', 'EDAD'], dtype='object')"
            ]
          },
          "metadata": {},
          "execution_count": 38
        }
      ]
    },
    {
      "cell_type": "markdown",
      "source": [
        "PODEMOS APRECIAR QUE AHORA LOS INDICES SON LOS NOMBRES DE LAAS COLUMNAS y el resultado es el contenido de toda la hilera q seleccionamos.(SIN LOC EL RESULTADO Q OBTENEMOS ES EL CONTENIDO DE TODA LA COLUMNA SELECCIONADA Y LOS INDICES SON LOS NOMBRES DE LAS HILERAS, PODEMOS SABERLO POR MEDIO DEL COMANDO \"df2.loc['OMAR'].index\")."
      ],
      "metadata": {
        "id": "o5xs6Y1AU4V8"
      }
    },
    {
      "cell_type": "code",
      "source": [
        "df2.loc['OMAR'].values #OBTENEMOS LOS VALORES DE UNA HILERA EN UN ARRAY"
      ],
      "metadata": {
        "colab": {
          "base_uri": "https://localhost:8080/"
        },
        "id": "CxYC3HZRWUOS",
        "outputId": "f6b2efa2-7f2a-4bee-a31d-d79d8c29c642"
      },
      "execution_count": null,
      "outputs": [
        {
          "output_type": "execute_result",
          "data": {
            "text/plain": [
              "array(['GAMBOA', 'PEON', nan, 'PUEBLA', 24], dtype=object)"
            ]
          },
          "metadata": {},
          "execution_count": 39
        }
      ]
    },
    {
      "cell_type": "markdown",
      "source": [
        "DE ESTA MANERA OBTENEMOS LOS VALORES DE LA HILERA 'OMAR' EN FORMA DE ARRAY"
      ],
      "metadata": {
        "id": "wyphOsW6Y42y"
      }
    },
    {
      "cell_type": "markdown",
      "source": [
        "**QUE PASA EN EL CASO DEL DEFAULT INDEX? OSEA CUANDO LOS INDICES SON NUMEROS**"
      ],
      "metadata": {
        "id": "vIBX-ecLaQtM"
      }
    },
    {
      "cell_type": "code",
      "source": [
        "df_students"
      ],
      "metadata": {
        "colab": {
          "base_uri": "https://localhost:8080/",
          "height": 206
        },
        "id": "jp6OMdJvakHg",
        "outputId": "553ea75c-40fc-4156-9e75-651a88380496"
      },
      "execution_count": null,
      "outputs": [
        {
          "output_type": "execute_result",
          "data": {
            "text/plain": [
              "   NOMBRE  APELLIDO   OCUPACION GRADO_PREPARACION         CUIDAD  EDAD\n",
              "0   JORGE  CASTILLO  ESTUDIANTE       UNIVERSIDAD            NaN    23\n",
              "1    OMAR    GAMBOA        PEON               NaN         PUEBLA    24\n",
              "2  MIRIAM   JIMENES  ESTUDIANTE            KINDER         MANILA    25\n",
              "3    JAYA     RIERA         NaN       PRREESCOLAR  TANGAMANDAPIO    50\n",
              "4    JANA    GAMBOA      MELAVA              SECU        YAGUARU   100"
            ],
            "text/html": [
              "\n",
              "  <div id=\"df-5d0c2099-7bf5-4f84-a426-468a47bb36d2\">\n",
              "    <div class=\"colab-df-container\">\n",
              "      <div>\n",
              "<style scoped>\n",
              "    .dataframe tbody tr th:only-of-type {\n",
              "        vertical-align: middle;\n",
              "    }\n",
              "\n",
              "    .dataframe tbody tr th {\n",
              "        vertical-align: top;\n",
              "    }\n",
              "\n",
              "    .dataframe thead th {\n",
              "        text-align: right;\n",
              "    }\n",
              "</style>\n",
              "<table border=\"1\" class=\"dataframe\">\n",
              "  <thead>\n",
              "    <tr style=\"text-align: right;\">\n",
              "      <th></th>\n",
              "      <th>NOMBRE</th>\n",
              "      <th>APELLIDO</th>\n",
              "      <th>OCUPACION</th>\n",
              "      <th>GRADO_PREPARACION</th>\n",
              "      <th>CUIDAD</th>\n",
              "      <th>EDAD</th>\n",
              "    </tr>\n",
              "  </thead>\n",
              "  <tbody>\n",
              "    <tr>\n",
              "      <th>0</th>\n",
              "      <td>JORGE</td>\n",
              "      <td>CASTILLO</td>\n",
              "      <td>ESTUDIANTE</td>\n",
              "      <td>UNIVERSIDAD</td>\n",
              "      <td>NaN</td>\n",
              "      <td>23</td>\n",
              "    </tr>\n",
              "    <tr>\n",
              "      <th>1</th>\n",
              "      <td>OMAR</td>\n",
              "      <td>GAMBOA</td>\n",
              "      <td>PEON</td>\n",
              "      <td>NaN</td>\n",
              "      <td>PUEBLA</td>\n",
              "      <td>24</td>\n",
              "    </tr>\n",
              "    <tr>\n",
              "      <th>2</th>\n",
              "      <td>MIRIAM</td>\n",
              "      <td>JIMENES</td>\n",
              "      <td>ESTUDIANTE</td>\n",
              "      <td>KINDER</td>\n",
              "      <td>MANILA</td>\n",
              "      <td>25</td>\n",
              "    </tr>\n",
              "    <tr>\n",
              "      <th>3</th>\n",
              "      <td>JAYA</td>\n",
              "      <td>RIERA</td>\n",
              "      <td>NaN</td>\n",
              "      <td>PRREESCOLAR</td>\n",
              "      <td>TANGAMANDAPIO</td>\n",
              "      <td>50</td>\n",
              "    </tr>\n",
              "    <tr>\n",
              "      <th>4</th>\n",
              "      <td>JANA</td>\n",
              "      <td>GAMBOA</td>\n",
              "      <td>MELAVA</td>\n",
              "      <td>SECU</td>\n",
              "      <td>YAGUARU</td>\n",
              "      <td>100</td>\n",
              "    </tr>\n",
              "  </tbody>\n",
              "</table>\n",
              "</div>\n",
              "      <button class=\"colab-df-convert\" onclick=\"convertToInteractive('df-5d0c2099-7bf5-4f84-a426-468a47bb36d2')\"\n",
              "              title=\"Convert this dataframe to an interactive table.\"\n",
              "              style=\"display:none;\">\n",
              "        \n",
              "  <svg xmlns=\"http://www.w3.org/2000/svg\" height=\"24px\"viewBox=\"0 0 24 24\"\n",
              "       width=\"24px\">\n",
              "    <path d=\"M0 0h24v24H0V0z\" fill=\"none\"/>\n",
              "    <path d=\"M18.56 5.44l.94 2.06.94-2.06 2.06-.94-2.06-.94-.94-2.06-.94 2.06-2.06.94zm-11 1L8.5 8.5l.94-2.06 2.06-.94-2.06-.94L8.5 2.5l-.94 2.06-2.06.94zm10 10l.94 2.06.94-2.06 2.06-.94-2.06-.94-.94-2.06-.94 2.06-2.06.94z\"/><path d=\"M17.41 7.96l-1.37-1.37c-.4-.4-.92-.59-1.43-.59-.52 0-1.04.2-1.43.59L10.3 9.45l-7.72 7.72c-.78.78-.78 2.05 0 2.83L4 21.41c.39.39.9.59 1.41.59.51 0 1.02-.2 1.41-.59l7.78-7.78 2.81-2.81c.8-.78.8-2.07 0-2.86zM5.41 20L4 18.59l7.72-7.72 1.47 1.35L5.41 20z\"/>\n",
              "  </svg>\n",
              "      </button>\n",
              "      \n",
              "  <style>\n",
              "    .colab-df-container {\n",
              "      display:flex;\n",
              "      flex-wrap:wrap;\n",
              "      gap: 12px;\n",
              "    }\n",
              "\n",
              "    .colab-df-convert {\n",
              "      background-color: #E8F0FE;\n",
              "      border: none;\n",
              "      border-radius: 50%;\n",
              "      cursor: pointer;\n",
              "      display: none;\n",
              "      fill: #1967D2;\n",
              "      height: 32px;\n",
              "      padding: 0 0 0 0;\n",
              "      width: 32px;\n",
              "    }\n",
              "\n",
              "    .colab-df-convert:hover {\n",
              "      background-color: #E2EBFA;\n",
              "      box-shadow: 0px 1px 2px rgba(60, 64, 67, 0.3), 0px 1px 3px 1px rgba(60, 64, 67, 0.15);\n",
              "      fill: #174EA6;\n",
              "    }\n",
              "\n",
              "    [theme=dark] .colab-df-convert {\n",
              "      background-color: #3B4455;\n",
              "      fill: #D2E3FC;\n",
              "    }\n",
              "\n",
              "    [theme=dark] .colab-df-convert:hover {\n",
              "      background-color: #434B5C;\n",
              "      box-shadow: 0px 1px 3px 1px rgba(0, 0, 0, 0.15);\n",
              "      filter: drop-shadow(0px 1px 2px rgba(0, 0, 0, 0.3));\n",
              "      fill: #FFFFFF;\n",
              "    }\n",
              "  </style>\n",
              "\n",
              "      <script>\n",
              "        const buttonEl =\n",
              "          document.querySelector('#df-5d0c2099-7bf5-4f84-a426-468a47bb36d2 button.colab-df-convert');\n",
              "        buttonEl.style.display =\n",
              "          google.colab.kernel.accessAllowed ? 'block' : 'none';\n",
              "\n",
              "        async function convertToInteractive(key) {\n",
              "          const element = document.querySelector('#df-5d0c2099-7bf5-4f84-a426-468a47bb36d2');\n",
              "          const dataTable =\n",
              "            await google.colab.kernel.invokeFunction('convertToInteractive',\n",
              "                                                     [key], {});\n",
              "          if (!dataTable) return;\n",
              "\n",
              "          const docLinkHtml = 'Like what you see? Visit the ' +\n",
              "            '<a target=\"_blank\" href=https://colab.research.google.com/notebooks/data_table.ipynb>data table notebook</a>'\n",
              "            + ' to learn more about interactive tables.';\n",
              "          element.innerHTML = '';\n",
              "          dataTable['output_type'] = 'display_data';\n",
              "          await google.colab.output.renderOutput(dataTable, element);\n",
              "          const docLink = document.createElement('div');\n",
              "          docLink.innerHTML = docLinkHtml;\n",
              "          element.appendChild(docLink);\n",
              "        }\n",
              "      </script>\n",
              "    </div>\n",
              "  </div>\n",
              "  "
            ]
          },
          "metadata": {},
          "execution_count": 40
        }
      ]
    },
    {
      "cell_type": "code",
      "source": [
        "sorted_by_name = df_students.sort_values(by='NOMBRE')\n",
        "print(sorted_by_name)\n",
        "print(sorted_by_name.loc[1])"
      ],
      "metadata": {
        "colab": {
          "base_uri": "https://localhost:8080/"
        },
        "id": "uRmHbCCUbXXb",
        "outputId": "f417e370-3908-4a32-ba30-a4855b532d34"
      },
      "execution_count": null,
      "outputs": [
        {
          "output_type": "stream",
          "name": "stdout",
          "text": [
            "   NOMBRE  APELLIDO   OCUPACION GRADO_PREPARACION         CUIDAD  EDAD\n",
            "4    JANA    GAMBOA      MELAVA              SECU        YAGUARU   100\n",
            "3    JAYA     RIERA         NaN       PRREESCOLAR  TANGAMANDAPIO    50\n",
            "0   JORGE  CASTILLO  ESTUDIANTE       UNIVERSIDAD            NaN    23\n",
            "2  MIRIAM   JIMENES  ESTUDIANTE            KINDER         MANILA    25\n",
            "1    OMAR    GAMBOA        PEON               NaN         PUEBLA    24\n",
            "NOMBRE                 OMAR\n",
            "APELLIDO             GAMBOA\n",
            "OCUPACION              PEON\n",
            "GRADO_PREPARACION       NaN\n",
            "CUIDAD               PUEBLA\n",
            "EDAD                     24\n",
            "Name: 1, dtype: object\n"
          ]
        }
      ]
    },
    {
      "cell_type": "markdown",
      "source": [
        "DE LA MISMA FORMA OBTENEMOS LA INFRMACION DE LOS DATOS DE LA HILERA CON EL INDICE 1 DEACUERDO ALOS INDICES QUE SON LOS NOMBRES DE LAS COLUMNAS."
      ],
      "metadata": {
        "id": "270j2kjfcCuN"
      }
    },
    {
      "cell_type": "code",
      "source": [
        "sorted_by_name.loc[1].values"
      ],
      "metadata": {
        "colab": {
          "base_uri": "https://localhost:8080/"
        },
        "id": "4W6YzFRbciUb",
        "outputId": "4314f6d1-7514-4333-95c2-4c2b4a016ac1"
      },
      "execution_count": null,
      "outputs": [
        {
          "output_type": "execute_result",
          "data": {
            "text/plain": [
              "array(['OMAR', 'GAMBOA', 'PEON', nan, 'PUEBLA', 24], dtype=object)"
            ]
          },
          "metadata": {},
          "execution_count": 43
        }
      ]
    },
    {
      "cell_type": "markdown",
      "source": [
        "AL IGUAL PODEMOS OBTENER SOLO EL CONTENIDO DE LA HILERA CON DICHO INDICE NUMERICO SIN LOS INDICES QUE SON LOS NOMBRES DE LAS COLUMNAS. "
      ],
      "metadata": {
        "id": "4LfffAqtctMd"
      }
    },
    {
      "cell_type": "code",
      "source": [
        "sorted_by_name.loc[1].index"
      ],
      "metadata": {
        "colab": {
          "base_uri": "https://localhost:8080/"
        },
        "id": "ldD2KtlAeJvh",
        "outputId": "b0b1b811-6313-4f12-888a-24fdcfc69ca0"
      },
      "execution_count": null,
      "outputs": [
        {
          "output_type": "execute_result",
          "data": {
            "text/plain": [
              "Index(['NOMBRE', 'APELLIDO', 'OCUPACION', 'GRADO_PREPARACION', 'CUIDAD',\n",
              "       'EDAD'],\n",
              "      dtype='object')"
            ]
          },
          "metadata": {},
          "execution_count": 44
        }
      ]
    },
    {
      "cell_type": "markdown",
      "source": [
        "EN ESTE CASO CON LOS INDICES NUMERICOS, EN LOS INDICES DE LAS CULUMNAS ESTA INCLUIDO TAMBIEN 'NOMBRE' OSEA QUE 'NOMBRE ES PARTE DEL CONTENIDO DE LA TABLA Y NO ES COLUMNA DE INDICES'."
      ],
      "metadata": {
        "id": "w0ZHnU4jeR_q"
      }
    },
    {
      "cell_type": "markdown",
      "source": [
        "# **COMO SELECCIONAR VARIAS HILERAS CON loc[ ]?**"
      ],
      "metadata": {
        "id": "4g4ejIFqffFZ"
      }
    },
    {
      "cell_type": "markdown",
      "source": [
        "AL IGUAL QUE CUANDO LOS INDDICES SON NUMERICOS, TAMBIEN CUANDO SON INDICES DE STRINGS LO HACEMOS EN FORMA DE LISTA PERO CON LA FUNCIO LOC[ ]."
      ],
      "metadata": {
        "id": "Akq-yyeghxWo"
      }
    },
    {
      "cell_type": "code",
      "source": [
        "df2"
      ],
      "metadata": {
        "colab": {
          "base_uri": "https://localhost:8080/",
          "height": 237
        },
        "id": "APXTkLuTjcEX",
        "outputId": "b9afb531-bb28-4b27-a253-602d6e659f2e"
      },
      "execution_count": 49,
      "outputs": [
        {
          "output_type": "execute_result",
          "data": {
            "text/plain": [
              "        APELLIDO   OCUPACION GRADO_PREPARACION         CUIDAD  EDAD\n",
              "NOMBRE                                                             \n",
              "JORGE   CASTILLO  ESTUDIANTE       UNIVERSIDAD            NaN    23\n",
              "OMAR      GAMBOA        PEON               NaN         PUEBLA    24\n",
              "MIRIAM   JIMENES  ESTUDIANTE            KINDER         MANILA    25\n",
              "JAYA       RIERA         NaN       PRREESCOLAR  TANGAMANDAPIO    50\n",
              "JANA      GAMBOA      MELAVA              SECU        YAGUARU   100"
            ],
            "text/html": [
              "\n",
              "  <div id=\"df-46cb6272-c9cf-47d1-a455-e6b6237a34e1\">\n",
              "    <div class=\"colab-df-container\">\n",
              "      <div>\n",
              "<style scoped>\n",
              "    .dataframe tbody tr th:only-of-type {\n",
              "        vertical-align: middle;\n",
              "    }\n",
              "\n",
              "    .dataframe tbody tr th {\n",
              "        vertical-align: top;\n",
              "    }\n",
              "\n",
              "    .dataframe thead th {\n",
              "        text-align: right;\n",
              "    }\n",
              "</style>\n",
              "<table border=\"1\" class=\"dataframe\">\n",
              "  <thead>\n",
              "    <tr style=\"text-align: right;\">\n",
              "      <th></th>\n",
              "      <th>APELLIDO</th>\n",
              "      <th>OCUPACION</th>\n",
              "      <th>GRADO_PREPARACION</th>\n",
              "      <th>CUIDAD</th>\n",
              "      <th>EDAD</th>\n",
              "    </tr>\n",
              "    <tr>\n",
              "      <th>NOMBRE</th>\n",
              "      <th></th>\n",
              "      <th></th>\n",
              "      <th></th>\n",
              "      <th></th>\n",
              "      <th></th>\n",
              "    </tr>\n",
              "  </thead>\n",
              "  <tbody>\n",
              "    <tr>\n",
              "      <th>JORGE</th>\n",
              "      <td>CASTILLO</td>\n",
              "      <td>ESTUDIANTE</td>\n",
              "      <td>UNIVERSIDAD</td>\n",
              "      <td>NaN</td>\n",
              "      <td>23</td>\n",
              "    </tr>\n",
              "    <tr>\n",
              "      <th>OMAR</th>\n",
              "      <td>GAMBOA</td>\n",
              "      <td>PEON</td>\n",
              "      <td>NaN</td>\n",
              "      <td>PUEBLA</td>\n",
              "      <td>24</td>\n",
              "    </tr>\n",
              "    <tr>\n",
              "      <th>MIRIAM</th>\n",
              "      <td>JIMENES</td>\n",
              "      <td>ESTUDIANTE</td>\n",
              "      <td>KINDER</td>\n",
              "      <td>MANILA</td>\n",
              "      <td>25</td>\n",
              "    </tr>\n",
              "    <tr>\n",
              "      <th>JAYA</th>\n",
              "      <td>RIERA</td>\n",
              "      <td>NaN</td>\n",
              "      <td>PRREESCOLAR</td>\n",
              "      <td>TANGAMANDAPIO</td>\n",
              "      <td>50</td>\n",
              "    </tr>\n",
              "    <tr>\n",
              "      <th>JANA</th>\n",
              "      <td>GAMBOA</td>\n",
              "      <td>MELAVA</td>\n",
              "      <td>SECU</td>\n",
              "      <td>YAGUARU</td>\n",
              "      <td>100</td>\n",
              "    </tr>\n",
              "  </tbody>\n",
              "</table>\n",
              "</div>\n",
              "      <button class=\"colab-df-convert\" onclick=\"convertToInteractive('df-46cb6272-c9cf-47d1-a455-e6b6237a34e1')\"\n",
              "              title=\"Convert this dataframe to an interactive table.\"\n",
              "              style=\"display:none;\">\n",
              "        \n",
              "  <svg xmlns=\"http://www.w3.org/2000/svg\" height=\"24px\"viewBox=\"0 0 24 24\"\n",
              "       width=\"24px\">\n",
              "    <path d=\"M0 0h24v24H0V0z\" fill=\"none\"/>\n",
              "    <path d=\"M18.56 5.44l.94 2.06.94-2.06 2.06-.94-2.06-.94-.94-2.06-.94 2.06-2.06.94zm-11 1L8.5 8.5l.94-2.06 2.06-.94-2.06-.94L8.5 2.5l-.94 2.06-2.06.94zm10 10l.94 2.06.94-2.06 2.06-.94-2.06-.94-.94-2.06-.94 2.06-2.06.94z\"/><path d=\"M17.41 7.96l-1.37-1.37c-.4-.4-.92-.59-1.43-.59-.52 0-1.04.2-1.43.59L10.3 9.45l-7.72 7.72c-.78.78-.78 2.05 0 2.83L4 21.41c.39.39.9.59 1.41.59.51 0 1.02-.2 1.41-.59l7.78-7.78 2.81-2.81c.8-.78.8-2.07 0-2.86zM5.41 20L4 18.59l7.72-7.72 1.47 1.35L5.41 20z\"/>\n",
              "  </svg>\n",
              "      </button>\n",
              "      \n",
              "  <style>\n",
              "    .colab-df-container {\n",
              "      display:flex;\n",
              "      flex-wrap:wrap;\n",
              "      gap: 12px;\n",
              "    }\n",
              "\n",
              "    .colab-df-convert {\n",
              "      background-color: #E8F0FE;\n",
              "      border: none;\n",
              "      border-radius: 50%;\n",
              "      cursor: pointer;\n",
              "      display: none;\n",
              "      fill: #1967D2;\n",
              "      height: 32px;\n",
              "      padding: 0 0 0 0;\n",
              "      width: 32px;\n",
              "    }\n",
              "\n",
              "    .colab-df-convert:hover {\n",
              "      background-color: #E2EBFA;\n",
              "      box-shadow: 0px 1px 2px rgba(60, 64, 67, 0.3), 0px 1px 3px 1px rgba(60, 64, 67, 0.15);\n",
              "      fill: #174EA6;\n",
              "    }\n",
              "\n",
              "    [theme=dark] .colab-df-convert {\n",
              "      background-color: #3B4455;\n",
              "      fill: #D2E3FC;\n",
              "    }\n",
              "\n",
              "    [theme=dark] .colab-df-convert:hover {\n",
              "      background-color: #434B5C;\n",
              "      box-shadow: 0px 1px 3px 1px rgba(0, 0, 0, 0.15);\n",
              "      filter: drop-shadow(0px 1px 2px rgba(0, 0, 0, 0.3));\n",
              "      fill: #FFFFFF;\n",
              "    }\n",
              "  </style>\n",
              "\n",
              "      <script>\n",
              "        const buttonEl =\n",
              "          document.querySelector('#df-46cb6272-c9cf-47d1-a455-e6b6237a34e1 button.colab-df-convert');\n",
              "        buttonEl.style.display =\n",
              "          google.colab.kernel.accessAllowed ? 'block' : 'none';\n",
              "\n",
              "        async function convertToInteractive(key) {\n",
              "          const element = document.querySelector('#df-46cb6272-c9cf-47d1-a455-e6b6237a34e1');\n",
              "          const dataTable =\n",
              "            await google.colab.kernel.invokeFunction('convertToInteractive',\n",
              "                                                     [key], {});\n",
              "          if (!dataTable) return;\n",
              "\n",
              "          const docLinkHtml = 'Like what you see? Visit the ' +\n",
              "            '<a target=\"_blank\" href=https://colab.research.google.com/notebooks/data_table.ipynb>data table notebook</a>'\n",
              "            + ' to learn more about interactive tables.';\n",
              "          element.innerHTML = '';\n",
              "          dataTable['output_type'] = 'display_data';\n",
              "          await google.colab.output.renderOutput(dataTable, element);\n",
              "          const docLink = document.createElement('div');\n",
              "          docLink.innerHTML = docLinkHtml;\n",
              "          element.appendChild(docLink);\n",
              "        }\n",
              "      </script>\n",
              "    </div>\n",
              "  </div>\n",
              "  "
            ]
          },
          "metadata": {},
          "execution_count": 49
        }
      ]
    },
    {
      "cell_type": "code",
      "source": [
        "df2.loc[['JORGE', 'JAYA']] #OBTENEMOS LAS HILERAS JORGE Y JAYA"
      ],
      "metadata": {
        "colab": {
          "base_uri": "https://localhost:8080/",
          "height": 143
        },
        "id": "ZMGMDsjvjgDG",
        "outputId": "b08d33da-4ef3-4117-e313-c01edf1e9bfa"
      },
      "execution_count": 48,
      "outputs": [
        {
          "output_type": "execute_result",
          "data": {
            "text/plain": [
              "        APELLIDO   OCUPACION GRADO_PREPARACION         CUIDAD  EDAD\n",
              "NOMBRE                                                             \n",
              "JORGE   CASTILLO  ESTUDIANTE       UNIVERSIDAD            NaN    23\n",
              "JAYA       RIERA         NaN       PRREESCOLAR  TANGAMANDAPIO    50"
            ],
            "text/html": [
              "\n",
              "  <div id=\"df-9e6235d4-afb1-4c95-926e-6ca6188fc67d\">\n",
              "    <div class=\"colab-df-container\">\n",
              "      <div>\n",
              "<style scoped>\n",
              "    .dataframe tbody tr th:only-of-type {\n",
              "        vertical-align: middle;\n",
              "    }\n",
              "\n",
              "    .dataframe tbody tr th {\n",
              "        vertical-align: top;\n",
              "    }\n",
              "\n",
              "    .dataframe thead th {\n",
              "        text-align: right;\n",
              "    }\n",
              "</style>\n",
              "<table border=\"1\" class=\"dataframe\">\n",
              "  <thead>\n",
              "    <tr style=\"text-align: right;\">\n",
              "      <th></th>\n",
              "      <th>APELLIDO</th>\n",
              "      <th>OCUPACION</th>\n",
              "      <th>GRADO_PREPARACION</th>\n",
              "      <th>CUIDAD</th>\n",
              "      <th>EDAD</th>\n",
              "    </tr>\n",
              "    <tr>\n",
              "      <th>NOMBRE</th>\n",
              "      <th></th>\n",
              "      <th></th>\n",
              "      <th></th>\n",
              "      <th></th>\n",
              "      <th></th>\n",
              "    </tr>\n",
              "  </thead>\n",
              "  <tbody>\n",
              "    <tr>\n",
              "      <th>JORGE</th>\n",
              "      <td>CASTILLO</td>\n",
              "      <td>ESTUDIANTE</td>\n",
              "      <td>UNIVERSIDAD</td>\n",
              "      <td>NaN</td>\n",
              "      <td>23</td>\n",
              "    </tr>\n",
              "    <tr>\n",
              "      <th>JAYA</th>\n",
              "      <td>RIERA</td>\n",
              "      <td>NaN</td>\n",
              "      <td>PRREESCOLAR</td>\n",
              "      <td>TANGAMANDAPIO</td>\n",
              "      <td>50</td>\n",
              "    </tr>\n",
              "  </tbody>\n",
              "</table>\n",
              "</div>\n",
              "      <button class=\"colab-df-convert\" onclick=\"convertToInteractive('df-9e6235d4-afb1-4c95-926e-6ca6188fc67d')\"\n",
              "              title=\"Convert this dataframe to an interactive table.\"\n",
              "              style=\"display:none;\">\n",
              "        \n",
              "  <svg xmlns=\"http://www.w3.org/2000/svg\" height=\"24px\"viewBox=\"0 0 24 24\"\n",
              "       width=\"24px\">\n",
              "    <path d=\"M0 0h24v24H0V0z\" fill=\"none\"/>\n",
              "    <path d=\"M18.56 5.44l.94 2.06.94-2.06 2.06-.94-2.06-.94-.94-2.06-.94 2.06-2.06.94zm-11 1L8.5 8.5l.94-2.06 2.06-.94-2.06-.94L8.5 2.5l-.94 2.06-2.06.94zm10 10l.94 2.06.94-2.06 2.06-.94-2.06-.94-.94-2.06-.94 2.06-2.06.94z\"/><path d=\"M17.41 7.96l-1.37-1.37c-.4-.4-.92-.59-1.43-.59-.52 0-1.04.2-1.43.59L10.3 9.45l-7.72 7.72c-.78.78-.78 2.05 0 2.83L4 21.41c.39.39.9.59 1.41.59.51 0 1.02-.2 1.41-.59l7.78-7.78 2.81-2.81c.8-.78.8-2.07 0-2.86zM5.41 20L4 18.59l7.72-7.72 1.47 1.35L5.41 20z\"/>\n",
              "  </svg>\n",
              "      </button>\n",
              "      \n",
              "  <style>\n",
              "    .colab-df-container {\n",
              "      display:flex;\n",
              "      flex-wrap:wrap;\n",
              "      gap: 12px;\n",
              "    }\n",
              "\n",
              "    .colab-df-convert {\n",
              "      background-color: #E8F0FE;\n",
              "      border: none;\n",
              "      border-radius: 50%;\n",
              "      cursor: pointer;\n",
              "      display: none;\n",
              "      fill: #1967D2;\n",
              "      height: 32px;\n",
              "      padding: 0 0 0 0;\n",
              "      width: 32px;\n",
              "    }\n",
              "\n",
              "    .colab-df-convert:hover {\n",
              "      background-color: #E2EBFA;\n",
              "      box-shadow: 0px 1px 2px rgba(60, 64, 67, 0.3), 0px 1px 3px 1px rgba(60, 64, 67, 0.15);\n",
              "      fill: #174EA6;\n",
              "    }\n",
              "\n",
              "    [theme=dark] .colab-df-convert {\n",
              "      background-color: #3B4455;\n",
              "      fill: #D2E3FC;\n",
              "    }\n",
              "\n",
              "    [theme=dark] .colab-df-convert:hover {\n",
              "      background-color: #434B5C;\n",
              "      box-shadow: 0px 1px 3px 1px rgba(0, 0, 0, 0.15);\n",
              "      filter: drop-shadow(0px 1px 2px rgba(0, 0, 0, 0.3));\n",
              "      fill: #FFFFFF;\n",
              "    }\n",
              "  </style>\n",
              "\n",
              "      <script>\n",
              "        const buttonEl =\n",
              "          document.querySelector('#df-9e6235d4-afb1-4c95-926e-6ca6188fc67d button.colab-df-convert');\n",
              "        buttonEl.style.display =\n",
              "          google.colab.kernel.accessAllowed ? 'block' : 'none';\n",
              "\n",
              "        async function convertToInteractive(key) {\n",
              "          const element = document.querySelector('#df-9e6235d4-afb1-4c95-926e-6ca6188fc67d');\n",
              "          const dataTable =\n",
              "            await google.colab.kernel.invokeFunction('convertToInteractive',\n",
              "                                                     [key], {});\n",
              "          if (!dataTable) return;\n",
              "\n",
              "          const docLinkHtml = 'Like what you see? Visit the ' +\n",
              "            '<a target=\"_blank\" href=https://colab.research.google.com/notebooks/data_table.ipynb>data table notebook</a>'\n",
              "            + ' to learn more about interactive tables.';\n",
              "          element.innerHTML = '';\n",
              "          dataTable['output_type'] = 'display_data';\n",
              "          await google.colab.output.renderOutput(dataTable, element);\n",
              "          const docLink = document.createElement('div');\n",
              "          docLink.innerHTML = docLinkHtml;\n",
              "          element.appendChild(docLink);\n",
              "        }\n",
              "      </script>\n",
              "    </div>\n",
              "  </div>\n",
              "  "
            ]
          },
          "metadata": {},
          "execution_count": 48
        }
      ]
    },
    {
      "cell_type": "markdown",
      "source": [
        "DE ESTE MOSDO PODEMOS OBTENER MAS DE UNA HILERA ALA VEZ."
      ],
      "metadata": {
        "id": "YIHBmCqckviu"
      }
    },
    {
      "cell_type": "code",
      "source": [
        "type(df2.loc[['JORGE', 'JAYA']])"
      ],
      "metadata": {
        "colab": {
          "base_uri": "https://localhost:8080/"
        },
        "id": "IyQqBmGpooG9",
        "outputId": "457c969e-1509-4b2c-8d66-4f8875c26db4"
      },
      "execution_count": 51,
      "outputs": [
        {
          "output_type": "execute_result",
          "data": {
            "text/plain": [
              "pandas.core.frame.DataFrame"
            ]
          },
          "metadata": {},
          "execution_count": 51
        }
      ]
    },
    {
      "cell_type": "markdown",
      "source": [
        "EL TIPO QUE RECIBIMOS DE LA PKUDA DE ARRIBA TAMBN ES DATA FRAME (TABLA)"
      ],
      "metadata": {
        "id": "nSh-9oegox-c"
      }
    },
    {
      "cell_type": "code",
      "source": [
        "df2.loc[['JORGE', 'JAYA']].values"
      ],
      "metadata": {
        "colab": {
          "base_uri": "https://localhost:8080/"
        },
        "id": "siBeGa89pLht",
        "outputId": "d5fc906c-ede1-4264-bba3-9adeb6658c1b"
      },
      "execution_count": 53,
      "outputs": [
        {
          "output_type": "execute_result",
          "data": {
            "text/plain": [
              "array([['CASTILLO', 'ESTUDIANTE', 'UNIVERSIDAD', nan, 23],\n",
              "       ['RIERA', nan, 'PRREESCOLAR', 'TANGAMANDAPIO', 50]], dtype=object)"
            ]
          },
          "metadata": {},
          "execution_count": 53
        }
      ]
    },
    {
      "cell_type": "markdown",
      "source": [
        "PODEMOS OBTENER SOLAMENTE LA DATA DE ESTAS 2 HILERAS DENTRO DE UN ARRAY"
      ],
      "metadata": {
        "id": "h7aUy7sRpZvF"
      }
    },
    {
      "cell_type": "markdown",
      "source": [
        "**PODEMOS OBTENER VARIAS HILERAS EN UN RANGO ESPECIFICO (es como usar for each)**"
      ],
      "metadata": {
        "id": "dx2ZTT8ml1N2"
      }
    },
    {
      "cell_type": "code",
      "source": [
        "df2"
      ],
      "metadata": {
        "colab": {
          "base_uri": "https://localhost:8080/",
          "height": 237
        },
        "id": "NS7atGB6r5qb",
        "outputId": "9caf6886-6d23-4a8e-e20a-567284c4303e"
      },
      "execution_count": 54,
      "outputs": [
        {
          "output_type": "execute_result",
          "data": {
            "text/plain": [
              "        APELLIDO   OCUPACION GRADO_PREPARACION         CUIDAD  EDAD\n",
              "NOMBRE                                                             \n",
              "JORGE   CASTILLO  ESTUDIANTE       UNIVERSIDAD            NaN    23\n",
              "OMAR      GAMBOA        PEON               NaN         PUEBLA    24\n",
              "MIRIAM   JIMENES  ESTUDIANTE            KINDER         MANILA    25\n",
              "JAYA       RIERA         NaN       PRREESCOLAR  TANGAMANDAPIO    50\n",
              "JANA      GAMBOA      MELAVA              SECU        YAGUARU   100"
            ],
            "text/html": [
              "\n",
              "  <div id=\"df-39ab6904-da52-4d43-b80a-5a79841d29f1\">\n",
              "    <div class=\"colab-df-container\">\n",
              "      <div>\n",
              "<style scoped>\n",
              "    .dataframe tbody tr th:only-of-type {\n",
              "        vertical-align: middle;\n",
              "    }\n",
              "\n",
              "    .dataframe tbody tr th {\n",
              "        vertical-align: top;\n",
              "    }\n",
              "\n",
              "    .dataframe thead th {\n",
              "        text-align: right;\n",
              "    }\n",
              "</style>\n",
              "<table border=\"1\" class=\"dataframe\">\n",
              "  <thead>\n",
              "    <tr style=\"text-align: right;\">\n",
              "      <th></th>\n",
              "      <th>APELLIDO</th>\n",
              "      <th>OCUPACION</th>\n",
              "      <th>GRADO_PREPARACION</th>\n",
              "      <th>CUIDAD</th>\n",
              "      <th>EDAD</th>\n",
              "    </tr>\n",
              "    <tr>\n",
              "      <th>NOMBRE</th>\n",
              "      <th></th>\n",
              "      <th></th>\n",
              "      <th></th>\n",
              "      <th></th>\n",
              "      <th></th>\n",
              "    </tr>\n",
              "  </thead>\n",
              "  <tbody>\n",
              "    <tr>\n",
              "      <th>JORGE</th>\n",
              "      <td>CASTILLO</td>\n",
              "      <td>ESTUDIANTE</td>\n",
              "      <td>UNIVERSIDAD</td>\n",
              "      <td>NaN</td>\n",
              "      <td>23</td>\n",
              "    </tr>\n",
              "    <tr>\n",
              "      <th>OMAR</th>\n",
              "      <td>GAMBOA</td>\n",
              "      <td>PEON</td>\n",
              "      <td>NaN</td>\n",
              "      <td>PUEBLA</td>\n",
              "      <td>24</td>\n",
              "    </tr>\n",
              "    <tr>\n",
              "      <th>MIRIAM</th>\n",
              "      <td>JIMENES</td>\n",
              "      <td>ESTUDIANTE</td>\n",
              "      <td>KINDER</td>\n",
              "      <td>MANILA</td>\n",
              "      <td>25</td>\n",
              "    </tr>\n",
              "    <tr>\n",
              "      <th>JAYA</th>\n",
              "      <td>RIERA</td>\n",
              "      <td>NaN</td>\n",
              "      <td>PRREESCOLAR</td>\n",
              "      <td>TANGAMANDAPIO</td>\n",
              "      <td>50</td>\n",
              "    </tr>\n",
              "    <tr>\n",
              "      <th>JANA</th>\n",
              "      <td>GAMBOA</td>\n",
              "      <td>MELAVA</td>\n",
              "      <td>SECU</td>\n",
              "      <td>YAGUARU</td>\n",
              "      <td>100</td>\n",
              "    </tr>\n",
              "  </tbody>\n",
              "</table>\n",
              "</div>\n",
              "      <button class=\"colab-df-convert\" onclick=\"convertToInteractive('df-39ab6904-da52-4d43-b80a-5a79841d29f1')\"\n",
              "              title=\"Convert this dataframe to an interactive table.\"\n",
              "              style=\"display:none;\">\n",
              "        \n",
              "  <svg xmlns=\"http://www.w3.org/2000/svg\" height=\"24px\"viewBox=\"0 0 24 24\"\n",
              "       width=\"24px\">\n",
              "    <path d=\"M0 0h24v24H0V0z\" fill=\"none\"/>\n",
              "    <path d=\"M18.56 5.44l.94 2.06.94-2.06 2.06-.94-2.06-.94-.94-2.06-.94 2.06-2.06.94zm-11 1L8.5 8.5l.94-2.06 2.06-.94-2.06-.94L8.5 2.5l-.94 2.06-2.06.94zm10 10l.94 2.06.94-2.06 2.06-.94-2.06-.94-.94-2.06-.94 2.06-2.06.94z\"/><path d=\"M17.41 7.96l-1.37-1.37c-.4-.4-.92-.59-1.43-.59-.52 0-1.04.2-1.43.59L10.3 9.45l-7.72 7.72c-.78.78-.78 2.05 0 2.83L4 21.41c.39.39.9.59 1.41.59.51 0 1.02-.2 1.41-.59l7.78-7.78 2.81-2.81c.8-.78.8-2.07 0-2.86zM5.41 20L4 18.59l7.72-7.72 1.47 1.35L5.41 20z\"/>\n",
              "  </svg>\n",
              "      </button>\n",
              "      \n",
              "  <style>\n",
              "    .colab-df-container {\n",
              "      display:flex;\n",
              "      flex-wrap:wrap;\n",
              "      gap: 12px;\n",
              "    }\n",
              "\n",
              "    .colab-df-convert {\n",
              "      background-color: #E8F0FE;\n",
              "      border: none;\n",
              "      border-radius: 50%;\n",
              "      cursor: pointer;\n",
              "      display: none;\n",
              "      fill: #1967D2;\n",
              "      height: 32px;\n",
              "      padding: 0 0 0 0;\n",
              "      width: 32px;\n",
              "    }\n",
              "\n",
              "    .colab-df-convert:hover {\n",
              "      background-color: #E2EBFA;\n",
              "      box-shadow: 0px 1px 2px rgba(60, 64, 67, 0.3), 0px 1px 3px 1px rgba(60, 64, 67, 0.15);\n",
              "      fill: #174EA6;\n",
              "    }\n",
              "\n",
              "    [theme=dark] .colab-df-convert {\n",
              "      background-color: #3B4455;\n",
              "      fill: #D2E3FC;\n",
              "    }\n",
              "\n",
              "    [theme=dark] .colab-df-convert:hover {\n",
              "      background-color: #434B5C;\n",
              "      box-shadow: 0px 1px 3px 1px rgba(0, 0, 0, 0.15);\n",
              "      filter: drop-shadow(0px 1px 2px rgba(0, 0, 0, 0.3));\n",
              "      fill: #FFFFFF;\n",
              "    }\n",
              "  </style>\n",
              "\n",
              "      <script>\n",
              "        const buttonEl =\n",
              "          document.querySelector('#df-39ab6904-da52-4d43-b80a-5a79841d29f1 button.colab-df-convert');\n",
              "        buttonEl.style.display =\n",
              "          google.colab.kernel.accessAllowed ? 'block' : 'none';\n",
              "\n",
              "        async function convertToInteractive(key) {\n",
              "          const element = document.querySelector('#df-39ab6904-da52-4d43-b80a-5a79841d29f1');\n",
              "          const dataTable =\n",
              "            await google.colab.kernel.invokeFunction('convertToInteractive',\n",
              "                                                     [key], {});\n",
              "          if (!dataTable) return;\n",
              "\n",
              "          const docLinkHtml = 'Like what you see? Visit the ' +\n",
              "            '<a target=\"_blank\" href=https://colab.research.google.com/notebooks/data_table.ipynb>data table notebook</a>'\n",
              "            + ' to learn more about interactive tables.';\n",
              "          element.innerHTML = '';\n",
              "          dataTable['output_type'] = 'display_data';\n",
              "          await google.colab.output.renderOutput(dataTable, element);\n",
              "          const docLink = document.createElement('div');\n",
              "          docLink.innerHTML = docLinkHtml;\n",
              "          element.appendChild(docLink);\n",
              "        }\n",
              "      </script>\n",
              "    </div>\n",
              "  </div>\n",
              "  "
            ]
          },
          "metadata": {},
          "execution_count": 54
        }
      ]
    },
    {
      "cell_type": "code",
      "source": [
        "df2['OMAR':'JAYA']"
      ],
      "metadata": {
        "colab": {
          "base_uri": "https://localhost:8080/",
          "height": 175
        },
        "id": "jcBAobWjr2WD",
        "outputId": "3eed1de9-8d87-4bdb-e01b-93b4dbe76e82"
      },
      "execution_count": 55,
      "outputs": [
        {
          "output_type": "execute_result",
          "data": {
            "text/plain": [
              "       APELLIDO   OCUPACION GRADO_PREPARACION         CUIDAD  EDAD\n",
              "NOMBRE                                                            \n",
              "OMAR     GAMBOA        PEON               NaN         PUEBLA    24\n",
              "MIRIAM  JIMENES  ESTUDIANTE            KINDER         MANILA    25\n",
              "JAYA      RIERA         NaN       PRREESCOLAR  TANGAMANDAPIO    50"
            ],
            "text/html": [
              "\n",
              "  <div id=\"df-9716ac8b-6227-4197-a98c-a45748f586a3\">\n",
              "    <div class=\"colab-df-container\">\n",
              "      <div>\n",
              "<style scoped>\n",
              "    .dataframe tbody tr th:only-of-type {\n",
              "        vertical-align: middle;\n",
              "    }\n",
              "\n",
              "    .dataframe tbody tr th {\n",
              "        vertical-align: top;\n",
              "    }\n",
              "\n",
              "    .dataframe thead th {\n",
              "        text-align: right;\n",
              "    }\n",
              "</style>\n",
              "<table border=\"1\" class=\"dataframe\">\n",
              "  <thead>\n",
              "    <tr style=\"text-align: right;\">\n",
              "      <th></th>\n",
              "      <th>APELLIDO</th>\n",
              "      <th>OCUPACION</th>\n",
              "      <th>GRADO_PREPARACION</th>\n",
              "      <th>CUIDAD</th>\n",
              "      <th>EDAD</th>\n",
              "    </tr>\n",
              "    <tr>\n",
              "      <th>NOMBRE</th>\n",
              "      <th></th>\n",
              "      <th></th>\n",
              "      <th></th>\n",
              "      <th></th>\n",
              "      <th></th>\n",
              "    </tr>\n",
              "  </thead>\n",
              "  <tbody>\n",
              "    <tr>\n",
              "      <th>OMAR</th>\n",
              "      <td>GAMBOA</td>\n",
              "      <td>PEON</td>\n",
              "      <td>NaN</td>\n",
              "      <td>PUEBLA</td>\n",
              "      <td>24</td>\n",
              "    </tr>\n",
              "    <tr>\n",
              "      <th>MIRIAM</th>\n",
              "      <td>JIMENES</td>\n",
              "      <td>ESTUDIANTE</td>\n",
              "      <td>KINDER</td>\n",
              "      <td>MANILA</td>\n",
              "      <td>25</td>\n",
              "    </tr>\n",
              "    <tr>\n",
              "      <th>JAYA</th>\n",
              "      <td>RIERA</td>\n",
              "      <td>NaN</td>\n",
              "      <td>PRREESCOLAR</td>\n",
              "      <td>TANGAMANDAPIO</td>\n",
              "      <td>50</td>\n",
              "    </tr>\n",
              "  </tbody>\n",
              "</table>\n",
              "</div>\n",
              "      <button class=\"colab-df-convert\" onclick=\"convertToInteractive('df-9716ac8b-6227-4197-a98c-a45748f586a3')\"\n",
              "              title=\"Convert this dataframe to an interactive table.\"\n",
              "              style=\"display:none;\">\n",
              "        \n",
              "  <svg xmlns=\"http://www.w3.org/2000/svg\" height=\"24px\"viewBox=\"0 0 24 24\"\n",
              "       width=\"24px\">\n",
              "    <path d=\"M0 0h24v24H0V0z\" fill=\"none\"/>\n",
              "    <path d=\"M18.56 5.44l.94 2.06.94-2.06 2.06-.94-2.06-.94-.94-2.06-.94 2.06-2.06.94zm-11 1L8.5 8.5l.94-2.06 2.06-.94-2.06-.94L8.5 2.5l-.94 2.06-2.06.94zm10 10l.94 2.06.94-2.06 2.06-.94-2.06-.94-.94-2.06-.94 2.06-2.06.94z\"/><path d=\"M17.41 7.96l-1.37-1.37c-.4-.4-.92-.59-1.43-.59-.52 0-1.04.2-1.43.59L10.3 9.45l-7.72 7.72c-.78.78-.78 2.05 0 2.83L4 21.41c.39.39.9.59 1.41.59.51 0 1.02-.2 1.41-.59l7.78-7.78 2.81-2.81c.8-.78.8-2.07 0-2.86zM5.41 20L4 18.59l7.72-7.72 1.47 1.35L5.41 20z\"/>\n",
              "  </svg>\n",
              "      </button>\n",
              "      \n",
              "  <style>\n",
              "    .colab-df-container {\n",
              "      display:flex;\n",
              "      flex-wrap:wrap;\n",
              "      gap: 12px;\n",
              "    }\n",
              "\n",
              "    .colab-df-convert {\n",
              "      background-color: #E8F0FE;\n",
              "      border: none;\n",
              "      border-radius: 50%;\n",
              "      cursor: pointer;\n",
              "      display: none;\n",
              "      fill: #1967D2;\n",
              "      height: 32px;\n",
              "      padding: 0 0 0 0;\n",
              "      width: 32px;\n",
              "    }\n",
              "\n",
              "    .colab-df-convert:hover {\n",
              "      background-color: #E2EBFA;\n",
              "      box-shadow: 0px 1px 2px rgba(60, 64, 67, 0.3), 0px 1px 3px 1px rgba(60, 64, 67, 0.15);\n",
              "      fill: #174EA6;\n",
              "    }\n",
              "\n",
              "    [theme=dark] .colab-df-convert {\n",
              "      background-color: #3B4455;\n",
              "      fill: #D2E3FC;\n",
              "    }\n",
              "\n",
              "    [theme=dark] .colab-df-convert:hover {\n",
              "      background-color: #434B5C;\n",
              "      box-shadow: 0px 1px 3px 1px rgba(0, 0, 0, 0.15);\n",
              "      filter: drop-shadow(0px 1px 2px rgba(0, 0, 0, 0.3));\n",
              "      fill: #FFFFFF;\n",
              "    }\n",
              "  </style>\n",
              "\n",
              "      <script>\n",
              "        const buttonEl =\n",
              "          document.querySelector('#df-9716ac8b-6227-4197-a98c-a45748f586a3 button.colab-df-convert');\n",
              "        buttonEl.style.display =\n",
              "          google.colab.kernel.accessAllowed ? 'block' : 'none';\n",
              "\n",
              "        async function convertToInteractive(key) {\n",
              "          const element = document.querySelector('#df-9716ac8b-6227-4197-a98c-a45748f586a3');\n",
              "          const dataTable =\n",
              "            await google.colab.kernel.invokeFunction('convertToInteractive',\n",
              "                                                     [key], {});\n",
              "          if (!dataTable) return;\n",
              "\n",
              "          const docLinkHtml = 'Like what you see? Visit the ' +\n",
              "            '<a target=\"_blank\" href=https://colab.research.google.com/notebooks/data_table.ipynb>data table notebook</a>'\n",
              "            + ' to learn more about interactive tables.';\n",
              "          element.innerHTML = '';\n",
              "          dataTable['output_type'] = 'display_data';\n",
              "          await google.colab.output.renderOutput(dataTable, element);\n",
              "          const docLink = document.createElement('div');\n",
              "          docLink.innerHTML = docLinkHtml;\n",
              "          element.appendChild(docLink);\n",
              "        }\n",
              "      </script>\n",
              "    </div>\n",
              "  </div>\n",
              "  "
            ]
          },
          "metadata": {},
          "execution_count": 55
        }
      ]
    },
    {
      "cell_type": "markdown",
      "source": [
        "DE ESTA MANERA PODEMOS OBTENER TODAS LAS HILERAS QUE ESTAN ENTRE OMAR Y JAYA INCLUYENDOLOS"
      ],
      "metadata": {
        "id": "K9mxq0GpsE_8"
      }
    },
    {
      "cell_type": "markdown",
      "source": [
        "# **SELECCIONAR HILERAS Y COLUMNAS AL MISMO TIEMPO USANDO loc[ ].**"
      ],
      "metadata": {
        "id": "2sMn48qsshy1"
      }
    },
    {
      "cell_type": "markdown",
      "source": [
        "PODEMOS SELECCIONAR QUE INFORMACION QUEREMOS ESPECIFICAMENTE ESCOGIENDO EL NOMBRE DE LAS HILERAS Y DE LAS COLUMNAS QUE DESEAMOS LA INFORMACION. \n"
      ],
      "metadata": {
        "id": "6ZNk5juAs_e9"
      }
    },
    {
      "cell_type": "code",
      "source": [
        "df2"
      ],
      "metadata": {
        "colab": {
          "base_uri": "https://localhost:8080/",
          "height": 237
        },
        "id": "uOr5SkG0u4P7",
        "outputId": "1a8f2dd9-bb7b-4254-a64a-1ba5bdf0dbce"
      },
      "execution_count": 56,
      "outputs": [
        {
          "output_type": "execute_result",
          "data": {
            "text/plain": [
              "        APELLIDO   OCUPACION GRADO_PREPARACION         CUIDAD  EDAD\n",
              "NOMBRE                                                             \n",
              "JORGE   CASTILLO  ESTUDIANTE       UNIVERSIDAD            NaN    23\n",
              "OMAR      GAMBOA        PEON               NaN         PUEBLA    24\n",
              "MIRIAM   JIMENES  ESTUDIANTE            KINDER         MANILA    25\n",
              "JAYA       RIERA         NaN       PRREESCOLAR  TANGAMANDAPIO    50\n",
              "JANA      GAMBOA      MELAVA              SECU        YAGUARU   100"
            ],
            "text/html": [
              "\n",
              "  <div id=\"df-4807492f-d716-4b0a-8906-5823fe7ab52f\">\n",
              "    <div class=\"colab-df-container\">\n",
              "      <div>\n",
              "<style scoped>\n",
              "    .dataframe tbody tr th:only-of-type {\n",
              "        vertical-align: middle;\n",
              "    }\n",
              "\n",
              "    .dataframe tbody tr th {\n",
              "        vertical-align: top;\n",
              "    }\n",
              "\n",
              "    .dataframe thead th {\n",
              "        text-align: right;\n",
              "    }\n",
              "</style>\n",
              "<table border=\"1\" class=\"dataframe\">\n",
              "  <thead>\n",
              "    <tr style=\"text-align: right;\">\n",
              "      <th></th>\n",
              "      <th>APELLIDO</th>\n",
              "      <th>OCUPACION</th>\n",
              "      <th>GRADO_PREPARACION</th>\n",
              "      <th>CUIDAD</th>\n",
              "      <th>EDAD</th>\n",
              "    </tr>\n",
              "    <tr>\n",
              "      <th>NOMBRE</th>\n",
              "      <th></th>\n",
              "      <th></th>\n",
              "      <th></th>\n",
              "      <th></th>\n",
              "      <th></th>\n",
              "    </tr>\n",
              "  </thead>\n",
              "  <tbody>\n",
              "    <tr>\n",
              "      <th>JORGE</th>\n",
              "      <td>CASTILLO</td>\n",
              "      <td>ESTUDIANTE</td>\n",
              "      <td>UNIVERSIDAD</td>\n",
              "      <td>NaN</td>\n",
              "      <td>23</td>\n",
              "    </tr>\n",
              "    <tr>\n",
              "      <th>OMAR</th>\n",
              "      <td>GAMBOA</td>\n",
              "      <td>PEON</td>\n",
              "      <td>NaN</td>\n",
              "      <td>PUEBLA</td>\n",
              "      <td>24</td>\n",
              "    </tr>\n",
              "    <tr>\n",
              "      <th>MIRIAM</th>\n",
              "      <td>JIMENES</td>\n",
              "      <td>ESTUDIANTE</td>\n",
              "      <td>KINDER</td>\n",
              "      <td>MANILA</td>\n",
              "      <td>25</td>\n",
              "    </tr>\n",
              "    <tr>\n",
              "      <th>JAYA</th>\n",
              "      <td>RIERA</td>\n",
              "      <td>NaN</td>\n",
              "      <td>PRREESCOLAR</td>\n",
              "      <td>TANGAMANDAPIO</td>\n",
              "      <td>50</td>\n",
              "    </tr>\n",
              "    <tr>\n",
              "      <th>JANA</th>\n",
              "      <td>GAMBOA</td>\n",
              "      <td>MELAVA</td>\n",
              "      <td>SECU</td>\n",
              "      <td>YAGUARU</td>\n",
              "      <td>100</td>\n",
              "    </tr>\n",
              "  </tbody>\n",
              "</table>\n",
              "</div>\n",
              "      <button class=\"colab-df-convert\" onclick=\"convertToInteractive('df-4807492f-d716-4b0a-8906-5823fe7ab52f')\"\n",
              "              title=\"Convert this dataframe to an interactive table.\"\n",
              "              style=\"display:none;\">\n",
              "        \n",
              "  <svg xmlns=\"http://www.w3.org/2000/svg\" height=\"24px\"viewBox=\"0 0 24 24\"\n",
              "       width=\"24px\">\n",
              "    <path d=\"M0 0h24v24H0V0z\" fill=\"none\"/>\n",
              "    <path d=\"M18.56 5.44l.94 2.06.94-2.06 2.06-.94-2.06-.94-.94-2.06-.94 2.06-2.06.94zm-11 1L8.5 8.5l.94-2.06 2.06-.94-2.06-.94L8.5 2.5l-.94 2.06-2.06.94zm10 10l.94 2.06.94-2.06 2.06-.94-2.06-.94-.94-2.06-.94 2.06-2.06.94z\"/><path d=\"M17.41 7.96l-1.37-1.37c-.4-.4-.92-.59-1.43-.59-.52 0-1.04.2-1.43.59L10.3 9.45l-7.72 7.72c-.78.78-.78 2.05 0 2.83L4 21.41c.39.39.9.59 1.41.59.51 0 1.02-.2 1.41-.59l7.78-7.78 2.81-2.81c.8-.78.8-2.07 0-2.86zM5.41 20L4 18.59l7.72-7.72 1.47 1.35L5.41 20z\"/>\n",
              "  </svg>\n",
              "      </button>\n",
              "      \n",
              "  <style>\n",
              "    .colab-df-container {\n",
              "      display:flex;\n",
              "      flex-wrap:wrap;\n",
              "      gap: 12px;\n",
              "    }\n",
              "\n",
              "    .colab-df-convert {\n",
              "      background-color: #E8F0FE;\n",
              "      border: none;\n",
              "      border-radius: 50%;\n",
              "      cursor: pointer;\n",
              "      display: none;\n",
              "      fill: #1967D2;\n",
              "      height: 32px;\n",
              "      padding: 0 0 0 0;\n",
              "      width: 32px;\n",
              "    }\n",
              "\n",
              "    .colab-df-convert:hover {\n",
              "      background-color: #E2EBFA;\n",
              "      box-shadow: 0px 1px 2px rgba(60, 64, 67, 0.3), 0px 1px 3px 1px rgba(60, 64, 67, 0.15);\n",
              "      fill: #174EA6;\n",
              "    }\n",
              "\n",
              "    [theme=dark] .colab-df-convert {\n",
              "      background-color: #3B4455;\n",
              "      fill: #D2E3FC;\n",
              "    }\n",
              "\n",
              "    [theme=dark] .colab-df-convert:hover {\n",
              "      background-color: #434B5C;\n",
              "      box-shadow: 0px 1px 3px 1px rgba(0, 0, 0, 0.15);\n",
              "      filter: drop-shadow(0px 1px 2px rgba(0, 0, 0, 0.3));\n",
              "      fill: #FFFFFF;\n",
              "    }\n",
              "  </style>\n",
              "\n",
              "      <script>\n",
              "        const buttonEl =\n",
              "          document.querySelector('#df-4807492f-d716-4b0a-8906-5823fe7ab52f button.colab-df-convert');\n",
              "        buttonEl.style.display =\n",
              "          google.colab.kernel.accessAllowed ? 'block' : 'none';\n",
              "\n",
              "        async function convertToInteractive(key) {\n",
              "          const element = document.querySelector('#df-4807492f-d716-4b0a-8906-5823fe7ab52f');\n",
              "          const dataTable =\n",
              "            await google.colab.kernel.invokeFunction('convertToInteractive',\n",
              "                                                     [key], {});\n",
              "          if (!dataTable) return;\n",
              "\n",
              "          const docLinkHtml = 'Like what you see? Visit the ' +\n",
              "            '<a target=\"_blank\" href=https://colab.research.google.com/notebooks/data_table.ipynb>data table notebook</a>'\n",
              "            + ' to learn more about interactive tables.';\n",
              "          element.innerHTML = '';\n",
              "          dataTable['output_type'] = 'display_data';\n",
              "          await google.colab.output.renderOutput(dataTable, element);\n",
              "          const docLink = document.createElement('div');\n",
              "          docLink.innerHTML = docLinkHtml;\n",
              "          element.appendChild(docLink);\n",
              "        }\n",
              "      </script>\n",
              "    </div>\n",
              "  </div>\n",
              "  "
            ]
          },
          "metadata": {},
          "execution_count": 56
        }
      ]
    },
    {
      "cell_type": "code",
      "source": [
        "df2.loc[['JORGE', 'MIRIAM'],['APELLIDO', 'CUIDAD', 'EDAD']]"
      ],
      "metadata": {
        "colab": {
          "base_uri": "https://localhost:8080/",
          "height": 143
        },
        "id": "lmu1YM3VtiBV",
        "outputId": "e168efb4-5c57-4b87-ef7a-c24dc54c54c6"
      },
      "execution_count": 57,
      "outputs": [
        {
          "output_type": "execute_result",
          "data": {
            "text/plain": [
              "        APELLIDO  CUIDAD  EDAD\n",
              "NOMBRE                        \n",
              "JORGE   CASTILLO     NaN    23\n",
              "MIRIAM   JIMENES  MANILA    25"
            ],
            "text/html": [
              "\n",
              "  <div id=\"df-49fc5608-bddf-4ec4-a109-81ef446d9ec9\">\n",
              "    <div class=\"colab-df-container\">\n",
              "      <div>\n",
              "<style scoped>\n",
              "    .dataframe tbody tr th:only-of-type {\n",
              "        vertical-align: middle;\n",
              "    }\n",
              "\n",
              "    .dataframe tbody tr th {\n",
              "        vertical-align: top;\n",
              "    }\n",
              "\n",
              "    .dataframe thead th {\n",
              "        text-align: right;\n",
              "    }\n",
              "</style>\n",
              "<table border=\"1\" class=\"dataframe\">\n",
              "  <thead>\n",
              "    <tr style=\"text-align: right;\">\n",
              "      <th></th>\n",
              "      <th>APELLIDO</th>\n",
              "      <th>CUIDAD</th>\n",
              "      <th>EDAD</th>\n",
              "    </tr>\n",
              "    <tr>\n",
              "      <th>NOMBRE</th>\n",
              "      <th></th>\n",
              "      <th></th>\n",
              "      <th></th>\n",
              "    </tr>\n",
              "  </thead>\n",
              "  <tbody>\n",
              "    <tr>\n",
              "      <th>JORGE</th>\n",
              "      <td>CASTILLO</td>\n",
              "      <td>NaN</td>\n",
              "      <td>23</td>\n",
              "    </tr>\n",
              "    <tr>\n",
              "      <th>MIRIAM</th>\n",
              "      <td>JIMENES</td>\n",
              "      <td>MANILA</td>\n",
              "      <td>25</td>\n",
              "    </tr>\n",
              "  </tbody>\n",
              "</table>\n",
              "</div>\n",
              "      <button class=\"colab-df-convert\" onclick=\"convertToInteractive('df-49fc5608-bddf-4ec4-a109-81ef446d9ec9')\"\n",
              "              title=\"Convert this dataframe to an interactive table.\"\n",
              "              style=\"display:none;\">\n",
              "        \n",
              "  <svg xmlns=\"http://www.w3.org/2000/svg\" height=\"24px\"viewBox=\"0 0 24 24\"\n",
              "       width=\"24px\">\n",
              "    <path d=\"M0 0h24v24H0V0z\" fill=\"none\"/>\n",
              "    <path d=\"M18.56 5.44l.94 2.06.94-2.06 2.06-.94-2.06-.94-.94-2.06-.94 2.06-2.06.94zm-11 1L8.5 8.5l.94-2.06 2.06-.94-2.06-.94L8.5 2.5l-.94 2.06-2.06.94zm10 10l.94 2.06.94-2.06 2.06-.94-2.06-.94-.94-2.06-.94 2.06-2.06.94z\"/><path d=\"M17.41 7.96l-1.37-1.37c-.4-.4-.92-.59-1.43-.59-.52 0-1.04.2-1.43.59L10.3 9.45l-7.72 7.72c-.78.78-.78 2.05 0 2.83L4 21.41c.39.39.9.59 1.41.59.51 0 1.02-.2 1.41-.59l7.78-7.78 2.81-2.81c.8-.78.8-2.07 0-2.86zM5.41 20L4 18.59l7.72-7.72 1.47 1.35L5.41 20z\"/>\n",
              "  </svg>\n",
              "      </button>\n",
              "      \n",
              "  <style>\n",
              "    .colab-df-container {\n",
              "      display:flex;\n",
              "      flex-wrap:wrap;\n",
              "      gap: 12px;\n",
              "    }\n",
              "\n",
              "    .colab-df-convert {\n",
              "      background-color: #E8F0FE;\n",
              "      border: none;\n",
              "      border-radius: 50%;\n",
              "      cursor: pointer;\n",
              "      display: none;\n",
              "      fill: #1967D2;\n",
              "      height: 32px;\n",
              "      padding: 0 0 0 0;\n",
              "      width: 32px;\n",
              "    }\n",
              "\n",
              "    .colab-df-convert:hover {\n",
              "      background-color: #E2EBFA;\n",
              "      box-shadow: 0px 1px 2px rgba(60, 64, 67, 0.3), 0px 1px 3px 1px rgba(60, 64, 67, 0.15);\n",
              "      fill: #174EA6;\n",
              "    }\n",
              "\n",
              "    [theme=dark] .colab-df-convert {\n",
              "      background-color: #3B4455;\n",
              "      fill: #D2E3FC;\n",
              "    }\n",
              "\n",
              "    [theme=dark] .colab-df-convert:hover {\n",
              "      background-color: #434B5C;\n",
              "      box-shadow: 0px 1px 3px 1px rgba(0, 0, 0, 0.15);\n",
              "      filter: drop-shadow(0px 1px 2px rgba(0, 0, 0, 0.3));\n",
              "      fill: #FFFFFF;\n",
              "    }\n",
              "  </style>\n",
              "\n",
              "      <script>\n",
              "        const buttonEl =\n",
              "          document.querySelector('#df-49fc5608-bddf-4ec4-a109-81ef446d9ec9 button.colab-df-convert');\n",
              "        buttonEl.style.display =\n",
              "          google.colab.kernel.accessAllowed ? 'block' : 'none';\n",
              "\n",
              "        async function convertToInteractive(key) {\n",
              "          const element = document.querySelector('#df-49fc5608-bddf-4ec4-a109-81ef446d9ec9');\n",
              "          const dataTable =\n",
              "            await google.colab.kernel.invokeFunction('convertToInteractive',\n",
              "                                                     [key], {});\n",
              "          if (!dataTable) return;\n",
              "\n",
              "          const docLinkHtml = 'Like what you see? Visit the ' +\n",
              "            '<a target=\"_blank\" href=https://colab.research.google.com/notebooks/data_table.ipynb>data table notebook</a>'\n",
              "            + ' to learn more about interactive tables.';\n",
              "          element.innerHTML = '';\n",
              "          dataTable['output_type'] = 'display_data';\n",
              "          await google.colab.output.renderOutput(dataTable, element);\n",
              "          const docLink = document.createElement('div');\n",
              "          docLink.innerHTML = docLinkHtml;\n",
              "          element.appendChild(docLink);\n",
              "        }\n",
              "      </script>\n",
              "    </div>\n",
              "  </div>\n",
              "  "
            ]
          },
          "metadata": {},
          "execution_count": 57
        }
      ]
    },
    {
      "cell_type": "markdown",
      "source": [
        "ASI PODEMOS OBTENER LOS DATOS ESPECIFICOS DE LOS ESTUDIANTES: \n",
        "nombre_tabla.loc[[indice1,indice2], [columna1,columna2,columna3]] \n",
        "OBTENDREMOS COMO RESULTADO LA INFORMACION ESCRITA EN ESOS CAMPOS."
      ],
      "metadata": {
        "id": "9QPNIKARvLtB"
      }
    },
    {
      "cell_type": "markdown",
      "source": [
        "**HAY DIFERENTES FORMAS DE OBTENER LOS RESULTADOS:**"
      ],
      "metadata": {
        "id": "d5-NJS9YzYoQ"
      }
    },
    {
      "cell_type": "code",
      "source": [
        "print(type(df2.loc['OMAR']))\n",
        "df2.loc['OMAR'] # DE UNA HILERA"
      ],
      "metadata": {
        "colab": {
          "base_uri": "https://localhost:8080/"
        },
        "id": "DOPaJ4_GzpuI",
        "outputId": "7f578efa-d839-4e95-b03a-cb61331033a0"
      },
      "execution_count": 63,
      "outputs": [
        {
          "output_type": "stream",
          "name": "stdout",
          "text": [
            "<class 'pandas.core.series.Series'>\n"
          ]
        },
        {
          "output_type": "execute_result",
          "data": {
            "text/plain": [
              "APELLIDO             GAMBOA\n",
              "OCUPACION              PEON\n",
              "GRADO_PREPARACION       NaN\n",
              "CUIDAD               PUEBLA\n",
              "EDAD                     24\n",
              "Name: OMAR, dtype: object"
            ]
          },
          "metadata": {},
          "execution_count": 63
        }
      ]
    },
    {
      "cell_type": "markdown",
      "source": [
        "ES DE TIPO SERIES"
      ],
      "metadata": {
        "id": "a6mdjUUk1jQe"
      }
    },
    {
      "cell_type": "code",
      "source": [
        "df2.loc['JAYA',['APELLIDO', 'GRADO_PREPARACION', 'EDAD']] # UNA HILERA(1 ESTUDIANTE) Y VARIAS COLUMNAS"
      ],
      "metadata": {
        "colab": {
          "base_uri": "https://localhost:8080/"
        },
        "id": "9MM07ISk0D5I",
        "outputId": "9ca78117-1ea1-413a-c154-482bce41688d"
      },
      "execution_count": 60,
      "outputs": [
        {
          "output_type": "execute_result",
          "data": {
            "text/plain": [
              "APELLIDO                   RIERA\n",
              "GRADO_PREPARACION    PRREESCOLAR\n",
              "EDAD                          50\n",
              "Name: JAYA, dtype: object"
            ]
          },
          "metadata": {},
          "execution_count": 60
        }
      ]
    },
    {
      "cell_type": "markdown",
      "source": [
        "ES DE TIPO SERIES"
      ],
      "metadata": {
        "id": "1HxuDnqt13Fu"
      }
    },
    {
      "cell_type": "code",
      "source": [
        "df2.loc['OMAR':'JAYA',['OCUPACION', 'CUIDAD']] # UN RANGO DE ESTUDIANTES Y 2 O VARIAS COLUMNAS"
      ],
      "metadata": {
        "colab": {
          "base_uri": "https://localhost:8080/",
          "height": 175
        },
        "id": "7HDUopnf0f-O",
        "outputId": "f54a0960-e22f-4df7-be6a-f37ca8e1410b"
      },
      "execution_count": 62,
      "outputs": [
        {
          "output_type": "execute_result",
          "data": {
            "text/plain": [
              "         OCUPACION         CUIDAD\n",
              "NOMBRE                           \n",
              "OMAR          PEON         PUEBLA\n",
              "MIRIAM  ESTUDIANTE         MANILA\n",
              "JAYA           NaN  TANGAMANDAPIO"
            ],
            "text/html": [
              "\n",
              "  <div id=\"df-77698b4b-d021-4e63-8933-ca8c94a18afa\">\n",
              "    <div class=\"colab-df-container\">\n",
              "      <div>\n",
              "<style scoped>\n",
              "    .dataframe tbody tr th:only-of-type {\n",
              "        vertical-align: middle;\n",
              "    }\n",
              "\n",
              "    .dataframe tbody tr th {\n",
              "        vertical-align: top;\n",
              "    }\n",
              "\n",
              "    .dataframe thead th {\n",
              "        text-align: right;\n",
              "    }\n",
              "</style>\n",
              "<table border=\"1\" class=\"dataframe\">\n",
              "  <thead>\n",
              "    <tr style=\"text-align: right;\">\n",
              "      <th></th>\n",
              "      <th>OCUPACION</th>\n",
              "      <th>CUIDAD</th>\n",
              "    </tr>\n",
              "    <tr>\n",
              "      <th>NOMBRE</th>\n",
              "      <th></th>\n",
              "      <th></th>\n",
              "    </tr>\n",
              "  </thead>\n",
              "  <tbody>\n",
              "    <tr>\n",
              "      <th>OMAR</th>\n",
              "      <td>PEON</td>\n",
              "      <td>PUEBLA</td>\n",
              "    </tr>\n",
              "    <tr>\n",
              "      <th>MIRIAM</th>\n",
              "      <td>ESTUDIANTE</td>\n",
              "      <td>MANILA</td>\n",
              "    </tr>\n",
              "    <tr>\n",
              "      <th>JAYA</th>\n",
              "      <td>NaN</td>\n",
              "      <td>TANGAMANDAPIO</td>\n",
              "    </tr>\n",
              "  </tbody>\n",
              "</table>\n",
              "</div>\n",
              "      <button class=\"colab-df-convert\" onclick=\"convertToInteractive('df-77698b4b-d021-4e63-8933-ca8c94a18afa')\"\n",
              "              title=\"Convert this dataframe to an interactive table.\"\n",
              "              style=\"display:none;\">\n",
              "        \n",
              "  <svg xmlns=\"http://www.w3.org/2000/svg\" height=\"24px\"viewBox=\"0 0 24 24\"\n",
              "       width=\"24px\">\n",
              "    <path d=\"M0 0h24v24H0V0z\" fill=\"none\"/>\n",
              "    <path d=\"M18.56 5.44l.94 2.06.94-2.06 2.06-.94-2.06-.94-.94-2.06-.94 2.06-2.06.94zm-11 1L8.5 8.5l.94-2.06 2.06-.94-2.06-.94L8.5 2.5l-.94 2.06-2.06.94zm10 10l.94 2.06.94-2.06 2.06-.94-2.06-.94-.94-2.06-.94 2.06-2.06.94z\"/><path d=\"M17.41 7.96l-1.37-1.37c-.4-.4-.92-.59-1.43-.59-.52 0-1.04.2-1.43.59L10.3 9.45l-7.72 7.72c-.78.78-.78 2.05 0 2.83L4 21.41c.39.39.9.59 1.41.59.51 0 1.02-.2 1.41-.59l7.78-7.78 2.81-2.81c.8-.78.8-2.07 0-2.86zM5.41 20L4 18.59l7.72-7.72 1.47 1.35L5.41 20z\"/>\n",
              "  </svg>\n",
              "      </button>\n",
              "      \n",
              "  <style>\n",
              "    .colab-df-container {\n",
              "      display:flex;\n",
              "      flex-wrap:wrap;\n",
              "      gap: 12px;\n",
              "    }\n",
              "\n",
              "    .colab-df-convert {\n",
              "      background-color: #E8F0FE;\n",
              "      border: none;\n",
              "      border-radius: 50%;\n",
              "      cursor: pointer;\n",
              "      display: none;\n",
              "      fill: #1967D2;\n",
              "      height: 32px;\n",
              "      padding: 0 0 0 0;\n",
              "      width: 32px;\n",
              "    }\n",
              "\n",
              "    .colab-df-convert:hover {\n",
              "      background-color: #E2EBFA;\n",
              "      box-shadow: 0px 1px 2px rgba(60, 64, 67, 0.3), 0px 1px 3px 1px rgba(60, 64, 67, 0.15);\n",
              "      fill: #174EA6;\n",
              "    }\n",
              "\n",
              "    [theme=dark] .colab-df-convert {\n",
              "      background-color: #3B4455;\n",
              "      fill: #D2E3FC;\n",
              "    }\n",
              "\n",
              "    [theme=dark] .colab-df-convert:hover {\n",
              "      background-color: #434B5C;\n",
              "      box-shadow: 0px 1px 3px 1px rgba(0, 0, 0, 0.15);\n",
              "      filter: drop-shadow(0px 1px 2px rgba(0, 0, 0, 0.3));\n",
              "      fill: #FFFFFF;\n",
              "    }\n",
              "  </style>\n",
              "\n",
              "      <script>\n",
              "        const buttonEl =\n",
              "          document.querySelector('#df-77698b4b-d021-4e63-8933-ca8c94a18afa button.colab-df-convert');\n",
              "        buttonEl.style.display =\n",
              "          google.colab.kernel.accessAllowed ? 'block' : 'none';\n",
              "\n",
              "        async function convertToInteractive(key) {\n",
              "          const element = document.querySelector('#df-77698b4b-d021-4e63-8933-ca8c94a18afa');\n",
              "          const dataTable =\n",
              "            await google.colab.kernel.invokeFunction('convertToInteractive',\n",
              "                                                     [key], {});\n",
              "          if (!dataTable) return;\n",
              "\n",
              "          const docLinkHtml = 'Like what you see? Visit the ' +\n",
              "            '<a target=\"_blank\" href=https://colab.research.google.com/notebooks/data_table.ipynb>data table notebook</a>'\n",
              "            + ' to learn more about interactive tables.';\n",
              "          element.innerHTML = '';\n",
              "          dataTable['output_type'] = 'display_data';\n",
              "          await google.colab.output.renderOutput(dataTable, element);\n",
              "          const docLink = document.createElement('div');\n",
              "          docLink.innerHTML = docLinkHtml;\n",
              "          element.appendChild(docLink);\n",
              "        }\n",
              "      </script>\n",
              "    </div>\n",
              "  </div>\n",
              "  "
            ]
          },
          "metadata": {},
          "execution_count": 62
        }
      ]
    },
    {
      "cell_type": "markdown",
      "source": [
        "es de tipo data frame"
      ],
      "metadata": {
        "id": "fMWIxfSK2G4X"
      }
    },
    {
      "cell_type": "code",
      "source": [
        "df2.loc['OMAR':'JAYA','OCUPACION']"
      ],
      "metadata": {
        "colab": {
          "base_uri": "https://localhost:8080/"
        },
        "id": "1vsP-mWV2dJe",
        "outputId": "28f62805-6e91-48b2-a732-797b41ffbaaf"
      },
      "execution_count": 64,
      "outputs": [
        {
          "output_type": "execute_result",
          "data": {
            "text/plain": [
              "NOMBRE\n",
              "OMAR            PEON\n",
              "MIRIAM    ESTUDIANTE\n",
              "JAYA             NaN\n",
              "Name: OCUPACION, dtype: object"
            ]
          },
          "metadata": {},
          "execution_count": 64
        }
      ]
    },
    {
      "cell_type": "markdown",
      "source": [
        "ES DE TIPO SERIES"
      ],
      "metadata": {
        "id": "GdZACEAK2mTP"
      }
    },
    {
      "cell_type": "markdown",
      "source": [
        "# **COMO OBTENER UN DATO EN ESPECIFICO DE UN ESTUDIANTE DEACUERDO A UNA COLUMNA CON loc[ ]**"
      ],
      "metadata": {
        "id": "uTJDTHo-3Wxp"
      }
    },
    {
      "cell_type": "code",
      "source": [
        "df2"
      ],
      "metadata": {
        "colab": {
          "base_uri": "https://localhost:8080/",
          "height": 237
        },
        "id": "WVy8z4N939i2",
        "outputId": "c6f361ef-32bd-4741-c39e-3abac47edc1a"
      },
      "execution_count": 65,
      "outputs": [
        {
          "output_type": "execute_result",
          "data": {
            "text/plain": [
              "        APELLIDO   OCUPACION GRADO_PREPARACION         CUIDAD  EDAD\n",
              "NOMBRE                                                             \n",
              "JORGE   CASTILLO  ESTUDIANTE       UNIVERSIDAD            NaN    23\n",
              "OMAR      GAMBOA        PEON               NaN         PUEBLA    24\n",
              "MIRIAM   JIMENES  ESTUDIANTE            KINDER         MANILA    25\n",
              "JAYA       RIERA         NaN       PRREESCOLAR  TANGAMANDAPIO    50\n",
              "JANA      GAMBOA      MELAVA              SECU        YAGUARU   100"
            ],
            "text/html": [
              "\n",
              "  <div id=\"df-b42ffcf4-c198-4e2f-b605-d396cb141a34\">\n",
              "    <div class=\"colab-df-container\">\n",
              "      <div>\n",
              "<style scoped>\n",
              "    .dataframe tbody tr th:only-of-type {\n",
              "        vertical-align: middle;\n",
              "    }\n",
              "\n",
              "    .dataframe tbody tr th {\n",
              "        vertical-align: top;\n",
              "    }\n",
              "\n",
              "    .dataframe thead th {\n",
              "        text-align: right;\n",
              "    }\n",
              "</style>\n",
              "<table border=\"1\" class=\"dataframe\">\n",
              "  <thead>\n",
              "    <tr style=\"text-align: right;\">\n",
              "      <th></th>\n",
              "      <th>APELLIDO</th>\n",
              "      <th>OCUPACION</th>\n",
              "      <th>GRADO_PREPARACION</th>\n",
              "      <th>CUIDAD</th>\n",
              "      <th>EDAD</th>\n",
              "    </tr>\n",
              "    <tr>\n",
              "      <th>NOMBRE</th>\n",
              "      <th></th>\n",
              "      <th></th>\n",
              "      <th></th>\n",
              "      <th></th>\n",
              "      <th></th>\n",
              "    </tr>\n",
              "  </thead>\n",
              "  <tbody>\n",
              "    <tr>\n",
              "      <th>JORGE</th>\n",
              "      <td>CASTILLO</td>\n",
              "      <td>ESTUDIANTE</td>\n",
              "      <td>UNIVERSIDAD</td>\n",
              "      <td>NaN</td>\n",
              "      <td>23</td>\n",
              "    </tr>\n",
              "    <tr>\n",
              "      <th>OMAR</th>\n",
              "      <td>GAMBOA</td>\n",
              "      <td>PEON</td>\n",
              "      <td>NaN</td>\n",
              "      <td>PUEBLA</td>\n",
              "      <td>24</td>\n",
              "    </tr>\n",
              "    <tr>\n",
              "      <th>MIRIAM</th>\n",
              "      <td>JIMENES</td>\n",
              "      <td>ESTUDIANTE</td>\n",
              "      <td>KINDER</td>\n",
              "      <td>MANILA</td>\n",
              "      <td>25</td>\n",
              "    </tr>\n",
              "    <tr>\n",
              "      <th>JAYA</th>\n",
              "      <td>RIERA</td>\n",
              "      <td>NaN</td>\n",
              "      <td>PRREESCOLAR</td>\n",
              "      <td>TANGAMANDAPIO</td>\n",
              "      <td>50</td>\n",
              "    </tr>\n",
              "    <tr>\n",
              "      <th>JANA</th>\n",
              "      <td>GAMBOA</td>\n",
              "      <td>MELAVA</td>\n",
              "      <td>SECU</td>\n",
              "      <td>YAGUARU</td>\n",
              "      <td>100</td>\n",
              "    </tr>\n",
              "  </tbody>\n",
              "</table>\n",
              "</div>\n",
              "      <button class=\"colab-df-convert\" onclick=\"convertToInteractive('df-b42ffcf4-c198-4e2f-b605-d396cb141a34')\"\n",
              "              title=\"Convert this dataframe to an interactive table.\"\n",
              "              style=\"display:none;\">\n",
              "        \n",
              "  <svg xmlns=\"http://www.w3.org/2000/svg\" height=\"24px\"viewBox=\"0 0 24 24\"\n",
              "       width=\"24px\">\n",
              "    <path d=\"M0 0h24v24H0V0z\" fill=\"none\"/>\n",
              "    <path d=\"M18.56 5.44l.94 2.06.94-2.06 2.06-.94-2.06-.94-.94-2.06-.94 2.06-2.06.94zm-11 1L8.5 8.5l.94-2.06 2.06-.94-2.06-.94L8.5 2.5l-.94 2.06-2.06.94zm10 10l.94 2.06.94-2.06 2.06-.94-2.06-.94-.94-2.06-.94 2.06-2.06.94z\"/><path d=\"M17.41 7.96l-1.37-1.37c-.4-.4-.92-.59-1.43-.59-.52 0-1.04.2-1.43.59L10.3 9.45l-7.72 7.72c-.78.78-.78 2.05 0 2.83L4 21.41c.39.39.9.59 1.41.59.51 0 1.02-.2 1.41-.59l7.78-7.78 2.81-2.81c.8-.78.8-2.07 0-2.86zM5.41 20L4 18.59l7.72-7.72 1.47 1.35L5.41 20z\"/>\n",
              "  </svg>\n",
              "      </button>\n",
              "      \n",
              "  <style>\n",
              "    .colab-df-container {\n",
              "      display:flex;\n",
              "      flex-wrap:wrap;\n",
              "      gap: 12px;\n",
              "    }\n",
              "\n",
              "    .colab-df-convert {\n",
              "      background-color: #E8F0FE;\n",
              "      border: none;\n",
              "      border-radius: 50%;\n",
              "      cursor: pointer;\n",
              "      display: none;\n",
              "      fill: #1967D2;\n",
              "      height: 32px;\n",
              "      padding: 0 0 0 0;\n",
              "      width: 32px;\n",
              "    }\n",
              "\n",
              "    .colab-df-convert:hover {\n",
              "      background-color: #E2EBFA;\n",
              "      box-shadow: 0px 1px 2px rgba(60, 64, 67, 0.3), 0px 1px 3px 1px rgba(60, 64, 67, 0.15);\n",
              "      fill: #174EA6;\n",
              "    }\n",
              "\n",
              "    [theme=dark] .colab-df-convert {\n",
              "      background-color: #3B4455;\n",
              "      fill: #D2E3FC;\n",
              "    }\n",
              "\n",
              "    [theme=dark] .colab-df-convert:hover {\n",
              "      background-color: #434B5C;\n",
              "      box-shadow: 0px 1px 3px 1px rgba(0, 0, 0, 0.15);\n",
              "      filter: drop-shadow(0px 1px 2px rgba(0, 0, 0, 0.3));\n",
              "      fill: #FFFFFF;\n",
              "    }\n",
              "  </style>\n",
              "\n",
              "      <script>\n",
              "        const buttonEl =\n",
              "          document.querySelector('#df-b42ffcf4-c198-4e2f-b605-d396cb141a34 button.colab-df-convert');\n",
              "        buttonEl.style.display =\n",
              "          google.colab.kernel.accessAllowed ? 'block' : 'none';\n",
              "\n",
              "        async function convertToInteractive(key) {\n",
              "          const element = document.querySelector('#df-b42ffcf4-c198-4e2f-b605-d396cb141a34');\n",
              "          const dataTable =\n",
              "            await google.colab.kernel.invokeFunction('convertToInteractive',\n",
              "                                                     [key], {});\n",
              "          if (!dataTable) return;\n",
              "\n",
              "          const docLinkHtml = 'Like what you see? Visit the ' +\n",
              "            '<a target=\"_blank\" href=https://colab.research.google.com/notebooks/data_table.ipynb>data table notebook</a>'\n",
              "            + ' to learn more about interactive tables.';\n",
              "          element.innerHTML = '';\n",
              "          dataTable['output_type'] = 'display_data';\n",
              "          await google.colab.output.renderOutput(dataTable, element);\n",
              "          const docLink = document.createElement('div');\n",
              "          docLink.innerHTML = docLinkHtml;\n",
              "          element.appendChild(docLink);\n",
              "        }\n",
              "      </script>\n",
              "    </div>\n",
              "  </div>\n",
              "  "
            ]
          },
          "metadata": {},
          "execution_count": 65
        }
      ]
    },
    {
      "cell_type": "code",
      "source": [
        "print(type(df2.loc['MIRIAM','CUIDAD'])) #de tipo string\n",
        "df2.loc['MIRIAM','CUIDAD'] # NOS DA LA CIUDAD(COLUMNA) DE MIRIAM(INDICE)"
      ],
      "metadata": {
        "colab": {
          "base_uri": "https://localhost:8080/",
          "height": 52
        },
        "id": "B1UjSWcR36jb",
        "outputId": "d8ae40ff-66a3-4038-95ec-ae4bdcc8389f"
      },
      "execution_count": 67,
      "outputs": [
        {
          "output_type": "stream",
          "name": "stdout",
          "text": [
            "<class 'str'>\n"
          ]
        },
        {
          "output_type": "execute_result",
          "data": {
            "text/plain": [
              "'MANILA'"
            ],
            "application/vnd.google.colaboratory.intrinsic+json": {
              "type": "string"
            }
          },
          "metadata": {},
          "execution_count": 67
        }
      ]
    },
    {
      "cell_type": "markdown",
      "source": [
        "# **OBTENER LOS DATOS DE LAS COLUMNAS DE UN RANGO ESPECIFICO EN BASE A UNA O MAS HILERAS ESPECIFICADAS CON loc[ ]**"
      ],
      "metadata": {
        "id": "7yj1_jCT_sz1"
      }
    },
    {
      "cell_type": "code",
      "source": [
        "df2"
      ],
      "metadata": {
        "colab": {
          "base_uri": "https://localhost:8080/",
          "height": 237
        },
        "id": "BA6I_4lzAnra",
        "outputId": "967f0cf0-0b09-49f5-9cb2-76d8f5bec398"
      },
      "execution_count": 69,
      "outputs": [
        {
          "output_type": "execute_result",
          "data": {
            "text/plain": [
              "        APELLIDO   OCUPACION GRADO_PREPARACION         CUIDAD  EDAD\n",
              "NOMBRE                                                             \n",
              "JORGE   CASTILLO  ESTUDIANTE       UNIVERSIDAD            NaN    23\n",
              "OMAR      GAMBOA        PEON               NaN         PUEBLA    24\n",
              "MIRIAM   JIMENES  ESTUDIANTE            KINDER         MANILA    25\n",
              "JAYA       RIERA         NaN       PRREESCOLAR  TANGAMANDAPIO    50\n",
              "JANA      GAMBOA      MELAVA              SECU        YAGUARU   100"
            ],
            "text/html": [
              "\n",
              "  <div id=\"df-3614c27b-9ad7-4a7e-97f9-3435c1d6d902\">\n",
              "    <div class=\"colab-df-container\">\n",
              "      <div>\n",
              "<style scoped>\n",
              "    .dataframe tbody tr th:only-of-type {\n",
              "        vertical-align: middle;\n",
              "    }\n",
              "\n",
              "    .dataframe tbody tr th {\n",
              "        vertical-align: top;\n",
              "    }\n",
              "\n",
              "    .dataframe thead th {\n",
              "        text-align: right;\n",
              "    }\n",
              "</style>\n",
              "<table border=\"1\" class=\"dataframe\">\n",
              "  <thead>\n",
              "    <tr style=\"text-align: right;\">\n",
              "      <th></th>\n",
              "      <th>APELLIDO</th>\n",
              "      <th>OCUPACION</th>\n",
              "      <th>GRADO_PREPARACION</th>\n",
              "      <th>CUIDAD</th>\n",
              "      <th>EDAD</th>\n",
              "    </tr>\n",
              "    <tr>\n",
              "      <th>NOMBRE</th>\n",
              "      <th></th>\n",
              "      <th></th>\n",
              "      <th></th>\n",
              "      <th></th>\n",
              "      <th></th>\n",
              "    </tr>\n",
              "  </thead>\n",
              "  <tbody>\n",
              "    <tr>\n",
              "      <th>JORGE</th>\n",
              "      <td>CASTILLO</td>\n",
              "      <td>ESTUDIANTE</td>\n",
              "      <td>UNIVERSIDAD</td>\n",
              "      <td>NaN</td>\n",
              "      <td>23</td>\n",
              "    </tr>\n",
              "    <tr>\n",
              "      <th>OMAR</th>\n",
              "      <td>GAMBOA</td>\n",
              "      <td>PEON</td>\n",
              "      <td>NaN</td>\n",
              "      <td>PUEBLA</td>\n",
              "      <td>24</td>\n",
              "    </tr>\n",
              "    <tr>\n",
              "      <th>MIRIAM</th>\n",
              "      <td>JIMENES</td>\n",
              "      <td>ESTUDIANTE</td>\n",
              "      <td>KINDER</td>\n",
              "      <td>MANILA</td>\n",
              "      <td>25</td>\n",
              "    </tr>\n",
              "    <tr>\n",
              "      <th>JAYA</th>\n",
              "      <td>RIERA</td>\n",
              "      <td>NaN</td>\n",
              "      <td>PRREESCOLAR</td>\n",
              "      <td>TANGAMANDAPIO</td>\n",
              "      <td>50</td>\n",
              "    </tr>\n",
              "    <tr>\n",
              "      <th>JANA</th>\n",
              "      <td>GAMBOA</td>\n",
              "      <td>MELAVA</td>\n",
              "      <td>SECU</td>\n",
              "      <td>YAGUARU</td>\n",
              "      <td>100</td>\n",
              "    </tr>\n",
              "  </tbody>\n",
              "</table>\n",
              "</div>\n",
              "      <button class=\"colab-df-convert\" onclick=\"convertToInteractive('df-3614c27b-9ad7-4a7e-97f9-3435c1d6d902')\"\n",
              "              title=\"Convert this dataframe to an interactive table.\"\n",
              "              style=\"display:none;\">\n",
              "        \n",
              "  <svg xmlns=\"http://www.w3.org/2000/svg\" height=\"24px\"viewBox=\"0 0 24 24\"\n",
              "       width=\"24px\">\n",
              "    <path d=\"M0 0h24v24H0V0z\" fill=\"none\"/>\n",
              "    <path d=\"M18.56 5.44l.94 2.06.94-2.06 2.06-.94-2.06-.94-.94-2.06-.94 2.06-2.06.94zm-11 1L8.5 8.5l.94-2.06 2.06-.94-2.06-.94L8.5 2.5l-.94 2.06-2.06.94zm10 10l.94 2.06.94-2.06 2.06-.94-2.06-.94-.94-2.06-.94 2.06-2.06.94z\"/><path d=\"M17.41 7.96l-1.37-1.37c-.4-.4-.92-.59-1.43-.59-.52 0-1.04.2-1.43.59L10.3 9.45l-7.72 7.72c-.78.78-.78 2.05 0 2.83L4 21.41c.39.39.9.59 1.41.59.51 0 1.02-.2 1.41-.59l7.78-7.78 2.81-2.81c.8-.78.8-2.07 0-2.86zM5.41 20L4 18.59l7.72-7.72 1.47 1.35L5.41 20z\"/>\n",
              "  </svg>\n",
              "      </button>\n",
              "      \n",
              "  <style>\n",
              "    .colab-df-container {\n",
              "      display:flex;\n",
              "      flex-wrap:wrap;\n",
              "      gap: 12px;\n",
              "    }\n",
              "\n",
              "    .colab-df-convert {\n",
              "      background-color: #E8F0FE;\n",
              "      border: none;\n",
              "      border-radius: 50%;\n",
              "      cursor: pointer;\n",
              "      display: none;\n",
              "      fill: #1967D2;\n",
              "      height: 32px;\n",
              "      padding: 0 0 0 0;\n",
              "      width: 32px;\n",
              "    }\n",
              "\n",
              "    .colab-df-convert:hover {\n",
              "      background-color: #E2EBFA;\n",
              "      box-shadow: 0px 1px 2px rgba(60, 64, 67, 0.3), 0px 1px 3px 1px rgba(60, 64, 67, 0.15);\n",
              "      fill: #174EA6;\n",
              "    }\n",
              "\n",
              "    [theme=dark] .colab-df-convert {\n",
              "      background-color: #3B4455;\n",
              "      fill: #D2E3FC;\n",
              "    }\n",
              "\n",
              "    [theme=dark] .colab-df-convert:hover {\n",
              "      background-color: #434B5C;\n",
              "      box-shadow: 0px 1px 3px 1px rgba(0, 0, 0, 0.15);\n",
              "      filter: drop-shadow(0px 1px 2px rgba(0, 0, 0, 0.3));\n",
              "      fill: #FFFFFF;\n",
              "    }\n",
              "  </style>\n",
              "\n",
              "      <script>\n",
              "        const buttonEl =\n",
              "          document.querySelector('#df-3614c27b-9ad7-4a7e-97f9-3435c1d6d902 button.colab-df-convert');\n",
              "        buttonEl.style.display =\n",
              "          google.colab.kernel.accessAllowed ? 'block' : 'none';\n",
              "\n",
              "        async function convertToInteractive(key) {\n",
              "          const element = document.querySelector('#df-3614c27b-9ad7-4a7e-97f9-3435c1d6d902');\n",
              "          const dataTable =\n",
              "            await google.colab.kernel.invokeFunction('convertToInteractive',\n",
              "                                                     [key], {});\n",
              "          if (!dataTable) return;\n",
              "\n",
              "          const docLinkHtml = 'Like what you see? Visit the ' +\n",
              "            '<a target=\"_blank\" href=https://colab.research.google.com/notebooks/data_table.ipynb>data table notebook</a>'\n",
              "            + ' to learn more about interactive tables.';\n",
              "          element.innerHTML = '';\n",
              "          dataTable['output_type'] = 'display_data';\n",
              "          await google.colab.output.renderOutput(dataTable, element);\n",
              "          const docLink = document.createElement('div');\n",
              "          docLink.innerHTML = docLinkHtml;\n",
              "          element.appendChild(docLink);\n",
              "        }\n",
              "      </script>\n",
              "    </div>\n",
              "  </div>\n",
              "  "
            ]
          },
          "metadata": {},
          "execution_count": 69
        }
      ]
    },
    {
      "cell_type": "code",
      "source": [
        "df2.loc['MIRIAM','CUIDAD':'OCUPACION':-1]"
      ],
      "metadata": {
        "colab": {
          "base_uri": "https://localhost:8080/"
        },
        "id": "yKdBVzPfAhrz",
        "outputId": "49d483b7-e50d-4ec1-b7fc-cd8d0f986c3d"
      },
      "execution_count": 72,
      "outputs": [
        {
          "output_type": "execute_result",
          "data": {
            "text/plain": [
              "CUIDAD                   MANILA\n",
              "GRADO_PREPARACION        KINDER\n",
              "OCUPACION            ESTUDIANTE\n",
              "Name: MIRIAM, dtype: object"
            ]
          },
          "metadata": {},
          "execution_count": 72
        }
      ]
    },
    {
      "cell_type": "markdown",
      "source": [
        "DE ESTA MANERA OBTENEMOS LOS DATOS DE LA HILERA 'MIRIAM' QUE ESTAN EN EL RANGO DE LAS COLUMNAS CIUDAD-OCUPACION DE FORMA REGRESIVA."
      ],
      "metadata": {
        "id": "-OYUYzarBPLj"
      }
    },
    {
      "cell_type": "code",
      "source": [
        "df2.loc[[True, False, True, False,  True]]"
      ],
      "metadata": {
        "colab": {
          "base_uri": "https://localhost:8080/",
          "height": 175
        },
        "id": "dgyrW0ZAChCz",
        "outputId": "89e3dcaa-ff08-4f36-e309-31467902ef18"
      },
      "execution_count": 73,
      "outputs": [
        {
          "output_type": "execute_result",
          "data": {
            "text/plain": [
              "        APELLIDO   OCUPACION GRADO_PREPARACION   CUIDAD  EDAD\n",
              "NOMBRE                                                       \n",
              "JORGE   CASTILLO  ESTUDIANTE       UNIVERSIDAD      NaN    23\n",
              "MIRIAM   JIMENES  ESTUDIANTE            KINDER   MANILA    25\n",
              "JANA      GAMBOA      MELAVA              SECU  YAGUARU   100"
            ],
            "text/html": [
              "\n",
              "  <div id=\"df-872dadd7-c643-4e7a-ab15-0b82abc41005\">\n",
              "    <div class=\"colab-df-container\">\n",
              "      <div>\n",
              "<style scoped>\n",
              "    .dataframe tbody tr th:only-of-type {\n",
              "        vertical-align: middle;\n",
              "    }\n",
              "\n",
              "    .dataframe tbody tr th {\n",
              "        vertical-align: top;\n",
              "    }\n",
              "\n",
              "    .dataframe thead th {\n",
              "        text-align: right;\n",
              "    }\n",
              "</style>\n",
              "<table border=\"1\" class=\"dataframe\">\n",
              "  <thead>\n",
              "    <tr style=\"text-align: right;\">\n",
              "      <th></th>\n",
              "      <th>APELLIDO</th>\n",
              "      <th>OCUPACION</th>\n",
              "      <th>GRADO_PREPARACION</th>\n",
              "      <th>CUIDAD</th>\n",
              "      <th>EDAD</th>\n",
              "    </tr>\n",
              "    <tr>\n",
              "      <th>NOMBRE</th>\n",
              "      <th></th>\n",
              "      <th></th>\n",
              "      <th></th>\n",
              "      <th></th>\n",
              "      <th></th>\n",
              "    </tr>\n",
              "  </thead>\n",
              "  <tbody>\n",
              "    <tr>\n",
              "      <th>JORGE</th>\n",
              "      <td>CASTILLO</td>\n",
              "      <td>ESTUDIANTE</td>\n",
              "      <td>UNIVERSIDAD</td>\n",
              "      <td>NaN</td>\n",
              "      <td>23</td>\n",
              "    </tr>\n",
              "    <tr>\n",
              "      <th>MIRIAM</th>\n",
              "      <td>JIMENES</td>\n",
              "      <td>ESTUDIANTE</td>\n",
              "      <td>KINDER</td>\n",
              "      <td>MANILA</td>\n",
              "      <td>25</td>\n",
              "    </tr>\n",
              "    <tr>\n",
              "      <th>JANA</th>\n",
              "      <td>GAMBOA</td>\n",
              "      <td>MELAVA</td>\n",
              "      <td>SECU</td>\n",
              "      <td>YAGUARU</td>\n",
              "      <td>100</td>\n",
              "    </tr>\n",
              "  </tbody>\n",
              "</table>\n",
              "</div>\n",
              "      <button class=\"colab-df-convert\" onclick=\"convertToInteractive('df-872dadd7-c643-4e7a-ab15-0b82abc41005')\"\n",
              "              title=\"Convert this dataframe to an interactive table.\"\n",
              "              style=\"display:none;\">\n",
              "        \n",
              "  <svg xmlns=\"http://www.w3.org/2000/svg\" height=\"24px\"viewBox=\"0 0 24 24\"\n",
              "       width=\"24px\">\n",
              "    <path d=\"M0 0h24v24H0V0z\" fill=\"none\"/>\n",
              "    <path d=\"M18.56 5.44l.94 2.06.94-2.06 2.06-.94-2.06-.94-.94-2.06-.94 2.06-2.06.94zm-11 1L8.5 8.5l.94-2.06 2.06-.94-2.06-.94L8.5 2.5l-.94 2.06-2.06.94zm10 10l.94 2.06.94-2.06 2.06-.94-2.06-.94-.94-2.06-.94 2.06-2.06.94z\"/><path d=\"M17.41 7.96l-1.37-1.37c-.4-.4-.92-.59-1.43-.59-.52 0-1.04.2-1.43.59L10.3 9.45l-7.72 7.72c-.78.78-.78 2.05 0 2.83L4 21.41c.39.39.9.59 1.41.59.51 0 1.02-.2 1.41-.59l7.78-7.78 2.81-2.81c.8-.78.8-2.07 0-2.86zM5.41 20L4 18.59l7.72-7.72 1.47 1.35L5.41 20z\"/>\n",
              "  </svg>\n",
              "      </button>\n",
              "      \n",
              "  <style>\n",
              "    .colab-df-container {\n",
              "      display:flex;\n",
              "      flex-wrap:wrap;\n",
              "      gap: 12px;\n",
              "    }\n",
              "\n",
              "    .colab-df-convert {\n",
              "      background-color: #E8F0FE;\n",
              "      border: none;\n",
              "      border-radius: 50%;\n",
              "      cursor: pointer;\n",
              "      display: none;\n",
              "      fill: #1967D2;\n",
              "      height: 32px;\n",
              "      padding: 0 0 0 0;\n",
              "      width: 32px;\n",
              "    }\n",
              "\n",
              "    .colab-df-convert:hover {\n",
              "      background-color: #E2EBFA;\n",
              "      box-shadow: 0px 1px 2px rgba(60, 64, 67, 0.3), 0px 1px 3px 1px rgba(60, 64, 67, 0.15);\n",
              "      fill: #174EA6;\n",
              "    }\n",
              "\n",
              "    [theme=dark] .colab-df-convert {\n",
              "      background-color: #3B4455;\n",
              "      fill: #D2E3FC;\n",
              "    }\n",
              "\n",
              "    [theme=dark] .colab-df-convert:hover {\n",
              "      background-color: #434B5C;\n",
              "      box-shadow: 0px 1px 3px 1px rgba(0, 0, 0, 0.15);\n",
              "      filter: drop-shadow(0px 1px 2px rgba(0, 0, 0, 0.3));\n",
              "      fill: #FFFFFF;\n",
              "    }\n",
              "  </style>\n",
              "\n",
              "      <script>\n",
              "        const buttonEl =\n",
              "          document.querySelector('#df-872dadd7-c643-4e7a-ab15-0b82abc41005 button.colab-df-convert');\n",
              "        buttonEl.style.display =\n",
              "          google.colab.kernel.accessAllowed ? 'block' : 'none';\n",
              "\n",
              "        async function convertToInteractive(key) {\n",
              "          const element = document.querySelector('#df-872dadd7-c643-4e7a-ab15-0b82abc41005');\n",
              "          const dataTable =\n",
              "            await google.colab.kernel.invokeFunction('convertToInteractive',\n",
              "                                                     [key], {});\n",
              "          if (!dataTable) return;\n",
              "\n",
              "          const docLinkHtml = 'Like what you see? Visit the ' +\n",
              "            '<a target=\"_blank\" href=https://colab.research.google.com/notebooks/data_table.ipynb>data table notebook</a>'\n",
              "            + ' to learn more about interactive tables.';\n",
              "          element.innerHTML = '';\n",
              "          dataTable['output_type'] = 'display_data';\n",
              "          await google.colab.output.renderOutput(dataTable, element);\n",
              "          const docLink = document.createElement('div');\n",
              "          docLink.innerHTML = docLinkHtml;\n",
              "          element.appendChild(docLink);\n",
              "        }\n",
              "      </script>\n",
              "    </div>\n",
              "  </div>\n",
              "  "
            ]
          },
          "metadata": {},
          "execution_count": 73
        }
      ]
    },
    {
      "cell_type": "markdown",
      "source": [
        "DE ESTA MANERA TAMBIEN PODEMOS OBTENER LAS HILERAS DEACUERDO AL ORDEN EN EL QUE APARECEN EN LA TABLA ACTUAL EN LA QUE ESTAMOS TRBAJANDO. "
      ],
      "metadata": {
        "id": "ZS0BLY05C26E"
      }
    },
    {
      "cell_type": "code",
      "source": [
        "names_sorted = df2.sort_values(by='NOMBRE')\n",
        "print(names_sorted)\n",
        "names_sorted.loc[[True, False, True, False,  True]]"
      ],
      "metadata": {
        "colab": {
          "base_uri": "https://localhost:8080/",
          "height": 296
        },
        "id": "iqfceztADUxI",
        "outputId": "e61138d0-7da9-4f11-82ed-e133c1b1f6b1"
      },
      "execution_count": 76,
      "outputs": [
        {
          "output_type": "stream",
          "name": "stdout",
          "text": [
            "        APELLIDO   OCUPACION GRADO_PREPARACION         CUIDAD  EDAD\n",
            "NOMBRE                                                             \n",
            "JANA      GAMBOA      MELAVA              SECU        YAGUARU   100\n",
            "JAYA       RIERA         NaN       PRREESCOLAR  TANGAMANDAPIO    50\n",
            "JORGE   CASTILLO  ESTUDIANTE       UNIVERSIDAD            NaN    23\n",
            "MIRIAM   JIMENES  ESTUDIANTE            KINDER         MANILA    25\n",
            "OMAR      GAMBOA        PEON               NaN         PUEBLA    24\n"
          ]
        },
        {
          "output_type": "execute_result",
          "data": {
            "text/plain": [
              "        APELLIDO   OCUPACION GRADO_PREPARACION   CUIDAD  EDAD\n",
              "NOMBRE                                                       \n",
              "JANA      GAMBOA      MELAVA              SECU  YAGUARU   100\n",
              "JORGE   CASTILLO  ESTUDIANTE       UNIVERSIDAD      NaN    23\n",
              "OMAR      GAMBOA        PEON               NaN   PUEBLA    24"
            ],
            "text/html": [
              "\n",
              "  <div id=\"df-40f69ef4-178a-4edf-92c3-de920936bf07\">\n",
              "    <div class=\"colab-df-container\">\n",
              "      <div>\n",
              "<style scoped>\n",
              "    .dataframe tbody tr th:only-of-type {\n",
              "        vertical-align: middle;\n",
              "    }\n",
              "\n",
              "    .dataframe tbody tr th {\n",
              "        vertical-align: top;\n",
              "    }\n",
              "\n",
              "    .dataframe thead th {\n",
              "        text-align: right;\n",
              "    }\n",
              "</style>\n",
              "<table border=\"1\" class=\"dataframe\">\n",
              "  <thead>\n",
              "    <tr style=\"text-align: right;\">\n",
              "      <th></th>\n",
              "      <th>APELLIDO</th>\n",
              "      <th>OCUPACION</th>\n",
              "      <th>GRADO_PREPARACION</th>\n",
              "      <th>CUIDAD</th>\n",
              "      <th>EDAD</th>\n",
              "    </tr>\n",
              "    <tr>\n",
              "      <th>NOMBRE</th>\n",
              "      <th></th>\n",
              "      <th></th>\n",
              "      <th></th>\n",
              "      <th></th>\n",
              "      <th></th>\n",
              "    </tr>\n",
              "  </thead>\n",
              "  <tbody>\n",
              "    <tr>\n",
              "      <th>JANA</th>\n",
              "      <td>GAMBOA</td>\n",
              "      <td>MELAVA</td>\n",
              "      <td>SECU</td>\n",
              "      <td>YAGUARU</td>\n",
              "      <td>100</td>\n",
              "    </tr>\n",
              "    <tr>\n",
              "      <th>JORGE</th>\n",
              "      <td>CASTILLO</td>\n",
              "      <td>ESTUDIANTE</td>\n",
              "      <td>UNIVERSIDAD</td>\n",
              "      <td>NaN</td>\n",
              "      <td>23</td>\n",
              "    </tr>\n",
              "    <tr>\n",
              "      <th>OMAR</th>\n",
              "      <td>GAMBOA</td>\n",
              "      <td>PEON</td>\n",
              "      <td>NaN</td>\n",
              "      <td>PUEBLA</td>\n",
              "      <td>24</td>\n",
              "    </tr>\n",
              "  </tbody>\n",
              "</table>\n",
              "</div>\n",
              "      <button class=\"colab-df-convert\" onclick=\"convertToInteractive('df-40f69ef4-178a-4edf-92c3-de920936bf07')\"\n",
              "              title=\"Convert this dataframe to an interactive table.\"\n",
              "              style=\"display:none;\">\n",
              "        \n",
              "  <svg xmlns=\"http://www.w3.org/2000/svg\" height=\"24px\"viewBox=\"0 0 24 24\"\n",
              "       width=\"24px\">\n",
              "    <path d=\"M0 0h24v24H0V0z\" fill=\"none\"/>\n",
              "    <path d=\"M18.56 5.44l.94 2.06.94-2.06 2.06-.94-2.06-.94-.94-2.06-.94 2.06-2.06.94zm-11 1L8.5 8.5l.94-2.06 2.06-.94-2.06-.94L8.5 2.5l-.94 2.06-2.06.94zm10 10l.94 2.06.94-2.06 2.06-.94-2.06-.94-.94-2.06-.94 2.06-2.06.94z\"/><path d=\"M17.41 7.96l-1.37-1.37c-.4-.4-.92-.59-1.43-.59-.52 0-1.04.2-1.43.59L10.3 9.45l-7.72 7.72c-.78.78-.78 2.05 0 2.83L4 21.41c.39.39.9.59 1.41.59.51 0 1.02-.2 1.41-.59l7.78-7.78 2.81-2.81c.8-.78.8-2.07 0-2.86zM5.41 20L4 18.59l7.72-7.72 1.47 1.35L5.41 20z\"/>\n",
              "  </svg>\n",
              "      </button>\n",
              "      \n",
              "  <style>\n",
              "    .colab-df-container {\n",
              "      display:flex;\n",
              "      flex-wrap:wrap;\n",
              "      gap: 12px;\n",
              "    }\n",
              "\n",
              "    .colab-df-convert {\n",
              "      background-color: #E8F0FE;\n",
              "      border: none;\n",
              "      border-radius: 50%;\n",
              "      cursor: pointer;\n",
              "      display: none;\n",
              "      fill: #1967D2;\n",
              "      height: 32px;\n",
              "      padding: 0 0 0 0;\n",
              "      width: 32px;\n",
              "    }\n",
              "\n",
              "    .colab-df-convert:hover {\n",
              "      background-color: #E2EBFA;\n",
              "      box-shadow: 0px 1px 2px rgba(60, 64, 67, 0.3), 0px 1px 3px 1px rgba(60, 64, 67, 0.15);\n",
              "      fill: #174EA6;\n",
              "    }\n",
              "\n",
              "    [theme=dark] .colab-df-convert {\n",
              "      background-color: #3B4455;\n",
              "      fill: #D2E3FC;\n",
              "    }\n",
              "\n",
              "    [theme=dark] .colab-df-convert:hover {\n",
              "      background-color: #434B5C;\n",
              "      box-shadow: 0px 1px 3px 1px rgba(0, 0, 0, 0.15);\n",
              "      filter: drop-shadow(0px 1px 2px rgba(0, 0, 0, 0.3));\n",
              "      fill: #FFFFFF;\n",
              "    }\n",
              "  </style>\n",
              "\n",
              "      <script>\n",
              "        const buttonEl =\n",
              "          document.querySelector('#df-40f69ef4-178a-4edf-92c3-de920936bf07 button.colab-df-convert');\n",
              "        buttonEl.style.display =\n",
              "          google.colab.kernel.accessAllowed ? 'block' : 'none';\n",
              "\n",
              "        async function convertToInteractive(key) {\n",
              "          const element = document.querySelector('#df-40f69ef4-178a-4edf-92c3-de920936bf07');\n",
              "          const dataTable =\n",
              "            await google.colab.kernel.invokeFunction('convertToInteractive',\n",
              "                                                     [key], {});\n",
              "          if (!dataTable) return;\n",
              "\n",
              "          const docLinkHtml = 'Like what you see? Visit the ' +\n",
              "            '<a target=\"_blank\" href=https://colab.research.google.com/notebooks/data_table.ipynb>data table notebook</a>'\n",
              "            + ' to learn more about interactive tables.';\n",
              "          element.innerHTML = '';\n",
              "          dataTable['output_type'] = 'display_data';\n",
              "          await google.colab.output.renderOutput(dataTable, element);\n",
              "          const docLink = document.createElement('div');\n",
              "          docLink.innerHTML = docLinkHtml;\n",
              "          element.appendChild(docLink);\n",
              "        }\n",
              "      </script>\n",
              "    </div>\n",
              "  </div>\n",
              "  "
            ]
          },
          "metadata": {},
          "execution_count": 76
        }
      ]
    },
    {
      "cell_type": "markdown",
      "source": [
        "PODEMOS OBSERVAR QUE EL ORDEN DE ESTA TABLA ES DISTINTO Y SI EFECTAMOS EL ARRAY COMO ARRIBA OBTENEMOS OTROS RESULTADOS."
      ],
      "metadata": {
        "id": "qG5cR533E-mG"
      }
    },
    {
      "cell_type": "markdown",
      "source": [
        "# **USO DE iloc[ ]**"
      ],
      "metadata": {
        "id": "ZZ2IHBDEF0ea"
      }
    },
    {
      "cell_type": "markdown",
      "source": [
        "iloc[ ] LO UTILIZAMOS PARA OBTENER O SACAR UNA HILERA DEACUERDO AL NUMERO DE HILERA, OSEA PARA TRABAJAR CON iloc[ ] necesitamos que los indices sean numeros (como son by default)."
      ],
      "metadata": {
        "id": "HKaq7I9RG-yD"
      }
    },
    {
      "cell_type": "code",
      "source": [
        "df2"
      ],
      "metadata": {
        "colab": {
          "base_uri": "https://localhost:8080/",
          "height": 237
        },
        "id": "-Ds8Ju9CIP_Q",
        "outputId": "55dc3b9b-74a5-4919-ca21-bdce7f374782"
      },
      "execution_count": 77,
      "outputs": [
        {
          "output_type": "execute_result",
          "data": {
            "text/plain": [
              "        APELLIDO   OCUPACION GRADO_PREPARACION         CUIDAD  EDAD\n",
              "NOMBRE                                                             \n",
              "JORGE   CASTILLO  ESTUDIANTE       UNIVERSIDAD            NaN    23\n",
              "OMAR      GAMBOA        PEON               NaN         PUEBLA    24\n",
              "MIRIAM   JIMENES  ESTUDIANTE            KINDER         MANILA    25\n",
              "JAYA       RIERA         NaN       PRREESCOLAR  TANGAMANDAPIO    50\n",
              "JANA      GAMBOA      MELAVA              SECU        YAGUARU   100"
            ],
            "text/html": [
              "\n",
              "  <div id=\"df-42275b5e-1967-4512-af52-0e4aa9648856\">\n",
              "    <div class=\"colab-df-container\">\n",
              "      <div>\n",
              "<style scoped>\n",
              "    .dataframe tbody tr th:only-of-type {\n",
              "        vertical-align: middle;\n",
              "    }\n",
              "\n",
              "    .dataframe tbody tr th {\n",
              "        vertical-align: top;\n",
              "    }\n",
              "\n",
              "    .dataframe thead th {\n",
              "        text-align: right;\n",
              "    }\n",
              "</style>\n",
              "<table border=\"1\" class=\"dataframe\">\n",
              "  <thead>\n",
              "    <tr style=\"text-align: right;\">\n",
              "      <th></th>\n",
              "      <th>APELLIDO</th>\n",
              "      <th>OCUPACION</th>\n",
              "      <th>GRADO_PREPARACION</th>\n",
              "      <th>CUIDAD</th>\n",
              "      <th>EDAD</th>\n",
              "    </tr>\n",
              "    <tr>\n",
              "      <th>NOMBRE</th>\n",
              "      <th></th>\n",
              "      <th></th>\n",
              "      <th></th>\n",
              "      <th></th>\n",
              "      <th></th>\n",
              "    </tr>\n",
              "  </thead>\n",
              "  <tbody>\n",
              "    <tr>\n",
              "      <th>JORGE</th>\n",
              "      <td>CASTILLO</td>\n",
              "      <td>ESTUDIANTE</td>\n",
              "      <td>UNIVERSIDAD</td>\n",
              "      <td>NaN</td>\n",
              "      <td>23</td>\n",
              "    </tr>\n",
              "    <tr>\n",
              "      <th>OMAR</th>\n",
              "      <td>GAMBOA</td>\n",
              "      <td>PEON</td>\n",
              "      <td>NaN</td>\n",
              "      <td>PUEBLA</td>\n",
              "      <td>24</td>\n",
              "    </tr>\n",
              "    <tr>\n",
              "      <th>MIRIAM</th>\n",
              "      <td>JIMENES</td>\n",
              "      <td>ESTUDIANTE</td>\n",
              "      <td>KINDER</td>\n",
              "      <td>MANILA</td>\n",
              "      <td>25</td>\n",
              "    </tr>\n",
              "    <tr>\n",
              "      <th>JAYA</th>\n",
              "      <td>RIERA</td>\n",
              "      <td>NaN</td>\n",
              "      <td>PRREESCOLAR</td>\n",
              "      <td>TANGAMANDAPIO</td>\n",
              "      <td>50</td>\n",
              "    </tr>\n",
              "    <tr>\n",
              "      <th>JANA</th>\n",
              "      <td>GAMBOA</td>\n",
              "      <td>MELAVA</td>\n",
              "      <td>SECU</td>\n",
              "      <td>YAGUARU</td>\n",
              "      <td>100</td>\n",
              "    </tr>\n",
              "  </tbody>\n",
              "</table>\n",
              "</div>\n",
              "      <button class=\"colab-df-convert\" onclick=\"convertToInteractive('df-42275b5e-1967-4512-af52-0e4aa9648856')\"\n",
              "              title=\"Convert this dataframe to an interactive table.\"\n",
              "              style=\"display:none;\">\n",
              "        \n",
              "  <svg xmlns=\"http://www.w3.org/2000/svg\" height=\"24px\"viewBox=\"0 0 24 24\"\n",
              "       width=\"24px\">\n",
              "    <path d=\"M0 0h24v24H0V0z\" fill=\"none\"/>\n",
              "    <path d=\"M18.56 5.44l.94 2.06.94-2.06 2.06-.94-2.06-.94-.94-2.06-.94 2.06-2.06.94zm-11 1L8.5 8.5l.94-2.06 2.06-.94-2.06-.94L8.5 2.5l-.94 2.06-2.06.94zm10 10l.94 2.06.94-2.06 2.06-.94-2.06-.94-.94-2.06-.94 2.06-2.06.94z\"/><path d=\"M17.41 7.96l-1.37-1.37c-.4-.4-.92-.59-1.43-.59-.52 0-1.04.2-1.43.59L10.3 9.45l-7.72 7.72c-.78.78-.78 2.05 0 2.83L4 21.41c.39.39.9.59 1.41.59.51 0 1.02-.2 1.41-.59l7.78-7.78 2.81-2.81c.8-.78.8-2.07 0-2.86zM5.41 20L4 18.59l7.72-7.72 1.47 1.35L5.41 20z\"/>\n",
              "  </svg>\n",
              "      </button>\n",
              "      \n",
              "  <style>\n",
              "    .colab-df-container {\n",
              "      display:flex;\n",
              "      flex-wrap:wrap;\n",
              "      gap: 12px;\n",
              "    }\n",
              "\n",
              "    .colab-df-convert {\n",
              "      background-color: #E8F0FE;\n",
              "      border: none;\n",
              "      border-radius: 50%;\n",
              "      cursor: pointer;\n",
              "      display: none;\n",
              "      fill: #1967D2;\n",
              "      height: 32px;\n",
              "      padding: 0 0 0 0;\n",
              "      width: 32px;\n",
              "    }\n",
              "\n",
              "    .colab-df-convert:hover {\n",
              "      background-color: #E2EBFA;\n",
              "      box-shadow: 0px 1px 2px rgba(60, 64, 67, 0.3), 0px 1px 3px 1px rgba(60, 64, 67, 0.15);\n",
              "      fill: #174EA6;\n",
              "    }\n",
              "\n",
              "    [theme=dark] .colab-df-convert {\n",
              "      background-color: #3B4455;\n",
              "      fill: #D2E3FC;\n",
              "    }\n",
              "\n",
              "    [theme=dark] .colab-df-convert:hover {\n",
              "      background-color: #434B5C;\n",
              "      box-shadow: 0px 1px 3px 1px rgba(0, 0, 0, 0.15);\n",
              "      filter: drop-shadow(0px 1px 2px rgba(0, 0, 0, 0.3));\n",
              "      fill: #FFFFFF;\n",
              "    }\n",
              "  </style>\n",
              "\n",
              "      <script>\n",
              "        const buttonEl =\n",
              "          document.querySelector('#df-42275b5e-1967-4512-af52-0e4aa9648856 button.colab-df-convert');\n",
              "        buttonEl.style.display =\n",
              "          google.colab.kernel.accessAllowed ? 'block' : 'none';\n",
              "\n",
              "        async function convertToInteractive(key) {\n",
              "          const element = document.querySelector('#df-42275b5e-1967-4512-af52-0e4aa9648856');\n",
              "          const dataTable =\n",
              "            await google.colab.kernel.invokeFunction('convertToInteractive',\n",
              "                                                     [key], {});\n",
              "          if (!dataTable) return;\n",
              "\n",
              "          const docLinkHtml = 'Like what you see? Visit the ' +\n",
              "            '<a target=\"_blank\" href=https://colab.research.google.com/notebooks/data_table.ipynb>data table notebook</a>'\n",
              "            + ' to learn more about interactive tables.';\n",
              "          element.innerHTML = '';\n",
              "          dataTable['output_type'] = 'display_data';\n",
              "          await google.colab.output.renderOutput(dataTable, element);\n",
              "          const docLink = document.createElement('div');\n",
              "          docLink.innerHTML = docLinkHtml;\n",
              "          element.appendChild(docLink);\n",
              "        }\n",
              "      </script>\n",
              "    </div>\n",
              "  </div>\n",
              "  "
            ]
          },
          "metadata": {},
          "execution_count": 77
        }
      ]
    },
    {
      "cell_type": "code",
      "source": [
        "df2.iloc['OMAR'] # BUSCA LA HILERA OMAR EN LA TABLA df2"
      ],
      "metadata": {
        "id": "kTosIKH7IJYz"
      },
      "execution_count": null,
      "outputs": []
    },
    {
      "cell_type": "markdown",
      "source": [
        "EN ESTE EJEMPLO DE ARRIBA LA LINEA NOS VA DAR ERROR PORQUE LA FUNCION iloc[ ] solo recibe numeros enteros y no string"
      ],
      "metadata": {
        "id": "ptaZFZ7uI38H"
      }
    },
    {
      "cell_type": "code",
      "source": [
        "print(df_students)\n",
        "df_students.iloc[1] # BUSCA LA 1 QUE CONTIENE LA HILERA DEL ESTUDIANTE OMAR EN LA TABLA df_students"
      ],
      "metadata": {
        "colab": {
          "base_uri": "https://localhost:8080/"
        },
        "id": "XCuIXFV9K0MI",
        "outputId": "57267756-a71d-4077-f34f-59452f743c5a"
      },
      "execution_count": 7,
      "outputs": [
        {
          "output_type": "stream",
          "name": "stdout",
          "text": [
            "   NOMBRE  APELLIDO   OCUPACION GRADO_PREPARACION         CUIDAD  EDAD\n",
            "0   JORGE  CASTILLO  ESTUDIANTE       UNIVERSIDAD            NaN    23\n",
            "1    OMAR    GAMBOA        PEON               NaN         PUEBLA    24\n",
            "2  MIRIAM   JIMENES  ESTUDIANTE            KINDER         MANILA    25\n",
            "3    JAYA     RIERA         NaN       PRREESCOLAR  TANGAMANDAPIO    50\n",
            "4    JANA    GAMBOA      MELAVA              SECU        YAGUARU   100\n"
          ]
        },
        {
          "output_type": "execute_result",
          "data": {
            "text/plain": [
              "NOMBRE                 OMAR\n",
              "APELLIDO             GAMBOA\n",
              "OCUPACION              PEON\n",
              "GRADO_PREPARACION       NaN\n",
              "CUIDAD               PUEBLA\n",
              "EDAD                     24\n",
              "Name: 1, dtype: object"
            ]
          },
          "metadata": {},
          "execution_count": 7
        }
      ]
    },
    {
      "cell_type": "markdown",
      "source": [
        "AQUI PODEMOS VER QUE LA FUNCION iloc[ ] la podemos activar INCLUSO CON TABLAS QUE SUS INDICES SON NUMERICOS, SOLAMENTE LA DIFERENCIA ES QUE ACCEDEMOS A LAS HILERAS POR MEDIO DE NUMEROS Y OTRAS POR MEDIO DE STRINGS (DEPENDE SI CAMBIAMOS EL INDEX NUMERICO O NO). \n",
        "\n",
        "RECORDEMOS QUE SI EL INDICE ES NUMERICO ENTONCES LA COLUMNA 'NOMBRE' ESTA INCLUIDA DENTRO DE LA TABLA Y PODEMOS ACCEDER AL CONTENIDO DE LA COLUMNA 'NOMBRE'. \n",
        "\n",
        "SI EL INDICE NO ES NUMERICO ENTONCES LOS INDICES DE LA TABLA VAN A SER LA COLUMNA 'NOMBRE' Y NO VAMOS A PODER ACCEDER AL CONTENIDO DE ESTA COLUMNA PORQUE SE UTILIZA COMO INDICES DE LA TABLA."
      ],
      "metadata": {
        "id": "hvGzYcrMLfc3"
      }
    },
    {
      "cell_type": "code",
      "source": [
        "df2.iloc[1] #obtenemos al estudiante OMAR(ES EL INDICE) OSEA SU CONTENIDO"
      ],
      "metadata": {
        "colab": {
          "base_uri": "https://localhost:8080/"
        },
        "id": "QdV8U7q4OFF9",
        "outputId": "6e4ef11c-42b9-4830-eea3-40ec290d0ebe"
      },
      "execution_count": 8,
      "outputs": [
        {
          "output_type": "execute_result",
          "data": {
            "text/plain": [
              "APELLIDO             GAMBOA\n",
              "OCUPACION              PEON\n",
              "GRADO_PREPARACION       NaN\n",
              "CUIDAD               PUEBLA\n",
              "EDAD                     24\n",
              "Name: OMAR, dtype: object"
            ]
          },
          "metadata": {},
          "execution_count": 8
        }
      ]
    },
    {
      "cell_type": "markdown",
      "source": [
        "# **ACCEDER A VARIAS HILERAS DE LA TABLA CON iloc[ ]**"
      ],
      "metadata": {
        "id": "xkkRvg6NO2CV"
      }
    },
    {
      "cell_type": "markdown",
      "source": [
        "**Importnat note**: df2.iloc[[0, 2]] gets rows 0 & 2 while df2.iloc[0, 2] gets the value at row 0 and the column 2!\n"
      ],
      "metadata": {
        "id": "ZBYZZ7u3PiWR"
      }
    },
    {
      "cell_type": "code",
      "source": [
        "df2"
      ],
      "metadata": {
        "colab": {
          "base_uri": "https://localhost:8080/",
          "height": 237
        },
        "id": "ONYLYvq_d4YO",
        "outputId": "2d1719fb-1876-49e7-cd77-682a2db8c396"
      },
      "execution_count": 9,
      "outputs": [
        {
          "output_type": "execute_result",
          "data": {
            "text/plain": [
              "        APELLIDO   OCUPACION GRADO_PREPARACION         CUIDAD  EDAD\n",
              "NOMBRE                                                             \n",
              "JORGE   CASTILLO  ESTUDIANTE       UNIVERSIDAD            NaN    23\n",
              "OMAR      GAMBOA        PEON               NaN         PUEBLA    24\n",
              "MIRIAM   JIMENES  ESTUDIANTE            KINDER         MANILA    25\n",
              "JAYA       RIERA         NaN       PRREESCOLAR  TANGAMANDAPIO    50\n",
              "JANA      GAMBOA      MELAVA              SECU        YAGUARU   100"
            ],
            "text/html": [
              "\n",
              "  <div id=\"df-cc6e90bc-bd9d-4e3a-bde2-40c73ae4a4d7\">\n",
              "    <div class=\"colab-df-container\">\n",
              "      <div>\n",
              "<style scoped>\n",
              "    .dataframe tbody tr th:only-of-type {\n",
              "        vertical-align: middle;\n",
              "    }\n",
              "\n",
              "    .dataframe tbody tr th {\n",
              "        vertical-align: top;\n",
              "    }\n",
              "\n",
              "    .dataframe thead th {\n",
              "        text-align: right;\n",
              "    }\n",
              "</style>\n",
              "<table border=\"1\" class=\"dataframe\">\n",
              "  <thead>\n",
              "    <tr style=\"text-align: right;\">\n",
              "      <th></th>\n",
              "      <th>APELLIDO</th>\n",
              "      <th>OCUPACION</th>\n",
              "      <th>GRADO_PREPARACION</th>\n",
              "      <th>CUIDAD</th>\n",
              "      <th>EDAD</th>\n",
              "    </tr>\n",
              "    <tr>\n",
              "      <th>NOMBRE</th>\n",
              "      <th></th>\n",
              "      <th></th>\n",
              "      <th></th>\n",
              "      <th></th>\n",
              "      <th></th>\n",
              "    </tr>\n",
              "  </thead>\n",
              "  <tbody>\n",
              "    <tr>\n",
              "      <th>JORGE</th>\n",
              "      <td>CASTILLO</td>\n",
              "      <td>ESTUDIANTE</td>\n",
              "      <td>UNIVERSIDAD</td>\n",
              "      <td>NaN</td>\n",
              "      <td>23</td>\n",
              "    </tr>\n",
              "    <tr>\n",
              "      <th>OMAR</th>\n",
              "      <td>GAMBOA</td>\n",
              "      <td>PEON</td>\n",
              "      <td>NaN</td>\n",
              "      <td>PUEBLA</td>\n",
              "      <td>24</td>\n",
              "    </tr>\n",
              "    <tr>\n",
              "      <th>MIRIAM</th>\n",
              "      <td>JIMENES</td>\n",
              "      <td>ESTUDIANTE</td>\n",
              "      <td>KINDER</td>\n",
              "      <td>MANILA</td>\n",
              "      <td>25</td>\n",
              "    </tr>\n",
              "    <tr>\n",
              "      <th>JAYA</th>\n",
              "      <td>RIERA</td>\n",
              "      <td>NaN</td>\n",
              "      <td>PRREESCOLAR</td>\n",
              "      <td>TANGAMANDAPIO</td>\n",
              "      <td>50</td>\n",
              "    </tr>\n",
              "    <tr>\n",
              "      <th>JANA</th>\n",
              "      <td>GAMBOA</td>\n",
              "      <td>MELAVA</td>\n",
              "      <td>SECU</td>\n",
              "      <td>YAGUARU</td>\n",
              "      <td>100</td>\n",
              "    </tr>\n",
              "  </tbody>\n",
              "</table>\n",
              "</div>\n",
              "      <button class=\"colab-df-convert\" onclick=\"convertToInteractive('df-cc6e90bc-bd9d-4e3a-bde2-40c73ae4a4d7')\"\n",
              "              title=\"Convert this dataframe to an interactive table.\"\n",
              "              style=\"display:none;\">\n",
              "        \n",
              "  <svg xmlns=\"http://www.w3.org/2000/svg\" height=\"24px\"viewBox=\"0 0 24 24\"\n",
              "       width=\"24px\">\n",
              "    <path d=\"M0 0h24v24H0V0z\" fill=\"none\"/>\n",
              "    <path d=\"M18.56 5.44l.94 2.06.94-2.06 2.06-.94-2.06-.94-.94-2.06-.94 2.06-2.06.94zm-11 1L8.5 8.5l.94-2.06 2.06-.94-2.06-.94L8.5 2.5l-.94 2.06-2.06.94zm10 10l.94 2.06.94-2.06 2.06-.94-2.06-.94-.94-2.06-.94 2.06-2.06.94z\"/><path d=\"M17.41 7.96l-1.37-1.37c-.4-.4-.92-.59-1.43-.59-.52 0-1.04.2-1.43.59L10.3 9.45l-7.72 7.72c-.78.78-.78 2.05 0 2.83L4 21.41c.39.39.9.59 1.41.59.51 0 1.02-.2 1.41-.59l7.78-7.78 2.81-2.81c.8-.78.8-2.07 0-2.86zM5.41 20L4 18.59l7.72-7.72 1.47 1.35L5.41 20z\"/>\n",
              "  </svg>\n",
              "      </button>\n",
              "      \n",
              "  <style>\n",
              "    .colab-df-container {\n",
              "      display:flex;\n",
              "      flex-wrap:wrap;\n",
              "      gap: 12px;\n",
              "    }\n",
              "\n",
              "    .colab-df-convert {\n",
              "      background-color: #E8F0FE;\n",
              "      border: none;\n",
              "      border-radius: 50%;\n",
              "      cursor: pointer;\n",
              "      display: none;\n",
              "      fill: #1967D2;\n",
              "      height: 32px;\n",
              "      padding: 0 0 0 0;\n",
              "      width: 32px;\n",
              "    }\n",
              "\n",
              "    .colab-df-convert:hover {\n",
              "      background-color: #E2EBFA;\n",
              "      box-shadow: 0px 1px 2px rgba(60, 64, 67, 0.3), 0px 1px 3px 1px rgba(60, 64, 67, 0.15);\n",
              "      fill: #174EA6;\n",
              "    }\n",
              "\n",
              "    [theme=dark] .colab-df-convert {\n",
              "      background-color: #3B4455;\n",
              "      fill: #D2E3FC;\n",
              "    }\n",
              "\n",
              "    [theme=dark] .colab-df-convert:hover {\n",
              "      background-color: #434B5C;\n",
              "      box-shadow: 0px 1px 3px 1px rgba(0, 0, 0, 0.15);\n",
              "      filter: drop-shadow(0px 1px 2px rgba(0, 0, 0, 0.3));\n",
              "      fill: #FFFFFF;\n",
              "    }\n",
              "  </style>\n",
              "\n",
              "      <script>\n",
              "        const buttonEl =\n",
              "          document.querySelector('#df-cc6e90bc-bd9d-4e3a-bde2-40c73ae4a4d7 button.colab-df-convert');\n",
              "        buttonEl.style.display =\n",
              "          google.colab.kernel.accessAllowed ? 'block' : 'none';\n",
              "\n",
              "        async function convertToInteractive(key) {\n",
              "          const element = document.querySelector('#df-cc6e90bc-bd9d-4e3a-bde2-40c73ae4a4d7');\n",
              "          const dataTable =\n",
              "            await google.colab.kernel.invokeFunction('convertToInteractive',\n",
              "                                                     [key], {});\n",
              "          if (!dataTable) return;\n",
              "\n",
              "          const docLinkHtml = 'Like what you see? Visit the ' +\n",
              "            '<a target=\"_blank\" href=https://colab.research.google.com/notebooks/data_table.ipynb>data table notebook</a>'\n",
              "            + ' to learn more about interactive tables.';\n",
              "          element.innerHTML = '';\n",
              "          dataTable['output_type'] = 'display_data';\n",
              "          await google.colab.output.renderOutput(dataTable, element);\n",
              "          const docLink = document.createElement('div');\n",
              "          docLink.innerHTML = docLinkHtml;\n",
              "          element.appendChild(docLink);\n",
              "        }\n",
              "      </script>\n",
              "    </div>\n",
              "  </div>\n",
              "  "
            ]
          },
          "metadata": {},
          "execution_count": 9
        }
      ]
    },
    {
      "cell_type": "code",
      "source": [
        "df2.iloc[0, 2] #EN ESTA LINEA RECIBIMOS LA HILERA 0 (JORGE) Y LA COLUMNA 2 (GRADO_PREPARACION)"
      ],
      "metadata": {
        "colab": {
          "base_uri": "https://localhost:8080/",
          "height": 35
        },
        "id": "4dUqo0dAPDSk",
        "outputId": "402c3e69-1300-4634-f5eb-177b5c7286d6"
      },
      "execution_count": 15,
      "outputs": [
        {
          "output_type": "execute_result",
          "data": {
            "text/plain": [
              "'UNIVERSIDAD'"
            ],
            "application/vnd.google.colaboratory.intrinsic+json": {
              "type": "string"
            }
          },
          "metadata": {},
          "execution_count": 15
        }
      ]
    },
    {
      "cell_type": "markdown",
      "source": [
        "POR MEDIOS D ESTA ACCION PODEMOS OBTENER UN DATO ESPECIFICO DE UNA LISTA, SI PUSIERAMOS OTRO NUMERO NOS DARIA ERROR."
      ],
      "metadata": {
        "id": "G1cUBspRgBXI"
      }
    },
    {
      "cell_type": "code",
      "source": [
        "df2.iloc[[0, 2]] # EN ESTA LINEA OBTENEMOS LA HILERA 0 (JORGE) Y LA HILERA 2 (MIRIAM), de esta manera podemos obtener una lista de hileras"
      ],
      "metadata": {
        "colab": {
          "base_uri": "https://localhost:8080/",
          "height": 143
        },
        "id": "QJplredZee-Q",
        "outputId": "436faf65-0049-4dec-dfad-3d39e5946a6d"
      },
      "execution_count": 13,
      "outputs": [
        {
          "output_type": "execute_result",
          "data": {
            "text/plain": [
              "        APELLIDO   OCUPACION GRADO_PREPARACION  CUIDAD  EDAD\n",
              "NOMBRE                                                      \n",
              "JORGE   CASTILLO  ESTUDIANTE       UNIVERSIDAD     NaN    23\n",
              "MIRIAM   JIMENES  ESTUDIANTE            KINDER  MANILA    25"
            ],
            "text/html": [
              "\n",
              "  <div id=\"df-cad4c5c1-4d77-410b-ae3d-0ae5165248ce\">\n",
              "    <div class=\"colab-df-container\">\n",
              "      <div>\n",
              "<style scoped>\n",
              "    .dataframe tbody tr th:only-of-type {\n",
              "        vertical-align: middle;\n",
              "    }\n",
              "\n",
              "    .dataframe tbody tr th {\n",
              "        vertical-align: top;\n",
              "    }\n",
              "\n",
              "    .dataframe thead th {\n",
              "        text-align: right;\n",
              "    }\n",
              "</style>\n",
              "<table border=\"1\" class=\"dataframe\">\n",
              "  <thead>\n",
              "    <tr style=\"text-align: right;\">\n",
              "      <th></th>\n",
              "      <th>APELLIDO</th>\n",
              "      <th>OCUPACION</th>\n",
              "      <th>GRADO_PREPARACION</th>\n",
              "      <th>CUIDAD</th>\n",
              "      <th>EDAD</th>\n",
              "    </tr>\n",
              "    <tr>\n",
              "      <th>NOMBRE</th>\n",
              "      <th></th>\n",
              "      <th></th>\n",
              "      <th></th>\n",
              "      <th></th>\n",
              "      <th></th>\n",
              "    </tr>\n",
              "  </thead>\n",
              "  <tbody>\n",
              "    <tr>\n",
              "      <th>JORGE</th>\n",
              "      <td>CASTILLO</td>\n",
              "      <td>ESTUDIANTE</td>\n",
              "      <td>UNIVERSIDAD</td>\n",
              "      <td>NaN</td>\n",
              "      <td>23</td>\n",
              "    </tr>\n",
              "    <tr>\n",
              "      <th>MIRIAM</th>\n",
              "      <td>JIMENES</td>\n",
              "      <td>ESTUDIANTE</td>\n",
              "      <td>KINDER</td>\n",
              "      <td>MANILA</td>\n",
              "      <td>25</td>\n",
              "    </tr>\n",
              "  </tbody>\n",
              "</table>\n",
              "</div>\n",
              "      <button class=\"colab-df-convert\" onclick=\"convertToInteractive('df-cad4c5c1-4d77-410b-ae3d-0ae5165248ce')\"\n",
              "              title=\"Convert this dataframe to an interactive table.\"\n",
              "              style=\"display:none;\">\n",
              "        \n",
              "  <svg xmlns=\"http://www.w3.org/2000/svg\" height=\"24px\"viewBox=\"0 0 24 24\"\n",
              "       width=\"24px\">\n",
              "    <path d=\"M0 0h24v24H0V0z\" fill=\"none\"/>\n",
              "    <path d=\"M18.56 5.44l.94 2.06.94-2.06 2.06-.94-2.06-.94-.94-2.06-.94 2.06-2.06.94zm-11 1L8.5 8.5l.94-2.06 2.06-.94-2.06-.94L8.5 2.5l-.94 2.06-2.06.94zm10 10l.94 2.06.94-2.06 2.06-.94-2.06-.94-.94-2.06-.94 2.06-2.06.94z\"/><path d=\"M17.41 7.96l-1.37-1.37c-.4-.4-.92-.59-1.43-.59-.52 0-1.04.2-1.43.59L10.3 9.45l-7.72 7.72c-.78.78-.78 2.05 0 2.83L4 21.41c.39.39.9.59 1.41.59.51 0 1.02-.2 1.41-.59l7.78-7.78 2.81-2.81c.8-.78.8-2.07 0-2.86zM5.41 20L4 18.59l7.72-7.72 1.47 1.35L5.41 20z\"/>\n",
              "  </svg>\n",
              "      </button>\n",
              "      \n",
              "  <style>\n",
              "    .colab-df-container {\n",
              "      display:flex;\n",
              "      flex-wrap:wrap;\n",
              "      gap: 12px;\n",
              "    }\n",
              "\n",
              "    .colab-df-convert {\n",
              "      background-color: #E8F0FE;\n",
              "      border: none;\n",
              "      border-radius: 50%;\n",
              "      cursor: pointer;\n",
              "      display: none;\n",
              "      fill: #1967D2;\n",
              "      height: 32px;\n",
              "      padding: 0 0 0 0;\n",
              "      width: 32px;\n",
              "    }\n",
              "\n",
              "    .colab-df-convert:hover {\n",
              "      background-color: #E2EBFA;\n",
              "      box-shadow: 0px 1px 2px rgba(60, 64, 67, 0.3), 0px 1px 3px 1px rgba(60, 64, 67, 0.15);\n",
              "      fill: #174EA6;\n",
              "    }\n",
              "\n",
              "    [theme=dark] .colab-df-convert {\n",
              "      background-color: #3B4455;\n",
              "      fill: #D2E3FC;\n",
              "    }\n",
              "\n",
              "    [theme=dark] .colab-df-convert:hover {\n",
              "      background-color: #434B5C;\n",
              "      box-shadow: 0px 1px 3px 1px rgba(0, 0, 0, 0.15);\n",
              "      filter: drop-shadow(0px 1px 2px rgba(0, 0, 0, 0.3));\n",
              "      fill: #FFFFFF;\n",
              "    }\n",
              "  </style>\n",
              "\n",
              "      <script>\n",
              "        const buttonEl =\n",
              "          document.querySelector('#df-cad4c5c1-4d77-410b-ae3d-0ae5165248ce button.colab-df-convert');\n",
              "        buttonEl.style.display =\n",
              "          google.colab.kernel.accessAllowed ? 'block' : 'none';\n",
              "\n",
              "        async function convertToInteractive(key) {\n",
              "          const element = document.querySelector('#df-cad4c5c1-4d77-410b-ae3d-0ae5165248ce');\n",
              "          const dataTable =\n",
              "            await google.colab.kernel.invokeFunction('convertToInteractive',\n",
              "                                                     [key], {});\n",
              "          if (!dataTable) return;\n",
              "\n",
              "          const docLinkHtml = 'Like what you see? Visit the ' +\n",
              "            '<a target=\"_blank\" href=https://colab.research.google.com/notebooks/data_table.ipynb>data table notebook</a>'\n",
              "            + ' to learn more about interactive tables.';\n",
              "          element.innerHTML = '';\n",
              "          dataTable['output_type'] = 'display_data';\n",
              "          await google.colab.output.renderOutput(dataTable, element);\n",
              "          const docLink = document.createElement('div');\n",
              "          docLink.innerHTML = docLinkHtml;\n",
              "          element.appendChild(docLink);\n",
              "        }\n",
              "      </script>\n",
              "    </div>\n",
              "  </div>\n",
              "  "
            ]
          },
          "metadata": {},
          "execution_count": 13
        }
      ]
    },
    {
      "cell_type": "markdown",
      "source": [
        "CADA VEZ QUE QUERAMOS OBTENER hileras por medio de la funcion iloc[ ] necesitamos hacerlo por medios de una lista que contenga dentro el numero de la hileras a extraer"
      ],
      "metadata": {
        "id": "1HTNWduee_ol"
      }
    },
    {
      "cell_type": "markdown",
      "source": [
        "# **EXTRAER varias SHUROT POR MEDIO DEL ITERATOR SLICING QUE TIENE EL FORMATO DIFOULTIVO start:end:jumps (DEFAULT FORMAT) CON iloc[ ]**"
      ],
      "metadata": {
        "id": "rRgzPKkdieJT"
      }
    },
    {
      "cell_type": "code",
      "source": [
        "df2"
      ],
      "metadata": {
        "colab": {
          "base_uri": "https://localhost:8080/",
          "height": 237
        },
        "id": "8cVmDJPpjMbj",
        "outputId": "7da4576b-82b2-44bf-dd39-0d2e1d4f3d73"
      },
      "execution_count": 17,
      "outputs": [
        {
          "output_type": "execute_result",
          "data": {
            "text/plain": [
              "        APELLIDO   OCUPACION GRADO_PREPARACION         CUIDAD  EDAD\n",
              "NOMBRE                                                             \n",
              "JORGE   CASTILLO  ESTUDIANTE       UNIVERSIDAD            NaN    23\n",
              "OMAR      GAMBOA        PEON               NaN         PUEBLA    24\n",
              "MIRIAM   JIMENES  ESTUDIANTE            KINDER         MANILA    25\n",
              "JAYA       RIERA         NaN       PRREESCOLAR  TANGAMANDAPIO    50\n",
              "JANA      GAMBOA      MELAVA              SECU        YAGUARU   100"
            ],
            "text/html": [
              "\n",
              "  <div id=\"df-3dcf0884-b03b-4afc-b23f-4737ffc34da6\">\n",
              "    <div class=\"colab-df-container\">\n",
              "      <div>\n",
              "<style scoped>\n",
              "    .dataframe tbody tr th:only-of-type {\n",
              "        vertical-align: middle;\n",
              "    }\n",
              "\n",
              "    .dataframe tbody tr th {\n",
              "        vertical-align: top;\n",
              "    }\n",
              "\n",
              "    .dataframe thead th {\n",
              "        text-align: right;\n",
              "    }\n",
              "</style>\n",
              "<table border=\"1\" class=\"dataframe\">\n",
              "  <thead>\n",
              "    <tr style=\"text-align: right;\">\n",
              "      <th></th>\n",
              "      <th>APELLIDO</th>\n",
              "      <th>OCUPACION</th>\n",
              "      <th>GRADO_PREPARACION</th>\n",
              "      <th>CUIDAD</th>\n",
              "      <th>EDAD</th>\n",
              "    </tr>\n",
              "    <tr>\n",
              "      <th>NOMBRE</th>\n",
              "      <th></th>\n",
              "      <th></th>\n",
              "      <th></th>\n",
              "      <th></th>\n",
              "      <th></th>\n",
              "    </tr>\n",
              "  </thead>\n",
              "  <tbody>\n",
              "    <tr>\n",
              "      <th>JORGE</th>\n",
              "      <td>CASTILLO</td>\n",
              "      <td>ESTUDIANTE</td>\n",
              "      <td>UNIVERSIDAD</td>\n",
              "      <td>NaN</td>\n",
              "      <td>23</td>\n",
              "    </tr>\n",
              "    <tr>\n",
              "      <th>OMAR</th>\n",
              "      <td>GAMBOA</td>\n",
              "      <td>PEON</td>\n",
              "      <td>NaN</td>\n",
              "      <td>PUEBLA</td>\n",
              "      <td>24</td>\n",
              "    </tr>\n",
              "    <tr>\n",
              "      <th>MIRIAM</th>\n",
              "      <td>JIMENES</td>\n",
              "      <td>ESTUDIANTE</td>\n",
              "      <td>KINDER</td>\n",
              "      <td>MANILA</td>\n",
              "      <td>25</td>\n",
              "    </tr>\n",
              "    <tr>\n",
              "      <th>JAYA</th>\n",
              "      <td>RIERA</td>\n",
              "      <td>NaN</td>\n",
              "      <td>PRREESCOLAR</td>\n",
              "      <td>TANGAMANDAPIO</td>\n",
              "      <td>50</td>\n",
              "    </tr>\n",
              "    <tr>\n",
              "      <th>JANA</th>\n",
              "      <td>GAMBOA</td>\n",
              "      <td>MELAVA</td>\n",
              "      <td>SECU</td>\n",
              "      <td>YAGUARU</td>\n",
              "      <td>100</td>\n",
              "    </tr>\n",
              "  </tbody>\n",
              "</table>\n",
              "</div>\n",
              "      <button class=\"colab-df-convert\" onclick=\"convertToInteractive('df-3dcf0884-b03b-4afc-b23f-4737ffc34da6')\"\n",
              "              title=\"Convert this dataframe to an interactive table.\"\n",
              "              style=\"display:none;\">\n",
              "        \n",
              "  <svg xmlns=\"http://www.w3.org/2000/svg\" height=\"24px\"viewBox=\"0 0 24 24\"\n",
              "       width=\"24px\">\n",
              "    <path d=\"M0 0h24v24H0V0z\" fill=\"none\"/>\n",
              "    <path d=\"M18.56 5.44l.94 2.06.94-2.06 2.06-.94-2.06-.94-.94-2.06-.94 2.06-2.06.94zm-11 1L8.5 8.5l.94-2.06 2.06-.94-2.06-.94L8.5 2.5l-.94 2.06-2.06.94zm10 10l.94 2.06.94-2.06 2.06-.94-2.06-.94-.94-2.06-.94 2.06-2.06.94z\"/><path d=\"M17.41 7.96l-1.37-1.37c-.4-.4-.92-.59-1.43-.59-.52 0-1.04.2-1.43.59L10.3 9.45l-7.72 7.72c-.78.78-.78 2.05 0 2.83L4 21.41c.39.39.9.59 1.41.59.51 0 1.02-.2 1.41-.59l7.78-7.78 2.81-2.81c.8-.78.8-2.07 0-2.86zM5.41 20L4 18.59l7.72-7.72 1.47 1.35L5.41 20z\"/>\n",
              "  </svg>\n",
              "      </button>\n",
              "      \n",
              "  <style>\n",
              "    .colab-df-container {\n",
              "      display:flex;\n",
              "      flex-wrap:wrap;\n",
              "      gap: 12px;\n",
              "    }\n",
              "\n",
              "    .colab-df-convert {\n",
              "      background-color: #E8F0FE;\n",
              "      border: none;\n",
              "      border-radius: 50%;\n",
              "      cursor: pointer;\n",
              "      display: none;\n",
              "      fill: #1967D2;\n",
              "      height: 32px;\n",
              "      padding: 0 0 0 0;\n",
              "      width: 32px;\n",
              "    }\n",
              "\n",
              "    .colab-df-convert:hover {\n",
              "      background-color: #E2EBFA;\n",
              "      box-shadow: 0px 1px 2px rgba(60, 64, 67, 0.3), 0px 1px 3px 1px rgba(60, 64, 67, 0.15);\n",
              "      fill: #174EA6;\n",
              "    }\n",
              "\n",
              "    [theme=dark] .colab-df-convert {\n",
              "      background-color: #3B4455;\n",
              "      fill: #D2E3FC;\n",
              "    }\n",
              "\n",
              "    [theme=dark] .colab-df-convert:hover {\n",
              "      background-color: #434B5C;\n",
              "      box-shadow: 0px 1px 3px 1px rgba(0, 0, 0, 0.15);\n",
              "      filter: drop-shadow(0px 1px 2px rgba(0, 0, 0, 0.3));\n",
              "      fill: #FFFFFF;\n",
              "    }\n",
              "  </style>\n",
              "\n",
              "      <script>\n",
              "        const buttonEl =\n",
              "          document.querySelector('#df-3dcf0884-b03b-4afc-b23f-4737ffc34da6 button.colab-df-convert');\n",
              "        buttonEl.style.display =\n",
              "          google.colab.kernel.accessAllowed ? 'block' : 'none';\n",
              "\n",
              "        async function convertToInteractive(key) {\n",
              "          const element = document.querySelector('#df-3dcf0884-b03b-4afc-b23f-4737ffc34da6');\n",
              "          const dataTable =\n",
              "            await google.colab.kernel.invokeFunction('convertToInteractive',\n",
              "                                                     [key], {});\n",
              "          if (!dataTable) return;\n",
              "\n",
              "          const docLinkHtml = 'Like what you see? Visit the ' +\n",
              "            '<a target=\"_blank\" href=https://colab.research.google.com/notebooks/data_table.ipynb>data table notebook</a>'\n",
              "            + ' to learn more about interactive tables.';\n",
              "          element.innerHTML = '';\n",
              "          dataTable['output_type'] = 'display_data';\n",
              "          await google.colab.output.renderOutput(dataTable, element);\n",
              "          const docLink = document.createElement('div');\n",
              "          docLink.innerHTML = docLinkHtml;\n",
              "          element.appendChild(docLink);\n",
              "        }\n",
              "      </script>\n",
              "    </div>\n",
              "  </div>\n",
              "  "
            ]
          },
          "metadata": {},
          "execution_count": 17
        }
      ]
    },
    {
      "cell_type": "code",
      "source": [
        "df2.iloc[::2]  # Fetch every second row"
      ],
      "metadata": {
        "colab": {
          "base_uri": "https://localhost:8080/",
          "height": 175
        },
        "id": "qLBNMgJ7jILD",
        "outputId": "bfc857b8-5cad-426d-8c07-d1b7088a7966"
      },
      "execution_count": 16,
      "outputs": [
        {
          "output_type": "execute_result",
          "data": {
            "text/plain": [
              "        APELLIDO   OCUPACION GRADO_PREPARACION   CUIDAD  EDAD\n",
              "NOMBRE                                                       \n",
              "JORGE   CASTILLO  ESTUDIANTE       UNIVERSIDAD      NaN    23\n",
              "MIRIAM   JIMENES  ESTUDIANTE            KINDER   MANILA    25\n",
              "JANA      GAMBOA      MELAVA              SECU  YAGUARU   100"
            ],
            "text/html": [
              "\n",
              "  <div id=\"df-4478006c-ab07-45d8-a5ab-fc104417c255\">\n",
              "    <div class=\"colab-df-container\">\n",
              "      <div>\n",
              "<style scoped>\n",
              "    .dataframe tbody tr th:only-of-type {\n",
              "        vertical-align: middle;\n",
              "    }\n",
              "\n",
              "    .dataframe tbody tr th {\n",
              "        vertical-align: top;\n",
              "    }\n",
              "\n",
              "    .dataframe thead th {\n",
              "        text-align: right;\n",
              "    }\n",
              "</style>\n",
              "<table border=\"1\" class=\"dataframe\">\n",
              "  <thead>\n",
              "    <tr style=\"text-align: right;\">\n",
              "      <th></th>\n",
              "      <th>APELLIDO</th>\n",
              "      <th>OCUPACION</th>\n",
              "      <th>GRADO_PREPARACION</th>\n",
              "      <th>CUIDAD</th>\n",
              "      <th>EDAD</th>\n",
              "    </tr>\n",
              "    <tr>\n",
              "      <th>NOMBRE</th>\n",
              "      <th></th>\n",
              "      <th></th>\n",
              "      <th></th>\n",
              "      <th></th>\n",
              "      <th></th>\n",
              "    </tr>\n",
              "  </thead>\n",
              "  <tbody>\n",
              "    <tr>\n",
              "      <th>JORGE</th>\n",
              "      <td>CASTILLO</td>\n",
              "      <td>ESTUDIANTE</td>\n",
              "      <td>UNIVERSIDAD</td>\n",
              "      <td>NaN</td>\n",
              "      <td>23</td>\n",
              "    </tr>\n",
              "    <tr>\n",
              "      <th>MIRIAM</th>\n",
              "      <td>JIMENES</td>\n",
              "      <td>ESTUDIANTE</td>\n",
              "      <td>KINDER</td>\n",
              "      <td>MANILA</td>\n",
              "      <td>25</td>\n",
              "    </tr>\n",
              "    <tr>\n",
              "      <th>JANA</th>\n",
              "      <td>GAMBOA</td>\n",
              "      <td>MELAVA</td>\n",
              "      <td>SECU</td>\n",
              "      <td>YAGUARU</td>\n",
              "      <td>100</td>\n",
              "    </tr>\n",
              "  </tbody>\n",
              "</table>\n",
              "</div>\n",
              "      <button class=\"colab-df-convert\" onclick=\"convertToInteractive('df-4478006c-ab07-45d8-a5ab-fc104417c255')\"\n",
              "              title=\"Convert this dataframe to an interactive table.\"\n",
              "              style=\"display:none;\">\n",
              "        \n",
              "  <svg xmlns=\"http://www.w3.org/2000/svg\" height=\"24px\"viewBox=\"0 0 24 24\"\n",
              "       width=\"24px\">\n",
              "    <path d=\"M0 0h24v24H0V0z\" fill=\"none\"/>\n",
              "    <path d=\"M18.56 5.44l.94 2.06.94-2.06 2.06-.94-2.06-.94-.94-2.06-.94 2.06-2.06.94zm-11 1L8.5 8.5l.94-2.06 2.06-.94-2.06-.94L8.5 2.5l-.94 2.06-2.06.94zm10 10l.94 2.06.94-2.06 2.06-.94-2.06-.94-.94-2.06-.94 2.06-2.06.94z\"/><path d=\"M17.41 7.96l-1.37-1.37c-.4-.4-.92-.59-1.43-.59-.52 0-1.04.2-1.43.59L10.3 9.45l-7.72 7.72c-.78.78-.78 2.05 0 2.83L4 21.41c.39.39.9.59 1.41.59.51 0 1.02-.2 1.41-.59l7.78-7.78 2.81-2.81c.8-.78.8-2.07 0-2.86zM5.41 20L4 18.59l7.72-7.72 1.47 1.35L5.41 20z\"/>\n",
              "  </svg>\n",
              "      </button>\n",
              "      \n",
              "  <style>\n",
              "    .colab-df-container {\n",
              "      display:flex;\n",
              "      flex-wrap:wrap;\n",
              "      gap: 12px;\n",
              "    }\n",
              "\n",
              "    .colab-df-convert {\n",
              "      background-color: #E8F0FE;\n",
              "      border: none;\n",
              "      border-radius: 50%;\n",
              "      cursor: pointer;\n",
              "      display: none;\n",
              "      fill: #1967D2;\n",
              "      height: 32px;\n",
              "      padding: 0 0 0 0;\n",
              "      width: 32px;\n",
              "    }\n",
              "\n",
              "    .colab-df-convert:hover {\n",
              "      background-color: #E2EBFA;\n",
              "      box-shadow: 0px 1px 2px rgba(60, 64, 67, 0.3), 0px 1px 3px 1px rgba(60, 64, 67, 0.15);\n",
              "      fill: #174EA6;\n",
              "    }\n",
              "\n",
              "    [theme=dark] .colab-df-convert {\n",
              "      background-color: #3B4455;\n",
              "      fill: #D2E3FC;\n",
              "    }\n",
              "\n",
              "    [theme=dark] .colab-df-convert:hover {\n",
              "      background-color: #434B5C;\n",
              "      box-shadow: 0px 1px 3px 1px rgba(0, 0, 0, 0.15);\n",
              "      filter: drop-shadow(0px 1px 2px rgba(0, 0, 0, 0.3));\n",
              "      fill: #FFFFFF;\n",
              "    }\n",
              "  </style>\n",
              "\n",
              "      <script>\n",
              "        const buttonEl =\n",
              "          document.querySelector('#df-4478006c-ab07-45d8-a5ab-fc104417c255 button.colab-df-convert');\n",
              "        buttonEl.style.display =\n",
              "          google.colab.kernel.accessAllowed ? 'block' : 'none';\n",
              "\n",
              "        async function convertToInteractive(key) {\n",
              "          const element = document.querySelector('#df-4478006c-ab07-45d8-a5ab-fc104417c255');\n",
              "          const dataTable =\n",
              "            await google.colab.kernel.invokeFunction('convertToInteractive',\n",
              "                                                     [key], {});\n",
              "          if (!dataTable) return;\n",
              "\n",
              "          const docLinkHtml = 'Like what you see? Visit the ' +\n",
              "            '<a target=\"_blank\" href=https://colab.research.google.com/notebooks/data_table.ipynb>data table notebook</a>'\n",
              "            + ' to learn more about interactive tables.';\n",
              "          element.innerHTML = '';\n",
              "          dataTable['output_type'] = 'display_data';\n",
              "          await google.colab.output.renderOutput(dataTable, element);\n",
              "          const docLink = document.createElement('div');\n",
              "          docLink.innerHTML = docLinkHtml;\n",
              "          element.appendChild(docLink);\n",
              "        }\n",
              "      </script>\n",
              "    </div>\n",
              "  </div>\n",
              "  "
            ]
          },
          "metadata": {},
          "execution_count": 16
        }
      ]
    },
    {
      "cell_type": "markdown",
      "source": [
        "EL COMMANDO DE ARRIBA ES UN SLICING QUE EJECUTA EL FORMATO DIFULTIVO DE SLICING EN UNA df2 Y EXTRAE LAS HILERAS DE LA TABLA DE 2 EN 2 COMENZANDO DESDE 0 HASTA EL FINAL DE LA TABLA."
      ],
      "metadata": {
        "id": "j5nwEuW5jP4c"
      }
    },
    {
      "cell_type": "markdown",
      "source": [
        "# **EXRAER VARIAS HILERAS Y COLUMNAS (APLICANDO SLICING tambien) CON iloc[ ]**"
      ],
      "metadata": {
        "id": "Nye4DHfOq93_"
      }
    },
    {
      "cell_type": "code",
      "source": [
        "df2"
      ],
      "metadata": {
        "colab": {
          "base_uri": "https://localhost:8080/",
          "height": 237
        },
        "id": "I7vY84FKvzvF",
        "outputId": "57deffd8-593c-4875-c476-fff80b8f021f"
      },
      "execution_count": 18,
      "outputs": [
        {
          "output_type": "execute_result",
          "data": {
            "text/plain": [
              "        APELLIDO   OCUPACION GRADO_PREPARACION         CUIDAD  EDAD\n",
              "NOMBRE                                                             \n",
              "JORGE   CASTILLO  ESTUDIANTE       UNIVERSIDAD            NaN    23\n",
              "OMAR      GAMBOA        PEON               NaN         PUEBLA    24\n",
              "MIRIAM   JIMENES  ESTUDIANTE            KINDER         MANILA    25\n",
              "JAYA       RIERA         NaN       PRREESCOLAR  TANGAMANDAPIO    50\n",
              "JANA      GAMBOA      MELAVA              SECU        YAGUARU   100"
            ],
            "text/html": [
              "\n",
              "  <div id=\"df-5f630648-ca33-4a35-a9b5-5ac52d3ec148\">\n",
              "    <div class=\"colab-df-container\">\n",
              "      <div>\n",
              "<style scoped>\n",
              "    .dataframe tbody tr th:only-of-type {\n",
              "        vertical-align: middle;\n",
              "    }\n",
              "\n",
              "    .dataframe tbody tr th {\n",
              "        vertical-align: top;\n",
              "    }\n",
              "\n",
              "    .dataframe thead th {\n",
              "        text-align: right;\n",
              "    }\n",
              "</style>\n",
              "<table border=\"1\" class=\"dataframe\">\n",
              "  <thead>\n",
              "    <tr style=\"text-align: right;\">\n",
              "      <th></th>\n",
              "      <th>APELLIDO</th>\n",
              "      <th>OCUPACION</th>\n",
              "      <th>GRADO_PREPARACION</th>\n",
              "      <th>CUIDAD</th>\n",
              "      <th>EDAD</th>\n",
              "    </tr>\n",
              "    <tr>\n",
              "      <th>NOMBRE</th>\n",
              "      <th></th>\n",
              "      <th></th>\n",
              "      <th></th>\n",
              "      <th></th>\n",
              "      <th></th>\n",
              "    </tr>\n",
              "  </thead>\n",
              "  <tbody>\n",
              "    <tr>\n",
              "      <th>JORGE</th>\n",
              "      <td>CASTILLO</td>\n",
              "      <td>ESTUDIANTE</td>\n",
              "      <td>UNIVERSIDAD</td>\n",
              "      <td>NaN</td>\n",
              "      <td>23</td>\n",
              "    </tr>\n",
              "    <tr>\n",
              "      <th>OMAR</th>\n",
              "      <td>GAMBOA</td>\n",
              "      <td>PEON</td>\n",
              "      <td>NaN</td>\n",
              "      <td>PUEBLA</td>\n",
              "      <td>24</td>\n",
              "    </tr>\n",
              "    <tr>\n",
              "      <th>MIRIAM</th>\n",
              "      <td>JIMENES</td>\n",
              "      <td>ESTUDIANTE</td>\n",
              "      <td>KINDER</td>\n",
              "      <td>MANILA</td>\n",
              "      <td>25</td>\n",
              "    </tr>\n",
              "    <tr>\n",
              "      <th>JAYA</th>\n",
              "      <td>RIERA</td>\n",
              "      <td>NaN</td>\n",
              "      <td>PRREESCOLAR</td>\n",
              "      <td>TANGAMANDAPIO</td>\n",
              "      <td>50</td>\n",
              "    </tr>\n",
              "    <tr>\n",
              "      <th>JANA</th>\n",
              "      <td>GAMBOA</td>\n",
              "      <td>MELAVA</td>\n",
              "      <td>SECU</td>\n",
              "      <td>YAGUARU</td>\n",
              "      <td>100</td>\n",
              "    </tr>\n",
              "  </tbody>\n",
              "</table>\n",
              "</div>\n",
              "      <button class=\"colab-df-convert\" onclick=\"convertToInteractive('df-5f630648-ca33-4a35-a9b5-5ac52d3ec148')\"\n",
              "              title=\"Convert this dataframe to an interactive table.\"\n",
              "              style=\"display:none;\">\n",
              "        \n",
              "  <svg xmlns=\"http://www.w3.org/2000/svg\" height=\"24px\"viewBox=\"0 0 24 24\"\n",
              "       width=\"24px\">\n",
              "    <path d=\"M0 0h24v24H0V0z\" fill=\"none\"/>\n",
              "    <path d=\"M18.56 5.44l.94 2.06.94-2.06 2.06-.94-2.06-.94-.94-2.06-.94 2.06-2.06.94zm-11 1L8.5 8.5l.94-2.06 2.06-.94-2.06-.94L8.5 2.5l-.94 2.06-2.06.94zm10 10l.94 2.06.94-2.06 2.06-.94-2.06-.94-.94-2.06-.94 2.06-2.06.94z\"/><path d=\"M17.41 7.96l-1.37-1.37c-.4-.4-.92-.59-1.43-.59-.52 0-1.04.2-1.43.59L10.3 9.45l-7.72 7.72c-.78.78-.78 2.05 0 2.83L4 21.41c.39.39.9.59 1.41.59.51 0 1.02-.2 1.41-.59l7.78-7.78 2.81-2.81c.8-.78.8-2.07 0-2.86zM5.41 20L4 18.59l7.72-7.72 1.47 1.35L5.41 20z\"/>\n",
              "  </svg>\n",
              "      </button>\n",
              "      \n",
              "  <style>\n",
              "    .colab-df-container {\n",
              "      display:flex;\n",
              "      flex-wrap:wrap;\n",
              "      gap: 12px;\n",
              "    }\n",
              "\n",
              "    .colab-df-convert {\n",
              "      background-color: #E8F0FE;\n",
              "      border: none;\n",
              "      border-radius: 50%;\n",
              "      cursor: pointer;\n",
              "      display: none;\n",
              "      fill: #1967D2;\n",
              "      height: 32px;\n",
              "      padding: 0 0 0 0;\n",
              "      width: 32px;\n",
              "    }\n",
              "\n",
              "    .colab-df-convert:hover {\n",
              "      background-color: #E2EBFA;\n",
              "      box-shadow: 0px 1px 2px rgba(60, 64, 67, 0.3), 0px 1px 3px 1px rgba(60, 64, 67, 0.15);\n",
              "      fill: #174EA6;\n",
              "    }\n",
              "\n",
              "    [theme=dark] .colab-df-convert {\n",
              "      background-color: #3B4455;\n",
              "      fill: #D2E3FC;\n",
              "    }\n",
              "\n",
              "    [theme=dark] .colab-df-convert:hover {\n",
              "      background-color: #434B5C;\n",
              "      box-shadow: 0px 1px 3px 1px rgba(0, 0, 0, 0.15);\n",
              "      filter: drop-shadow(0px 1px 2px rgba(0, 0, 0, 0.3));\n",
              "      fill: #FFFFFF;\n",
              "    }\n",
              "  </style>\n",
              "\n",
              "      <script>\n",
              "        const buttonEl =\n",
              "          document.querySelector('#df-5f630648-ca33-4a35-a9b5-5ac52d3ec148 button.colab-df-convert');\n",
              "        buttonEl.style.display =\n",
              "          google.colab.kernel.accessAllowed ? 'block' : 'none';\n",
              "\n",
              "        async function convertToInteractive(key) {\n",
              "          const element = document.querySelector('#df-5f630648-ca33-4a35-a9b5-5ac52d3ec148');\n",
              "          const dataTable =\n",
              "            await google.colab.kernel.invokeFunction('convertToInteractive',\n",
              "                                                     [key], {});\n",
              "          if (!dataTable) return;\n",
              "\n",
              "          const docLinkHtml = 'Like what you see? Visit the ' +\n",
              "            '<a target=\"_blank\" href=https://colab.research.google.com/notebooks/data_table.ipynb>data table notebook</a>'\n",
              "            + ' to learn more about interactive tables.';\n",
              "          element.innerHTML = '';\n",
              "          dataTable['output_type'] = 'display_data';\n",
              "          await google.colab.output.renderOutput(dataTable, element);\n",
              "          const docLink = document.createElement('div');\n",
              "          docLink.innerHTML = docLinkHtml;\n",
              "          element.appendChild(docLink);\n",
              "        }\n",
              "      </script>\n",
              "    </div>\n",
              "  </div>\n",
              "  "
            ]
          },
          "metadata": {},
          "execution_count": 18
        }
      ]
    },
    {
      "cell_type": "code",
      "source": [
        "df2.iloc[[1, 3],[0, 1, 4]] # OBTENEMOS LAS HILERAS 1 Y 3 Y LAS COLUMNAS 0 , 1 ,4"
      ],
      "metadata": {
        "colab": {
          "base_uri": "https://localhost:8080/",
          "height": 143
        },
        "id": "ZqugFywrrpY7",
        "outputId": "b7130c73-a957-4119-f037-c4f7eac12620"
      },
      "execution_count": 19,
      "outputs": [
        {
          "output_type": "execute_result",
          "data": {
            "text/plain": [
              "       APELLIDO OCUPACION  EDAD\n",
              "NOMBRE                         \n",
              "OMAR     GAMBOA      PEON    24\n",
              "JAYA      RIERA       NaN    50"
            ],
            "text/html": [
              "\n",
              "  <div id=\"df-ebcaece2-18e9-4a3e-a378-64a0d9c11fc3\">\n",
              "    <div class=\"colab-df-container\">\n",
              "      <div>\n",
              "<style scoped>\n",
              "    .dataframe tbody tr th:only-of-type {\n",
              "        vertical-align: middle;\n",
              "    }\n",
              "\n",
              "    .dataframe tbody tr th {\n",
              "        vertical-align: top;\n",
              "    }\n",
              "\n",
              "    .dataframe thead th {\n",
              "        text-align: right;\n",
              "    }\n",
              "</style>\n",
              "<table border=\"1\" class=\"dataframe\">\n",
              "  <thead>\n",
              "    <tr style=\"text-align: right;\">\n",
              "      <th></th>\n",
              "      <th>APELLIDO</th>\n",
              "      <th>OCUPACION</th>\n",
              "      <th>EDAD</th>\n",
              "    </tr>\n",
              "    <tr>\n",
              "      <th>NOMBRE</th>\n",
              "      <th></th>\n",
              "      <th></th>\n",
              "      <th></th>\n",
              "    </tr>\n",
              "  </thead>\n",
              "  <tbody>\n",
              "    <tr>\n",
              "      <th>OMAR</th>\n",
              "      <td>GAMBOA</td>\n",
              "      <td>PEON</td>\n",
              "      <td>24</td>\n",
              "    </tr>\n",
              "    <tr>\n",
              "      <th>JAYA</th>\n",
              "      <td>RIERA</td>\n",
              "      <td>NaN</td>\n",
              "      <td>50</td>\n",
              "    </tr>\n",
              "  </tbody>\n",
              "</table>\n",
              "</div>\n",
              "      <button class=\"colab-df-convert\" onclick=\"convertToInteractive('df-ebcaece2-18e9-4a3e-a378-64a0d9c11fc3')\"\n",
              "              title=\"Convert this dataframe to an interactive table.\"\n",
              "              style=\"display:none;\">\n",
              "        \n",
              "  <svg xmlns=\"http://www.w3.org/2000/svg\" height=\"24px\"viewBox=\"0 0 24 24\"\n",
              "       width=\"24px\">\n",
              "    <path d=\"M0 0h24v24H0V0z\" fill=\"none\"/>\n",
              "    <path d=\"M18.56 5.44l.94 2.06.94-2.06 2.06-.94-2.06-.94-.94-2.06-.94 2.06-2.06.94zm-11 1L8.5 8.5l.94-2.06 2.06-.94-2.06-.94L8.5 2.5l-.94 2.06-2.06.94zm10 10l.94 2.06.94-2.06 2.06-.94-2.06-.94-.94-2.06-.94 2.06-2.06.94z\"/><path d=\"M17.41 7.96l-1.37-1.37c-.4-.4-.92-.59-1.43-.59-.52 0-1.04.2-1.43.59L10.3 9.45l-7.72 7.72c-.78.78-.78 2.05 0 2.83L4 21.41c.39.39.9.59 1.41.59.51 0 1.02-.2 1.41-.59l7.78-7.78 2.81-2.81c.8-.78.8-2.07 0-2.86zM5.41 20L4 18.59l7.72-7.72 1.47 1.35L5.41 20z\"/>\n",
              "  </svg>\n",
              "      </button>\n",
              "      \n",
              "  <style>\n",
              "    .colab-df-container {\n",
              "      display:flex;\n",
              "      flex-wrap:wrap;\n",
              "      gap: 12px;\n",
              "    }\n",
              "\n",
              "    .colab-df-convert {\n",
              "      background-color: #E8F0FE;\n",
              "      border: none;\n",
              "      border-radius: 50%;\n",
              "      cursor: pointer;\n",
              "      display: none;\n",
              "      fill: #1967D2;\n",
              "      height: 32px;\n",
              "      padding: 0 0 0 0;\n",
              "      width: 32px;\n",
              "    }\n",
              "\n",
              "    .colab-df-convert:hover {\n",
              "      background-color: #E2EBFA;\n",
              "      box-shadow: 0px 1px 2px rgba(60, 64, 67, 0.3), 0px 1px 3px 1px rgba(60, 64, 67, 0.15);\n",
              "      fill: #174EA6;\n",
              "    }\n",
              "\n",
              "    [theme=dark] .colab-df-convert {\n",
              "      background-color: #3B4455;\n",
              "      fill: #D2E3FC;\n",
              "    }\n",
              "\n",
              "    [theme=dark] .colab-df-convert:hover {\n",
              "      background-color: #434B5C;\n",
              "      box-shadow: 0px 1px 3px 1px rgba(0, 0, 0, 0.15);\n",
              "      filter: drop-shadow(0px 1px 2px rgba(0, 0, 0, 0.3));\n",
              "      fill: #FFFFFF;\n",
              "    }\n",
              "  </style>\n",
              "\n",
              "      <script>\n",
              "        const buttonEl =\n",
              "          document.querySelector('#df-ebcaece2-18e9-4a3e-a378-64a0d9c11fc3 button.colab-df-convert');\n",
              "        buttonEl.style.display =\n",
              "          google.colab.kernel.accessAllowed ? 'block' : 'none';\n",
              "\n",
              "        async function convertToInteractive(key) {\n",
              "          const element = document.querySelector('#df-ebcaece2-18e9-4a3e-a378-64a0d9c11fc3');\n",
              "          const dataTable =\n",
              "            await google.colab.kernel.invokeFunction('convertToInteractive',\n",
              "                                                     [key], {});\n",
              "          if (!dataTable) return;\n",
              "\n",
              "          const docLinkHtml = 'Like what you see? Visit the ' +\n",
              "            '<a target=\"_blank\" href=https://colab.research.google.com/notebooks/data_table.ipynb>data table notebook</a>'\n",
              "            + ' to learn more about interactive tables.';\n",
              "          element.innerHTML = '';\n",
              "          dataTable['output_type'] = 'display_data';\n",
              "          await google.colab.output.renderOutput(dataTable, element);\n",
              "          const docLink = document.createElement('div');\n",
              "          docLink.innerHTML = docLinkHtml;\n",
              "          element.appendChild(docLink);\n",
              "        }\n",
              "      </script>\n",
              "    </div>\n",
              "  </div>\n",
              "  "
            ]
          },
          "metadata": {},
          "execution_count": 19
        }
      ]
    },
    {
      "cell_type": "markdown",
      "source": [
        "EL FORMATO APLICADO EN EL iloc[ ] DE ARRIBA ES .iloc[[hileras],[columnas]]"
      ],
      "metadata": {
        "id": "9Cb-NiFCwVAs"
      }
    },
    {
      "cell_type": "code",
      "source": [
        "df2.iloc[1:3,[0, 1, 4]] # OBTENER DATA EMPLEANDO SLICING A LAS HILERAS"
      ],
      "metadata": {
        "colab": {
          "base_uri": "https://localhost:8080/",
          "height": 143
        },
        "id": "8LoLdFQsxWWs",
        "outputId": "51d2aeb8-9a46-4ce2-bcc0-205e8149ccbe"
      },
      "execution_count": 20,
      "outputs": [
        {
          "output_type": "execute_result",
          "data": {
            "text/plain": [
              "       APELLIDO   OCUPACION  EDAD\n",
              "NOMBRE                           \n",
              "OMAR     GAMBOA        PEON    24\n",
              "MIRIAM  JIMENES  ESTUDIANTE    25"
            ],
            "text/html": [
              "\n",
              "  <div id=\"df-5a3616b5-8b7a-447b-a8b1-bb989fad2f74\">\n",
              "    <div class=\"colab-df-container\">\n",
              "      <div>\n",
              "<style scoped>\n",
              "    .dataframe tbody tr th:only-of-type {\n",
              "        vertical-align: middle;\n",
              "    }\n",
              "\n",
              "    .dataframe tbody tr th {\n",
              "        vertical-align: top;\n",
              "    }\n",
              "\n",
              "    .dataframe thead th {\n",
              "        text-align: right;\n",
              "    }\n",
              "</style>\n",
              "<table border=\"1\" class=\"dataframe\">\n",
              "  <thead>\n",
              "    <tr style=\"text-align: right;\">\n",
              "      <th></th>\n",
              "      <th>APELLIDO</th>\n",
              "      <th>OCUPACION</th>\n",
              "      <th>EDAD</th>\n",
              "    </tr>\n",
              "    <tr>\n",
              "      <th>NOMBRE</th>\n",
              "      <th></th>\n",
              "      <th></th>\n",
              "      <th></th>\n",
              "    </tr>\n",
              "  </thead>\n",
              "  <tbody>\n",
              "    <tr>\n",
              "      <th>OMAR</th>\n",
              "      <td>GAMBOA</td>\n",
              "      <td>PEON</td>\n",
              "      <td>24</td>\n",
              "    </tr>\n",
              "    <tr>\n",
              "      <th>MIRIAM</th>\n",
              "      <td>JIMENES</td>\n",
              "      <td>ESTUDIANTE</td>\n",
              "      <td>25</td>\n",
              "    </tr>\n",
              "  </tbody>\n",
              "</table>\n",
              "</div>\n",
              "      <button class=\"colab-df-convert\" onclick=\"convertToInteractive('df-5a3616b5-8b7a-447b-a8b1-bb989fad2f74')\"\n",
              "              title=\"Convert this dataframe to an interactive table.\"\n",
              "              style=\"display:none;\">\n",
              "        \n",
              "  <svg xmlns=\"http://www.w3.org/2000/svg\" height=\"24px\"viewBox=\"0 0 24 24\"\n",
              "       width=\"24px\">\n",
              "    <path d=\"M0 0h24v24H0V0z\" fill=\"none\"/>\n",
              "    <path d=\"M18.56 5.44l.94 2.06.94-2.06 2.06-.94-2.06-.94-.94-2.06-.94 2.06-2.06.94zm-11 1L8.5 8.5l.94-2.06 2.06-.94-2.06-.94L8.5 2.5l-.94 2.06-2.06.94zm10 10l.94 2.06.94-2.06 2.06-.94-2.06-.94-.94-2.06-.94 2.06-2.06.94z\"/><path d=\"M17.41 7.96l-1.37-1.37c-.4-.4-.92-.59-1.43-.59-.52 0-1.04.2-1.43.59L10.3 9.45l-7.72 7.72c-.78.78-.78 2.05 0 2.83L4 21.41c.39.39.9.59 1.41.59.51 0 1.02-.2 1.41-.59l7.78-7.78 2.81-2.81c.8-.78.8-2.07 0-2.86zM5.41 20L4 18.59l7.72-7.72 1.47 1.35L5.41 20z\"/>\n",
              "  </svg>\n",
              "      </button>\n",
              "      \n",
              "  <style>\n",
              "    .colab-df-container {\n",
              "      display:flex;\n",
              "      flex-wrap:wrap;\n",
              "      gap: 12px;\n",
              "    }\n",
              "\n",
              "    .colab-df-convert {\n",
              "      background-color: #E8F0FE;\n",
              "      border: none;\n",
              "      border-radius: 50%;\n",
              "      cursor: pointer;\n",
              "      display: none;\n",
              "      fill: #1967D2;\n",
              "      height: 32px;\n",
              "      padding: 0 0 0 0;\n",
              "      width: 32px;\n",
              "    }\n",
              "\n",
              "    .colab-df-convert:hover {\n",
              "      background-color: #E2EBFA;\n",
              "      box-shadow: 0px 1px 2px rgba(60, 64, 67, 0.3), 0px 1px 3px 1px rgba(60, 64, 67, 0.15);\n",
              "      fill: #174EA6;\n",
              "    }\n",
              "\n",
              "    [theme=dark] .colab-df-convert {\n",
              "      background-color: #3B4455;\n",
              "      fill: #D2E3FC;\n",
              "    }\n",
              "\n",
              "    [theme=dark] .colab-df-convert:hover {\n",
              "      background-color: #434B5C;\n",
              "      box-shadow: 0px 1px 3px 1px rgba(0, 0, 0, 0.15);\n",
              "      filter: drop-shadow(0px 1px 2px rgba(0, 0, 0, 0.3));\n",
              "      fill: #FFFFFF;\n",
              "    }\n",
              "  </style>\n",
              "\n",
              "      <script>\n",
              "        const buttonEl =\n",
              "          document.querySelector('#df-5a3616b5-8b7a-447b-a8b1-bb989fad2f74 button.colab-df-convert');\n",
              "        buttonEl.style.display =\n",
              "          google.colab.kernel.accessAllowed ? 'block' : 'none';\n",
              "\n",
              "        async function convertToInteractive(key) {\n",
              "          const element = document.querySelector('#df-5a3616b5-8b7a-447b-a8b1-bb989fad2f74');\n",
              "          const dataTable =\n",
              "            await google.colab.kernel.invokeFunction('convertToInteractive',\n",
              "                                                     [key], {});\n",
              "          if (!dataTable) return;\n",
              "\n",
              "          const docLinkHtml = 'Like what you see? Visit the ' +\n",
              "            '<a target=\"_blank\" href=https://colab.research.google.com/notebooks/data_table.ipynb>data table notebook</a>'\n",
              "            + ' to learn more about interactive tables.';\n",
              "          element.innerHTML = '';\n",
              "          dataTable['output_type'] = 'display_data';\n",
              "          await google.colab.output.renderOutput(dataTable, element);\n",
              "          const docLink = document.createElement('div');\n",
              "          docLink.innerHTML = docLinkHtml;\n",
              "          element.appendChild(docLink);\n",
              "        }\n",
              "      </script>\n",
              "    </div>\n",
              "  </div>\n",
              "  "
            ]
          },
          "metadata": {},
          "execution_count": 20
        }
      ]
    },
    {
      "cell_type": "markdown",
      "source": [
        "LA LINEA DE ARRIBA EMPLEA SLICING, OSEA NOS DEVUELVE LA INFORMACION QUE SE ENCUENTRA EN LAS HILERAS DE FORMA CONTINUA DEL 1 AL 3(NO INCLUYE 3) Y LAS COLUMNAS DE LA LISTA."
      ],
      "metadata": {
        "id": "INp9Nn-6yK1k"
      }
    },
    {
      "cell_type": "code",
      "source": [
        "df2.iloc[1:3, 4] # SLICING DE LAS HILERAS SOBRE UNA COLUMNA SOLAMENTE"
      ],
      "metadata": {
        "colab": {
          "base_uri": "https://localhost:8080/"
        },
        "id": "YkZk1FD1zvTO",
        "outputId": "a1524c76-cd76-40a1-8166-cb2ed258078e"
      },
      "execution_count": 21,
      "outputs": [
        {
          "output_type": "execute_result",
          "data": {
            "text/plain": [
              "NOMBRE\n",
              "OMAR      24\n",
              "MIRIAM    25\n",
              "Name: EDAD, dtype: int64"
            ]
          },
          "metadata": {},
          "execution_count": 21
        }
      ]
    },
    {
      "cell_type": "code",
      "source": [
        "df2.iloc[:, 0] # SLICING EN TODAS LAS HILERAS SOBRE LA COLUMNA 0"
      ],
      "metadata": {
        "colab": {
          "base_uri": "https://localhost:8080/"
        },
        "id": "0KakpUfq0U5-",
        "outputId": "164d63f4-7bc7-4288-84f6-a07220c0797e"
      },
      "execution_count": 22,
      "outputs": [
        {
          "output_type": "execute_result",
          "data": {
            "text/plain": [
              "NOMBRE\n",
              "JORGE     CASTILLO\n",
              "OMAR        GAMBOA\n",
              "MIRIAM     JIMENES\n",
              "JAYA         RIERA\n",
              "JANA        GAMBOA\n",
              "Name: APELLIDO, dtype: object"
            ]
          },
          "metadata": {},
          "execution_count": 22
        }
      ]
    },
    {
      "cell_type": "markdown",
      "source": [
        "PODEMOS USAR EL SLICING PARA PASAR SOBRE TODASLAS HILERAS  DE LA TABLA SOBRE UNA SOLA COLUMNA (PONIENDO SOLO : EN LAS HILERAS)"
      ],
      "metadata": {
        "id": "TGMuCsr10yfb"
      }
    },
    {
      "cell_type": "markdown",
      "source": [
        "# **COMO CREAR UN DATA FRAME DE UN DICCIONARIO**"
      ],
      "metadata": {
        "id": "2cAxvN3G34ya"
      }
    },
    {
      "cell_type": "markdown",
      "source": [
        "ES MUY UTIL HACER UN DATA FRAME CON LOS DATOS QUE SE CREEAN DURANTE LA EJECUCION DE UN PROGRAMA, PERO MUCHAS VECES ES MUCHO MAS EFICIENTE POR MOTIVOS DE TIEMPO DE EJECUCION USAR UN DICTIONARY(DE PYTHON) EN VEZ DE QUE CADA VEZ AGREGUEMOS AL DATAFRAME registro por registro"
      ],
      "metadata": {
        "id": "9n5GQhWr4fYZ"
      }
    },
    {
      "cell_type": "code",
      "source": [
        "import pandas as pd\n",
        "data = {'Age': [35, 24, 21, 10], 'Name': ['Dana', 'Bina', 'Chana', 'Leah']}\n",
        "df3 = pd.DataFrame.from_dict(data) # CREATING DATA FRAME\n",
        "df3"
      ],
      "metadata": {
        "colab": {
          "base_uri": "https://localhost:8080/",
          "height": 175
        },
        "id": "y90_U_gM4BDi",
        "outputId": "78c90212-4b96-40e6-aa9b-59bfd5eaa33e"
      },
      "execution_count": 23,
      "outputs": [
        {
          "output_type": "execute_result",
          "data": {
            "text/plain": [
              "   Age   Name\n",
              "0   35   Dana\n",
              "1   24   Bina\n",
              "2   21  Chana\n",
              "3   10   Leah"
            ],
            "text/html": [
              "\n",
              "  <div id=\"df-c05c4551-5d46-425b-8541-8e911ce73a5f\">\n",
              "    <div class=\"colab-df-container\">\n",
              "      <div>\n",
              "<style scoped>\n",
              "    .dataframe tbody tr th:only-of-type {\n",
              "        vertical-align: middle;\n",
              "    }\n",
              "\n",
              "    .dataframe tbody tr th {\n",
              "        vertical-align: top;\n",
              "    }\n",
              "\n",
              "    .dataframe thead th {\n",
              "        text-align: right;\n",
              "    }\n",
              "</style>\n",
              "<table border=\"1\" class=\"dataframe\">\n",
              "  <thead>\n",
              "    <tr style=\"text-align: right;\">\n",
              "      <th></th>\n",
              "      <th>Age</th>\n",
              "      <th>Name</th>\n",
              "    </tr>\n",
              "  </thead>\n",
              "  <tbody>\n",
              "    <tr>\n",
              "      <th>0</th>\n",
              "      <td>35</td>\n",
              "      <td>Dana</td>\n",
              "    </tr>\n",
              "    <tr>\n",
              "      <th>1</th>\n",
              "      <td>24</td>\n",
              "      <td>Bina</td>\n",
              "    </tr>\n",
              "    <tr>\n",
              "      <th>2</th>\n",
              "      <td>21</td>\n",
              "      <td>Chana</td>\n",
              "    </tr>\n",
              "    <tr>\n",
              "      <th>3</th>\n",
              "      <td>10</td>\n",
              "      <td>Leah</td>\n",
              "    </tr>\n",
              "  </tbody>\n",
              "</table>\n",
              "</div>\n",
              "      <button class=\"colab-df-convert\" onclick=\"convertToInteractive('df-c05c4551-5d46-425b-8541-8e911ce73a5f')\"\n",
              "              title=\"Convert this dataframe to an interactive table.\"\n",
              "              style=\"display:none;\">\n",
              "        \n",
              "  <svg xmlns=\"http://www.w3.org/2000/svg\" height=\"24px\"viewBox=\"0 0 24 24\"\n",
              "       width=\"24px\">\n",
              "    <path d=\"M0 0h24v24H0V0z\" fill=\"none\"/>\n",
              "    <path d=\"M18.56 5.44l.94 2.06.94-2.06 2.06-.94-2.06-.94-.94-2.06-.94 2.06-2.06.94zm-11 1L8.5 8.5l.94-2.06 2.06-.94-2.06-.94L8.5 2.5l-.94 2.06-2.06.94zm10 10l.94 2.06.94-2.06 2.06-.94-2.06-.94-.94-2.06-.94 2.06-2.06.94z\"/><path d=\"M17.41 7.96l-1.37-1.37c-.4-.4-.92-.59-1.43-.59-.52 0-1.04.2-1.43.59L10.3 9.45l-7.72 7.72c-.78.78-.78 2.05 0 2.83L4 21.41c.39.39.9.59 1.41.59.51 0 1.02-.2 1.41-.59l7.78-7.78 2.81-2.81c.8-.78.8-2.07 0-2.86zM5.41 20L4 18.59l7.72-7.72 1.47 1.35L5.41 20z\"/>\n",
              "  </svg>\n",
              "      </button>\n",
              "      \n",
              "  <style>\n",
              "    .colab-df-container {\n",
              "      display:flex;\n",
              "      flex-wrap:wrap;\n",
              "      gap: 12px;\n",
              "    }\n",
              "\n",
              "    .colab-df-convert {\n",
              "      background-color: #E8F0FE;\n",
              "      border: none;\n",
              "      border-radius: 50%;\n",
              "      cursor: pointer;\n",
              "      display: none;\n",
              "      fill: #1967D2;\n",
              "      height: 32px;\n",
              "      padding: 0 0 0 0;\n",
              "      width: 32px;\n",
              "    }\n",
              "\n",
              "    .colab-df-convert:hover {\n",
              "      background-color: #E2EBFA;\n",
              "      box-shadow: 0px 1px 2px rgba(60, 64, 67, 0.3), 0px 1px 3px 1px rgba(60, 64, 67, 0.15);\n",
              "      fill: #174EA6;\n",
              "    }\n",
              "\n",
              "    [theme=dark] .colab-df-convert {\n",
              "      background-color: #3B4455;\n",
              "      fill: #D2E3FC;\n",
              "    }\n",
              "\n",
              "    [theme=dark] .colab-df-convert:hover {\n",
              "      background-color: #434B5C;\n",
              "      box-shadow: 0px 1px 3px 1px rgba(0, 0, 0, 0.15);\n",
              "      filter: drop-shadow(0px 1px 2px rgba(0, 0, 0, 0.3));\n",
              "      fill: #FFFFFF;\n",
              "    }\n",
              "  </style>\n",
              "\n",
              "      <script>\n",
              "        const buttonEl =\n",
              "          document.querySelector('#df-c05c4551-5d46-425b-8541-8e911ce73a5f button.colab-df-convert');\n",
              "        buttonEl.style.display =\n",
              "          google.colab.kernel.accessAllowed ? 'block' : 'none';\n",
              "\n",
              "        async function convertToInteractive(key) {\n",
              "          const element = document.querySelector('#df-c05c4551-5d46-425b-8541-8e911ce73a5f');\n",
              "          const dataTable =\n",
              "            await google.colab.kernel.invokeFunction('convertToInteractive',\n",
              "                                                     [key], {});\n",
              "          if (!dataTable) return;\n",
              "\n",
              "          const docLinkHtml = 'Like what you see? Visit the ' +\n",
              "            '<a target=\"_blank\" href=https://colab.research.google.com/notebooks/data_table.ipynb>data table notebook</a>'\n",
              "            + ' to learn more about interactive tables.';\n",
              "          element.innerHTML = '';\n",
              "          dataTable['output_type'] = 'display_data';\n",
              "          await google.colab.output.renderOutput(dataTable, element);\n",
              "          const docLink = document.createElement('div');\n",
              "          docLink.innerHTML = docLinkHtml;\n",
              "          element.appendChild(docLink);\n",
              "        }\n",
              "      </script>\n",
              "    </div>\n",
              "  </div>\n",
              "  "
            ]
          },
          "metadata": {},
          "execution_count": 23
        }
      ]
    },
    {
      "cell_type": "markdown",
      "source": [
        "EN LA VARIABLE data TENEMOS UN DICCIONARIO CON 2 KEYS \"Age, Name\" y sus values de tipo list. LAS keys SON LAS COLUMNAS DEL DATA FRAME Y LOS values SON LA DATA DE LA TABLA."
      ],
      "metadata": {
        "id": "9wANmZqE_5aA"
      }
    },
    {
      "cell_type": "code",
      "source": [
        "data = {'Age': [35, 24, 21, 10], 'Name': ['Dana', 'Bina', 'Chana', 'Leah']}\n",
        "df4 = pd.DataFrame.from_dict(data)\n",
        "df4"
      ],
      "metadata": {
        "colab": {
          "base_uri": "https://localhost:8080/",
          "height": 175
        },
        "id": "LCh-DAiLBIzt",
        "outputId": "321e4841-a38d-428e-9388-bc8fa76b875b"
      },
      "execution_count": 25,
      "outputs": [
        {
          "output_type": "execute_result",
          "data": {
            "text/plain": [
              "   Age   Name\n",
              "0   35   Dana\n",
              "1   24   Bina\n",
              "2   21  Chana\n",
              "3   10   Leah"
            ],
            "text/html": [
              "\n",
              "  <div id=\"df-5853c3af-e6fc-48fa-b847-6e47865d11c4\">\n",
              "    <div class=\"colab-df-container\">\n",
              "      <div>\n",
              "<style scoped>\n",
              "    .dataframe tbody tr th:only-of-type {\n",
              "        vertical-align: middle;\n",
              "    }\n",
              "\n",
              "    .dataframe tbody tr th {\n",
              "        vertical-align: top;\n",
              "    }\n",
              "\n",
              "    .dataframe thead th {\n",
              "        text-align: right;\n",
              "    }\n",
              "</style>\n",
              "<table border=\"1\" class=\"dataframe\">\n",
              "  <thead>\n",
              "    <tr style=\"text-align: right;\">\n",
              "      <th></th>\n",
              "      <th>Age</th>\n",
              "      <th>Name</th>\n",
              "    </tr>\n",
              "  </thead>\n",
              "  <tbody>\n",
              "    <tr>\n",
              "      <th>0</th>\n",
              "      <td>35</td>\n",
              "      <td>Dana</td>\n",
              "    </tr>\n",
              "    <tr>\n",
              "      <th>1</th>\n",
              "      <td>24</td>\n",
              "      <td>Bina</td>\n",
              "    </tr>\n",
              "    <tr>\n",
              "      <th>2</th>\n",
              "      <td>21</td>\n",
              "      <td>Chana</td>\n",
              "    </tr>\n",
              "    <tr>\n",
              "      <th>3</th>\n",
              "      <td>10</td>\n",
              "      <td>Leah</td>\n",
              "    </tr>\n",
              "  </tbody>\n",
              "</table>\n",
              "</div>\n",
              "      <button class=\"colab-df-convert\" onclick=\"convertToInteractive('df-5853c3af-e6fc-48fa-b847-6e47865d11c4')\"\n",
              "              title=\"Convert this dataframe to an interactive table.\"\n",
              "              style=\"display:none;\">\n",
              "        \n",
              "  <svg xmlns=\"http://www.w3.org/2000/svg\" height=\"24px\"viewBox=\"0 0 24 24\"\n",
              "       width=\"24px\">\n",
              "    <path d=\"M0 0h24v24H0V0z\" fill=\"none\"/>\n",
              "    <path d=\"M18.56 5.44l.94 2.06.94-2.06 2.06-.94-2.06-.94-.94-2.06-.94 2.06-2.06.94zm-11 1L8.5 8.5l.94-2.06 2.06-.94-2.06-.94L8.5 2.5l-.94 2.06-2.06.94zm10 10l.94 2.06.94-2.06 2.06-.94-2.06-.94-.94-2.06-.94 2.06-2.06.94z\"/><path d=\"M17.41 7.96l-1.37-1.37c-.4-.4-.92-.59-1.43-.59-.52 0-1.04.2-1.43.59L10.3 9.45l-7.72 7.72c-.78.78-.78 2.05 0 2.83L4 21.41c.39.39.9.59 1.41.59.51 0 1.02-.2 1.41-.59l7.78-7.78 2.81-2.81c.8-.78.8-2.07 0-2.86zM5.41 20L4 18.59l7.72-7.72 1.47 1.35L5.41 20z\"/>\n",
              "  </svg>\n",
              "      </button>\n",
              "      \n",
              "  <style>\n",
              "    .colab-df-container {\n",
              "      display:flex;\n",
              "      flex-wrap:wrap;\n",
              "      gap: 12px;\n",
              "    }\n",
              "\n",
              "    .colab-df-convert {\n",
              "      background-color: #E8F0FE;\n",
              "      border: none;\n",
              "      border-radius: 50%;\n",
              "      cursor: pointer;\n",
              "      display: none;\n",
              "      fill: #1967D2;\n",
              "      height: 32px;\n",
              "      padding: 0 0 0 0;\n",
              "      width: 32px;\n",
              "    }\n",
              "\n",
              "    .colab-df-convert:hover {\n",
              "      background-color: #E2EBFA;\n",
              "      box-shadow: 0px 1px 2px rgba(60, 64, 67, 0.3), 0px 1px 3px 1px rgba(60, 64, 67, 0.15);\n",
              "      fill: #174EA6;\n",
              "    }\n",
              "\n",
              "    [theme=dark] .colab-df-convert {\n",
              "      background-color: #3B4455;\n",
              "      fill: #D2E3FC;\n",
              "    }\n",
              "\n",
              "    [theme=dark] .colab-df-convert:hover {\n",
              "      background-color: #434B5C;\n",
              "      box-shadow: 0px 1px 3px 1px rgba(0, 0, 0, 0.15);\n",
              "      filter: drop-shadow(0px 1px 2px rgba(0, 0, 0, 0.3));\n",
              "      fill: #FFFFFF;\n",
              "    }\n",
              "  </style>\n",
              "\n",
              "      <script>\n",
              "        const buttonEl =\n",
              "          document.querySelector('#df-5853c3af-e6fc-48fa-b847-6e47865d11c4 button.colab-df-convert');\n",
              "        buttonEl.style.display =\n",
              "          google.colab.kernel.accessAllowed ? 'block' : 'none';\n",
              "\n",
              "        async function convertToInteractive(key) {\n",
              "          const element = document.querySelector('#df-5853c3af-e6fc-48fa-b847-6e47865d11c4');\n",
              "          const dataTable =\n",
              "            await google.colab.kernel.invokeFunction('convertToInteractive',\n",
              "                                                     [key], {});\n",
              "          if (!dataTable) return;\n",
              "\n",
              "          const docLinkHtml = 'Like what you see? Visit the ' +\n",
              "            '<a target=\"_blank\" href=https://colab.research.google.com/notebooks/data_table.ipynb>data table notebook</a>'\n",
              "            + ' to learn more about interactive tables.';\n",
              "          element.innerHTML = '';\n",
              "          dataTable['output_type'] = 'display_data';\n",
              "          await google.colab.output.renderOutput(dataTable, element);\n",
              "          const docLink = document.createElement('div');\n",
              "          docLink.innerHTML = docLinkHtml;\n",
              "          element.appendChild(docLink);\n",
              "        }\n",
              "      </script>\n",
              "    </div>\n",
              "  </div>\n",
              "  "
            ]
          },
          "metadata": {},
          "execution_count": 25
        }
      ]
    },
    {
      "cell_type": "markdown",
      "source": [
        "LA VARIABLE data CONTIENE EL DICCIONARIO DESTINADO A SER EL DATA FRAME, DESPUES df4 CONTIENE EL DATAFRAME QUE SE CREO DEL DICCIONARIO ATRAVEZ DE LA FUNCION DE LA LIBRERIA DE PANDAS \"pd.DataFrame.from_dict(data)\""
      ],
      "metadata": {
        "id": "USPVoEJpBK0W"
      }
    },
    {
      "cell_type": "markdown",
      "source": [
        "**COMO CAMBIAR LOS INDICES NUMERICOS DEFOULTIVOS POR OTRO TIPO DE INDICE SOMO STRINGS?**"
      ],
      "metadata": {
        "id": "z4oQW2J1CLe3"
      }
    },
    {
      "cell_type": "code",
      "source": [
        "df4 = df4.set_index('Name')\n",
        "df4"
      ],
      "metadata": {
        "colab": {
          "base_uri": "https://localhost:8080/",
          "height": 206
        },
        "id": "IEiDqionClZW",
        "outputId": "d95bb9ce-931e-4f6b-ea9b-2f8a925b646a"
      },
      "execution_count": 26,
      "outputs": [
        {
          "output_type": "execute_result",
          "data": {
            "text/plain": [
              "       Age\n",
              "Name      \n",
              "Dana    35\n",
              "Bina    24\n",
              "Chana   21\n",
              "Leah    10"
            ],
            "text/html": [
              "\n",
              "  <div id=\"df-394312d3-6907-4405-bb68-e5e7af0e4791\">\n",
              "    <div class=\"colab-df-container\">\n",
              "      <div>\n",
              "<style scoped>\n",
              "    .dataframe tbody tr th:only-of-type {\n",
              "        vertical-align: middle;\n",
              "    }\n",
              "\n",
              "    .dataframe tbody tr th {\n",
              "        vertical-align: top;\n",
              "    }\n",
              "\n",
              "    .dataframe thead th {\n",
              "        text-align: right;\n",
              "    }\n",
              "</style>\n",
              "<table border=\"1\" class=\"dataframe\">\n",
              "  <thead>\n",
              "    <tr style=\"text-align: right;\">\n",
              "      <th></th>\n",
              "      <th>Age</th>\n",
              "    </tr>\n",
              "    <tr>\n",
              "      <th>Name</th>\n",
              "      <th></th>\n",
              "    </tr>\n",
              "  </thead>\n",
              "  <tbody>\n",
              "    <tr>\n",
              "      <th>Dana</th>\n",
              "      <td>35</td>\n",
              "    </tr>\n",
              "    <tr>\n",
              "      <th>Bina</th>\n",
              "      <td>24</td>\n",
              "    </tr>\n",
              "    <tr>\n",
              "      <th>Chana</th>\n",
              "      <td>21</td>\n",
              "    </tr>\n",
              "    <tr>\n",
              "      <th>Leah</th>\n",
              "      <td>10</td>\n",
              "    </tr>\n",
              "  </tbody>\n",
              "</table>\n",
              "</div>\n",
              "      <button class=\"colab-df-convert\" onclick=\"convertToInteractive('df-394312d3-6907-4405-bb68-e5e7af0e4791')\"\n",
              "              title=\"Convert this dataframe to an interactive table.\"\n",
              "              style=\"display:none;\">\n",
              "        \n",
              "  <svg xmlns=\"http://www.w3.org/2000/svg\" height=\"24px\"viewBox=\"0 0 24 24\"\n",
              "       width=\"24px\">\n",
              "    <path d=\"M0 0h24v24H0V0z\" fill=\"none\"/>\n",
              "    <path d=\"M18.56 5.44l.94 2.06.94-2.06 2.06-.94-2.06-.94-.94-2.06-.94 2.06-2.06.94zm-11 1L8.5 8.5l.94-2.06 2.06-.94-2.06-.94L8.5 2.5l-.94 2.06-2.06.94zm10 10l.94 2.06.94-2.06 2.06-.94-2.06-.94-.94-2.06-.94 2.06-2.06.94z\"/><path d=\"M17.41 7.96l-1.37-1.37c-.4-.4-.92-.59-1.43-.59-.52 0-1.04.2-1.43.59L10.3 9.45l-7.72 7.72c-.78.78-.78 2.05 0 2.83L4 21.41c.39.39.9.59 1.41.59.51 0 1.02-.2 1.41-.59l7.78-7.78 2.81-2.81c.8-.78.8-2.07 0-2.86zM5.41 20L4 18.59l7.72-7.72 1.47 1.35L5.41 20z\"/>\n",
              "  </svg>\n",
              "      </button>\n",
              "      \n",
              "  <style>\n",
              "    .colab-df-container {\n",
              "      display:flex;\n",
              "      flex-wrap:wrap;\n",
              "      gap: 12px;\n",
              "    }\n",
              "\n",
              "    .colab-df-convert {\n",
              "      background-color: #E8F0FE;\n",
              "      border: none;\n",
              "      border-radius: 50%;\n",
              "      cursor: pointer;\n",
              "      display: none;\n",
              "      fill: #1967D2;\n",
              "      height: 32px;\n",
              "      padding: 0 0 0 0;\n",
              "      width: 32px;\n",
              "    }\n",
              "\n",
              "    .colab-df-convert:hover {\n",
              "      background-color: #E2EBFA;\n",
              "      box-shadow: 0px 1px 2px rgba(60, 64, 67, 0.3), 0px 1px 3px 1px rgba(60, 64, 67, 0.15);\n",
              "      fill: #174EA6;\n",
              "    }\n",
              "\n",
              "    [theme=dark] .colab-df-convert {\n",
              "      background-color: #3B4455;\n",
              "      fill: #D2E3FC;\n",
              "    }\n",
              "\n",
              "    [theme=dark] .colab-df-convert:hover {\n",
              "      background-color: #434B5C;\n",
              "      box-shadow: 0px 1px 3px 1px rgba(0, 0, 0, 0.15);\n",
              "      filter: drop-shadow(0px 1px 2px rgba(0, 0, 0, 0.3));\n",
              "      fill: #FFFFFF;\n",
              "    }\n",
              "  </style>\n",
              "\n",
              "      <script>\n",
              "        const buttonEl =\n",
              "          document.querySelector('#df-394312d3-6907-4405-bb68-e5e7af0e4791 button.colab-df-convert');\n",
              "        buttonEl.style.display =\n",
              "          google.colab.kernel.accessAllowed ? 'block' : 'none';\n",
              "\n",
              "        async function convertToInteractive(key) {\n",
              "          const element = document.querySelector('#df-394312d3-6907-4405-bb68-e5e7af0e4791');\n",
              "          const dataTable =\n",
              "            await google.colab.kernel.invokeFunction('convertToInteractive',\n",
              "                                                     [key], {});\n",
              "          if (!dataTable) return;\n",
              "\n",
              "          const docLinkHtml = 'Like what you see? Visit the ' +\n",
              "            '<a target=\"_blank\" href=https://colab.research.google.com/notebooks/data_table.ipynb>data table notebook</a>'\n",
              "            + ' to learn more about interactive tables.';\n",
              "          element.innerHTML = '';\n",
              "          dataTable['output_type'] = 'display_data';\n",
              "          await google.colab.output.renderOutput(dataTable, element);\n",
              "          const docLink = document.createElement('div');\n",
              "          docLink.innerHTML = docLinkHtml;\n",
              "          element.appendChild(docLink);\n",
              "        }\n",
              "      </script>\n",
              "    </div>\n",
              "  </div>\n",
              "  "
            ]
          },
          "metadata": {},
          "execution_count": 26
        }
      ]
    },
    {
      "cell_type": "markdown",
      "source": [
        "PARA CAMBIAR LOS INDICES DEFAULTIVOS DE UN DATAFRAME OBTENIDO DE UN DICCIONARIO UTILIZAMOS LA FUNCION: \n",
        "\n",
        "nombre_tabla = nombre_tabla.set_index('key_diccionary'), CUANDO EL PARAMETRO key_diccionary TIENE QUE SER UN KEY DEL DICCIONARIO.\n",
        "ENTONCES LA VARIABLE nombre_tabla TIENE LA NUEVA DATAFRAME (TABLA) CON LOS NUEVOS INDICES\n"
      ],
      "metadata": {
        "id": "zdBFjLWNC5Ex"
      }
    },
    {
      "cell_type": "markdown",
      "source": [
        "DESPUES SE PUEDEN APLICAR LAS FUNCIONS DE UN DATAFRAME CONVENCIONAL ALA NUEVA DATAFRAME OBTENIDA DEL DICCIONARIO COMO:"
      ],
      "metadata": {
        "id": "YWWOc3oOEcb-"
      }
    },
    {
      "cell_type": "code",
      "source": [
        "df4.loc['Dana']"
      ],
      "metadata": {
        "colab": {
          "base_uri": "https://localhost:8080/"
        },
        "id": "mrbWNIJBEzKX",
        "outputId": "95c89b9a-ea38-4525-a708-2fe44f1855a2"
      },
      "execution_count": 27,
      "outputs": [
        {
          "output_type": "execute_result",
          "data": {
            "text/plain": [
              "Age    35\n",
              "Name: Dana, dtype: int64"
            ]
          },
          "metadata": {},
          "execution_count": 27
        }
      ]
    },
    {
      "cell_type": "code",
      "source": [
        "print(df4.iloc[0])"
      ],
      "metadata": {
        "colab": {
          "base_uri": "https://localhost:8080/"
        },
        "id": "HFX-mcc2FUX1",
        "outputId": "1cf8c9f0-504b-4bb1-94a3-92097edab7e4"
      },
      "execution_count": 28,
      "outputs": [
        {
          "output_type": "stream",
          "name": "stdout",
          "text": [
            "Age    35\n",
            "Name: Dana, dtype: int64\n"
          ]
        }
      ]
    },
    {
      "cell_type": "markdown",
      "source": [
        "**COMO CREAR UNA NUEVA HILERA DE ESTA NUEVA TABLA**"
      ],
      "metadata": {
        "id": "rYmlVHqJFeLF"
      }
    },
    {
      "cell_type": "markdown",
      "source": [
        "\n",
        "\n",
        "*  PRIMER MODO:\n",
        "\n"
      ],
      "metadata": {
        "id": "sZWiWissGZ6t"
      }
    },
    {
      "cell_type": "code",
      "source": [
        "df4.loc['Yael'] = 7\n",
        "df4"
      ],
      "metadata": {
        "id": "nlcDe3mAFvt0"
      },
      "execution_count": null,
      "outputs": []
    },
    {
      "cell_type": "markdown",
      "source": [
        "\n",
        "\n",
        "*   SEGUNDO MODO: HACEMOS OTRA NUEVA TABLA PARA EJEMPLIFICAR MEJOR\n",
        "\n"
      ],
      "metadata": {
        "id": "LEGetuplG1qF"
      }
    },
    {
      "cell_type": "code",
      "source": [
        "data = {'Age': [35, 24, 21, 10], 'Name': ['Dana', 'Bina', 'Chana', 'Leah']}\n",
        "df5 = pd.DataFrame.from_dict(data)\n",
        "print(df5)\n"
      ],
      "metadata": {
        "colab": {
          "base_uri": "https://localhost:8080/"
        },
        "id": "k15n-PikHEfS",
        "outputId": "fb32d7c7-7545-4239-f6ef-4c0051ce5997"
      },
      "execution_count": 30,
      "outputs": [
        {
          "output_type": "stream",
          "name": "stdout",
          "text": [
            "   Age   Name\n",
            "0   35   Dana\n",
            "1   24   Bina\n",
            "2   21  Chana\n",
            "3   10   Leah\n"
          ]
        }
      ]
    },
    {
      "cell_type": "code",
      "source": [
        "df5 = df5.append({'Name': 'Yael', 'Age': 7}, ignore_index=True)\n",
        "df5"
      ],
      "metadata": {
        "colab": {
          "base_uri": "https://localhost:8080/",
          "height": 206
        },
        "id": "_6Njox5fHpfk",
        "outputId": "c5cd42da-763e-4b62-e662-39b2fec843ad"
      },
      "execution_count": 31,
      "outputs": [
        {
          "output_type": "execute_result",
          "data": {
            "text/plain": [
              "   Age   Name\n",
              "0   35   Dana\n",
              "1   24   Bina\n",
              "2   21  Chana\n",
              "3   10   Leah\n",
              "4    7   Yael"
            ],
            "text/html": [
              "\n",
              "  <div id=\"df-e19c54f5-f1a3-4aa0-9dd9-0ac89a30a617\">\n",
              "    <div class=\"colab-df-container\">\n",
              "      <div>\n",
              "<style scoped>\n",
              "    .dataframe tbody tr th:only-of-type {\n",
              "        vertical-align: middle;\n",
              "    }\n",
              "\n",
              "    .dataframe tbody tr th {\n",
              "        vertical-align: top;\n",
              "    }\n",
              "\n",
              "    .dataframe thead th {\n",
              "        text-align: right;\n",
              "    }\n",
              "</style>\n",
              "<table border=\"1\" class=\"dataframe\">\n",
              "  <thead>\n",
              "    <tr style=\"text-align: right;\">\n",
              "      <th></th>\n",
              "      <th>Age</th>\n",
              "      <th>Name</th>\n",
              "    </tr>\n",
              "  </thead>\n",
              "  <tbody>\n",
              "    <tr>\n",
              "      <th>0</th>\n",
              "      <td>35</td>\n",
              "      <td>Dana</td>\n",
              "    </tr>\n",
              "    <tr>\n",
              "      <th>1</th>\n",
              "      <td>24</td>\n",
              "      <td>Bina</td>\n",
              "    </tr>\n",
              "    <tr>\n",
              "      <th>2</th>\n",
              "      <td>21</td>\n",
              "      <td>Chana</td>\n",
              "    </tr>\n",
              "    <tr>\n",
              "      <th>3</th>\n",
              "      <td>10</td>\n",
              "      <td>Leah</td>\n",
              "    </tr>\n",
              "    <tr>\n",
              "      <th>4</th>\n",
              "      <td>7</td>\n",
              "      <td>Yael</td>\n",
              "    </tr>\n",
              "  </tbody>\n",
              "</table>\n",
              "</div>\n",
              "      <button class=\"colab-df-convert\" onclick=\"convertToInteractive('df-e19c54f5-f1a3-4aa0-9dd9-0ac89a30a617')\"\n",
              "              title=\"Convert this dataframe to an interactive table.\"\n",
              "              style=\"display:none;\">\n",
              "        \n",
              "  <svg xmlns=\"http://www.w3.org/2000/svg\" height=\"24px\"viewBox=\"0 0 24 24\"\n",
              "       width=\"24px\">\n",
              "    <path d=\"M0 0h24v24H0V0z\" fill=\"none\"/>\n",
              "    <path d=\"M18.56 5.44l.94 2.06.94-2.06 2.06-.94-2.06-.94-.94-2.06-.94 2.06-2.06.94zm-11 1L8.5 8.5l.94-2.06 2.06-.94-2.06-.94L8.5 2.5l-.94 2.06-2.06.94zm10 10l.94 2.06.94-2.06 2.06-.94-2.06-.94-.94-2.06-.94 2.06-2.06.94z\"/><path d=\"M17.41 7.96l-1.37-1.37c-.4-.4-.92-.59-1.43-.59-.52 0-1.04.2-1.43.59L10.3 9.45l-7.72 7.72c-.78.78-.78 2.05 0 2.83L4 21.41c.39.39.9.59 1.41.59.51 0 1.02-.2 1.41-.59l7.78-7.78 2.81-2.81c.8-.78.8-2.07 0-2.86zM5.41 20L4 18.59l7.72-7.72 1.47 1.35L5.41 20z\"/>\n",
              "  </svg>\n",
              "      </button>\n",
              "      \n",
              "  <style>\n",
              "    .colab-df-container {\n",
              "      display:flex;\n",
              "      flex-wrap:wrap;\n",
              "      gap: 12px;\n",
              "    }\n",
              "\n",
              "    .colab-df-convert {\n",
              "      background-color: #E8F0FE;\n",
              "      border: none;\n",
              "      border-radius: 50%;\n",
              "      cursor: pointer;\n",
              "      display: none;\n",
              "      fill: #1967D2;\n",
              "      height: 32px;\n",
              "      padding: 0 0 0 0;\n",
              "      width: 32px;\n",
              "    }\n",
              "\n",
              "    .colab-df-convert:hover {\n",
              "      background-color: #E2EBFA;\n",
              "      box-shadow: 0px 1px 2px rgba(60, 64, 67, 0.3), 0px 1px 3px 1px rgba(60, 64, 67, 0.15);\n",
              "      fill: #174EA6;\n",
              "    }\n",
              "\n",
              "    [theme=dark] .colab-df-convert {\n",
              "      background-color: #3B4455;\n",
              "      fill: #D2E3FC;\n",
              "    }\n",
              "\n",
              "    [theme=dark] .colab-df-convert:hover {\n",
              "      background-color: #434B5C;\n",
              "      box-shadow: 0px 1px 3px 1px rgba(0, 0, 0, 0.15);\n",
              "      filter: drop-shadow(0px 1px 2px rgba(0, 0, 0, 0.3));\n",
              "      fill: #FFFFFF;\n",
              "    }\n",
              "  </style>\n",
              "\n",
              "      <script>\n",
              "        const buttonEl =\n",
              "          document.querySelector('#df-e19c54f5-f1a3-4aa0-9dd9-0ac89a30a617 button.colab-df-convert');\n",
              "        buttonEl.style.display =\n",
              "          google.colab.kernel.accessAllowed ? 'block' : 'none';\n",
              "\n",
              "        async function convertToInteractive(key) {\n",
              "          const element = document.querySelector('#df-e19c54f5-f1a3-4aa0-9dd9-0ac89a30a617');\n",
              "          const dataTable =\n",
              "            await google.colab.kernel.invokeFunction('convertToInteractive',\n",
              "                                                     [key], {});\n",
              "          if (!dataTable) return;\n",
              "\n",
              "          const docLinkHtml = 'Like what you see? Visit the ' +\n",
              "            '<a target=\"_blank\" href=https://colab.research.google.com/notebooks/data_table.ipynb>data table notebook</a>'\n",
              "            + ' to learn more about interactive tables.';\n",
              "          element.innerHTML = '';\n",
              "          dataTable['output_type'] = 'display_data';\n",
              "          await google.colab.output.renderOutput(dataTable, element);\n",
              "          const docLink = document.createElement('div');\n",
              "          docLink.innerHTML = docLinkHtml;\n",
              "          element.appendChild(docLink);\n",
              "        }\n",
              "      </script>\n",
              "    </div>\n",
              "  </div>\n",
              "  "
            ]
          },
          "metadata": {},
          "execution_count": 31
        }
      ]
    },
    {
      "cell_type": "markdown",
      "source": [
        "\n",
        "\n",
        "1.   CREANOS UN DICCIONARIO CON LAS MISMAS KEYS DE LAS AMUDOT DE LA TABLA\n",
        "2.   LA ACTIVAMOS CON LA FUNCION APPEND() JUNTO CON SU PARAMETRO ignore_index=True \n",
        "3. SE CREA LA NUEVA HILERA\n"
      ],
      "metadata": {
        "id": "UvZ9Qal8Hqgj"
      }
    }
  ]
}