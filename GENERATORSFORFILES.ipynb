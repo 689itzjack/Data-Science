{
  "nbformat": 4,
  "nbformat_minor": 0,
  "metadata": {
    "colab": {
      "provenance": [],
      "authorship_tag": "ABX9TyMgysLZAVK2nmF8ML/vyocs",
      "include_colab_link": true
    },
    "kernelspec": {
      "name": "python3",
      "display_name": "Python 3"
    },
    "language_info": {
      "name": "python"
    }
  },
  "cells": [
    {
      "cell_type": "markdown",
      "metadata": {
        "id": "view-in-github",
        "colab_type": "text"
      },
      "source": [
        "<a href=\"https://colab.research.google.com/github/689itzjack/Data-Science/blob/main/GENERATORSFORFILES.ipynb\" target=\"_parent\"><img src=\"https://colab.research.google.com/assets/colab-badge.svg\" alt=\"Open In Colab\"/></a>"
      ]
    },
    {
      "cell_type": "code",
      "execution_count": 2,
      "metadata": {
        "colab": {
          "base_uri": "https://localhost:8080/"
        },
        "id": "8eH6X0gaq3Sm",
        "outputId": "75679d0d-9948-473d-d9c5-883d37adb7dc"
      },
      "outputs": [
        {
          "output_type": "stream",
          "name": "stdout",
          "text": [
            "Mounted at /content/gdrive\n"
          ]
        }
      ],
      "source": [
        "from google.colab import drive\n",
        "drive.mount('/content/gdrive')  #EN ESTA PARTE CARGAMOS NUESTRO DRIVE PARA MANIPULARLO"
      ]
    },
    {
      "cell_type": "markdown",
      "source": [
        "**TRABAJO CON ARCHIVOS**"
      ],
      "metadata": {
        "id": "JWbc0vr0ujn7"
      }
    },
    {
      "cell_type": "code",
      "source": [
        "# a function can return more than one value\n",
        "def foo():\n",
        "  return 1, 2, 3 #UNA FUNCION PUEDE REGRESAR MAS 1 ELEMENTO\n",
        "\n",
        "a, _, b = foo() # PODEMOS ESCOGER QUE ELEMNTOS NO QUEREMOS CON '_' AL DEFINIR LA VARIABLE DONDE SE VAN A GUARDAR EL RESULTADO.\n",
        "print(a, b)\n",
        "\n",
        "t = foo() #SI QUEREMOS TODO EL RESULTADO SE GUARDA EN UNA LISTA\n",
        "print(t[0])"
      ],
      "metadata": {
        "colab": {
          "base_uri": "https://localhost:8080/"
        },
        "id": "h6FffWI3ugkd",
        "outputId": "0cec7231-3bae-4744-b6ec-0e6d71c65e36"
      },
      "execution_count": 3,
      "outputs": [
        {
          "output_type": "stream",
          "name": "stdout",
          "text": [
            "1 3\n",
            "1\n"
          ]
        }
      ]
    },
    {
      "cell_type": "markdown",
      "source": [
        "**LEER ARCHIVOS**"
      ],
      "metadata": {
        "id": "rm592nfpv_3f"
      }
    },
    {
      "cell_type": "markdown",
      "source": [
        " LA SIGUIENTE FUNCION LEE TODO ESL CONTENIDO DE UN ARCHIVO:"
      ],
      "metadata": {
        "id": "5jm-2BsuyPcz"
      }
    },
    {
      "cell_type": "code",
      "source": [
        "def get_all_rows(file_name): # ESTA FUNCION LEE TODO ESL CONTENIDO DE UN ARCHIVO\n",
        "  \"\"\"\n",
        "  \" Reads all of the file's content\n",
        "  \"\"\"\n",
        "  with open(file_name, 'r') as file:\n",
        "        file_content = file.read() # string! Storing all of the file contents\n",
        "        print('file_content type: {}'.format(type(file_content)))\n",
        "        result = file_content.split('\\n')\n",
        "  return result"
      ],
      "metadata": {
        "id": "UgAeX7CkwNuh"
      },
      "execution_count": 4,
      "outputs": []
    },
    {
      "cell_type": "markdown",
      "source": [
        "LA FUNCION DE ARRIBA AL MOMENTO DE LEER EL ARCHIVO, BORRA CADA CHAR '/n' Y EL TEXTO LEIDO LO CONVIERTE EN LISTA, ASI QUE AL FINAL VAMOS A RECIBIR UNA LISTA DE LINEAS DEL ARCHIVO LEIDO."
      ],
      "metadata": {
        "id": "NkQfyQpX0KWz"
      }
    },
    {
      "cell_type": "markdown",
      "source": [
        "LA SIGUIENTE FUNCION ES UN GENERATOR QUE LEE CADA LINEA DEL CONTENIDO DE UN ARCHIVO OSEA LINEA POR LINEA:"
      ],
      "metadata": {
        "id": "Mh0zlWRvyUii"
      }
    },
    {
      "cell_type": "code",
      "source": [
        "def get_next_row(file_name): #esta funcion ES UN GENERATOR QUE NOS DA UNA LINEA DEL TEXTO DEL ARCHIVO CADA VEZ QUE SE HACE next()\n",
        "  \"\"\"\n",
        "  \" This is a generator method; it yields the next line with each call (and do not read the entire content to the memory)\n",
        "  \"\"\"\n",
        "  with open(file_name, 'r') as file:  # Open the file\n",
        "    for row in file:  # Each time read one line\n",
        "      yield row       # Return the current line. with the next call, the following line will be returned\n"
      ],
      "metadata": {
        "id": "7swcZdexy5ey"
      },
      "execution_count": 5,
      "outputs": []
    },
    {
      "cell_type": "markdown",
      "source": [
        "SI EL GENERATOR DE ARRIBA EN VEZ DE YIELD HUBIESEMOS PUESTO RETURN, ENTONCES HUBIESE RETORNADO LA PRIMERA LINEA DEL ARCHIVO Y YA, DESPUES SE BORRARIA EL STACK DE LA FUNCION Y NO SE LE PODRIA HACER NEXT(), SI VOLVIESEMOS A LLMAR A LA FUNCIONDE NUEVO NOS REGRESARIA SOLO LA PRIMERA LINEA DE NUEVO. CON YIELD LA MEMORIA DEL STACK PERMANECE Y LA FUNCIA RECORDARIA DONDE SE QUEDO LA ULTIMA VEZ QUE SE LE LLAMO Y SI LA VOLVEMOS A LLLMARA CON NEXT() NOS RETORNARIA EL SIGUIENTE VALOR DE DONDE SE QUEDO Y NO REGRESARIA AL PRINCIPIO COMO EN EL CAOSO ANTERIOR. "
      ],
      "metadata": {
        "id": "HZvlrTi_JETP"
      }
    },
    {
      "cell_type": "code",
      "source": [
        "import os #ES LA LIBRERIA DE TRABAJO CON ARCHIVOS\n",
        "\n",
        "file_path = '/content/gdrive/My Drive/Introduction to Data Science/TheLittlePrince.txt' # CONTECTA EL ARCHIVO DEL DRIVE\n",
        "assert(os.path.exists(file_path)) # LA FUNCION ASSERT REVISA QUE EL ARCHIVO EXISTA, SI NO EL PROGRAMA TERMINA\n",
        "\n",
        "file_content = get_all_rows(file_path)   # This loads all of the contents of the file!\n",
        "print(type(file_content))  # a list of all of the rows\n",
        "print('line 0: ', file_content[0])\n",
        "print('line 100: ', file_content[100]) # IMPRIME LA LIMEA NUMERO 100 DEL ARCHIVO\n",
        "print('line -2: ', file_content[-2]) # CON ESTE COMMANDO LEEMOS 2 LINEAS ANTES DEL FINAL DEL ARCHIVO\n",
        "print('line -1: ', file_content[-1]) ## CON ESTE COMMANDO LEEMOS 1 LINEA ANTES DEL FINAL DEL ARCHIVO\n",
        "print('$$$$')\n",
        "\n",
        "# Count the number of rows in get_all_rows\n",
        "num_rows = 0\n",
        "\n",
        "for row in file_content:\n",
        "    if num_rows < 10: # print the first 10 lines\n",
        "      print('[', row, ']')\n",
        "    num_rows += 1\n",
        "\n",
        "print('Numebr of rows: {}'.format(num_rows))\n",
        "assert(num_rows == len(file_content))\n"
      ],
      "metadata": {
        "colab": {
          "base_uri": "https://localhost:8080/"
        },
        "id": "LOlmHpPszL20",
        "outputId": "66f8b244-c01d-45c2-b57e-a5f42b0effd8"
      },
      "execution_count": 6,
      "outputs": [
        {
          "output_type": "stream",
          "name": "stdout",
          "text": [
            "file_content type: <class 'str'>\n",
            "<class 'list'>\n",
            "line 0:  THE LITTLE PRINCE \n",
            "line 100:  was that of the boa constrictor from the outside. And I was astounded to hear the little fellow \n",
            "line -2:  \n",
            "line -1:  \n",
            "$$$$\n",
            "[ THE LITTLE PRINCE  ]\n",
            "[  ]\n",
            "[ Antoine De Saint-Exupery, 03/03/2022 ]\n",
            "[  ]\n",
            "[ Antoine de Saint-Exupery, who was a French author, journalist and pilot wrote  ]\n",
            "[ The Little Prince in 1943, one year before his death.  ]\n",
            "[  ]\n",
            "[ The Little Prince appears to be a simple children’s tale,  ]\n",
            "[ some would say that it is actually a profound and and deeply moving tale,  ]\n",
            "[ written in riddles and laced with philosophy and poetic metaphor.  ]\n",
            "Numebr of rows: 194\n"
          ]
        }
      ]
    },
    {
      "cell_type": "markdown",
      "source": [
        "EN EL for  DE ARRIBA IMPRIMIMOS LAS 10 PRIMERAS LINEAS DEL ARCHIVO DESDE EL PRINCIPIO, CADA LINEA VA ENTRE [ ]"
      ],
      "metadata": {
        "id": "u-OWi-Tq6q08"
      }
    },
    {
      "cell_type": "markdown",
      "source": [
        "# **FILES USING GENERATOR**"
      ],
      "metadata": {
        "id": "76jROkagAhnw"
      }
    },
    {
      "cell_type": "code",
      "source": [
        "num_rows_gen = 0  # Count the number read by the generator\n",
        "file_gen = get_next_row(file_path)\n",
        "for row2 in file_gen: # the next line  # next(csv_gen)\n",
        "    #print('[', row2, ']')\n",
        "    num_rows_gen += 1\n",
        "\n",
        "print('Numebr of rows using the generator: {}'.format(num_rows_gen))"
      ],
      "metadata": {
        "colab": {
          "base_uri": "https://localhost:8080/"
        },
        "id": "CswEa9XSBH2x",
        "outputId": "51420979-0f11-4360-abe3-92dd67b2ce2d"
      },
      "execution_count": 7,
      "outputs": [
        {
          "output_type": "stream",
          "name": "stdout",
          "text": [
            "Numebr of rows using the generator: 193\n"
          ]
        }
      ]
    },
    {
      "cell_type": "markdown",
      "source": [
        "EN EL CODIGO DE ARRIBA ES DONDE LLAMAMOS AL GENERATOR, COMO YA SABEMOS PODEMOS LLAMAR AL GENERATOR POR MEDIO DE UN LOOP PORQUE COMO VIMOS ANTERIRORMENTE EL FOR AUTOMATICAMENTE EJECUTA LA FUNCION next() QUE LLAMA AL GENERATOR PARA ADQUIRIR EL ELEMENTO SIGUIENTE."
      ],
      "metadata": {
        "id": "YPRtOkMUm-L0"
      }
    },
    {
      "cell_type": "markdown",
      "source": [
        "**COMO LLAMAR AL GENERATOR DE FORMA INDIVIDUAL ???**"
      ],
      "metadata": {
        "id": "sOJtt_Dsqxgh"
      }
    },
    {
      "cell_type": "code",
      "source": [
        "file_gen = get_next_row(file_path) # GUARDAMOS EL RESULTADO QUE EL GENERATOR NOS DA EN UNA VARIABLE. AQUIE CREAMOS EL GENERATOR, ES COMO UN CONSTRUCTOR\n",
        "print(file_gen) # OBSERVAMOS QUE EL GENERATOR ES DE TIPO OBJECT\n",
        "next(file_gen) # AQUI ES DONDE ADQUIRIMOS EL ELEMENTO DEL GENERATOR, DESDE EL PRIMERO"
      ],
      "metadata": {
        "colab": {
          "base_uri": "https://localhost:8080/",
          "height": 52
        },
        "id": "wPJ07PCFsCRq",
        "outputId": "d97ad244-eb55-4871-c2c2-af9324ac5b07"
      },
      "execution_count": 8,
      "outputs": [
        {
          "output_type": "stream",
          "name": "stdout",
          "text": [
            "<generator object get_next_row at 0x7f9b7fd53120>\n"
          ]
        },
        {
          "output_type": "execute_result",
          "data": {
            "text/plain": [
              "'THE LITTLE PRINCE \\n'"
            ],
            "application/vnd.google.colaboratory.intrinsic+json": {
              "type": "string"
            }
          },
          "metadata": {},
          "execution_count": 8
        }
      ]
    },
    {
      "cell_type": "code",
      "source": [
        "next(file_gen) # CADA VEZ  QUE EJECUTAMOS LA FUNCION next() OBTENEMOS LA LINEA SIGUIENTE DEL TEXTO"
      ],
      "metadata": {
        "colab": {
          "base_uri": "https://localhost:8080/",
          "height": 35
        },
        "id": "i4POX3FGz0LV",
        "outputId": "a378d116-7992-4c91-a92c-cd7a5c21aec0"
      },
      "execution_count": 12,
      "outputs": [
        {
          "output_type": "execute_result",
          "data": {
            "text/plain": [
              "'Antoine de Saint-Exupery, who was a French author, journalist and pilot wrote \\n'"
            ],
            "application/vnd.google.colaboratory.intrinsic+json": {
              "type": "string"
            }
          },
          "metadata": {},
          "execution_count": 12
        }
      ]
    },
    {
      "cell_type": "markdown",
      "source": [
        "**INICIAR DESDE EL PRINCIPIO DEL ARCHIVO**\n",
        "\n",
        "PARA LEER DE NUEVO EL ARCHIVO DESDE EL PRINCIPIO LLAMAMOS AL GENERATOR DE NUEVO\n"
      ],
      "metadata": {
        "id": "SgrSdTjp9eFc"
      }
    },
    {
      "cell_type": "code",
      "source": [
        "file_gen = get_next_row(file_path)\n",
        "next(file_gen)"
      ],
      "metadata": {
        "colab": {
          "base_uri": "https://localhost:8080/",
          "height": 35
        },
        "id": "g0dQX8yEEYgu",
        "outputId": "d258e3a6-7505-425f-9825-9aa6ec6e2279"
      },
      "execution_count": 13,
      "outputs": [
        {
          "output_type": "execute_result",
          "data": {
            "text/plain": [
              "'THE LITTLE PRINCE \\n'"
            ],
            "application/vnd.google.colaboratory.intrinsic+json": {
              "type": "string"
            }
          },
          "metadata": {},
          "execution_count": 13
        }
      ]
    },
    {
      "cell_type": "markdown",
      "source": [
        "# **CLASE STRING**"
      ],
      "metadata": {
        "id": "oMtT4bdKEkUD"
      }
    },
    {
      "cell_type": "code",
      "source": [
        "import string\n",
        "string.punctuation # FUNCION PARA OBTENER TODOS LOS SIMBOLOS ESPECIALES"
      ],
      "metadata": {
        "colab": {
          "base_uri": "https://localhost:8080/",
          "height": 35
        },
        "id": "Rw5elOAiEv07",
        "outputId": "854be20b-e5db-4c67-8141-6e2f26693250"
      },
      "execution_count": 14,
      "outputs": [
        {
          "output_type": "execute_result",
          "data": {
            "text/plain": [
              "'!\"#$%&\\'()*+,-./:;<=>?@[\\\\]^_`{|}~'"
            ],
            "application/vnd.google.colaboratory.intrinsic+json": {
              "type": "string"
            }
          },
          "metadata": {},
          "execution_count": 14
        }
      ]
    },
    {
      "cell_type": "markdown",
      "source": [
        "LA CLASE STRING TIENE MUCHAS FUNCIONES PARA OMITIR CARACTERES ESPECIALES Y OTRAS MAS PARA USARALAS CON LOS TEXTOS"
      ],
      "metadata": {
        "id": "ObEAinsNEyyR"
      }
    }
  ]
}