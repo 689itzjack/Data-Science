{
  "nbformat": 4,
  "nbformat_minor": 0,
  "metadata": {
    "colab": {
      "provenance": [],
      "authorship_tag": "ABX9TyMcSnqH9y3D6xKgmHizNhk+",
      "include_colab_link": true
    },
    "kernelspec": {
      "name": "python3",
      "display_name": "Python 3"
    },
    "language_info": {
      "name": "python"
    }
  },
  "cells": [
    {
      "cell_type": "markdown",
      "metadata": {
        "id": "view-in-github",
        "colab_type": "text"
      },
      "source": [
        "<a href=\"https://colab.research.google.com/github/689itzjack/Data-Science/blob/main/IterTools.ipynb\" target=\"_parent\"><img src=\"https://colab.research.google.com/assets/colab-badge.svg\" alt=\"Open In Colab\"/></a>"
      ]
    },
    {
      "cell_type": "code",
      "execution_count": 2,
      "metadata": {
        "id": "_jWQcMmrj8Gy"
      },
      "outputs": [],
      "source": [
        "import itertools "
      ]
    },
    {
      "cell_type": "markdown",
      "source": [
        "# **CONTINUACION DE LA FUNCION ZIP**"
      ],
      "metadata": {
        "id": "PkJDGwif8AQM"
      }
    },
    {
      "cell_type": "markdown",
      "source": [
        "ANTERIORMENTE TUVIMOS UN PROBLEMA PARA PODER IMPRIMIR TODOS LOS ELEMENTOS QUE OBTENEMOS DE LA FUNCION ZIP (CUANDO NUESTRAS ESTRUCTURAS DE DATOS QUE ENVIABAMOS ALA FUNCION ZIP NO ERAN DE TAMANOS IGUALES), PORQUE LOS ELEMENTOS SOLO SE IMPRIMIAN DE MANERA UNIFORME HASTA QUE TERMINABA DE LEEERSE LA ESTRUCTURA MAS PEQUENA.\n",
        "CON ESTA LIBRERIA PODEMOS RESOLVER EL PROBLEMA."
      ],
      "metadata": {
        "id": "m9vvppLBk2jo"
      }
    },
    {
      "cell_type": "code",
      "source": [
        "def more_zip_example():\n",
        "    # Note:  zip() stops aggregating elements once the shortest iterable\n",
        "    # passed to it is done. So is the following example, 4 & 5 are ignored\n",
        "\n",
        "    x = [1, 2, 3]\n",
        "    y = [1, 2, 3, 4, 5]\n",
        "    print(list(zip(x, y)))\n",
        "    print(list(itertools.zip_longest(x, y)))  # Default fill value is none\n",
        "    print(list(itertools.zip_longest(x, y, fillvalue='Hi')))\n",
        "\n",
        "more_zip_example()"
      ],
      "metadata": {
        "colab": {
          "base_uri": "https://localhost:8080/"
        },
        "id": "zr1SGpKumEwO",
        "outputId": "645e6ec0-48af-4863-d731-a47c38aaff8c"
      },
      "execution_count": 3,
      "outputs": [
        {
          "output_type": "stream",
          "name": "stdout",
          "text": [
            "[(1, 1), (2, 2), (3, 3)]\n",
            "[(1, 1), (2, 2), (3, 3), (None, 4), (None, 5)]\n",
            "[(1, 1), (2, 2), (3, 3), ('Hi', 4), ('Hi', 5)]\n"
          ]
        }
      ]
    },
    {
      "cell_type": "markdown",
      "source": [
        "COMO VIMOS ANTES LA FUNCION list(zip(x, y)) NOS DEVUELVE UNA LISTA DE LOS ELEMENTOS DE 2 O MAS LISTAS EN FORMA DE TUPLES, LA CANTIDAD ESTA LIMITADA AL TAMANO DE LA LISTA MAS PEQUENA\n",
        "\n",
        "LA FUNCION list(itertools.zip_longest(x, y)) NOS DEVUELVE UNA LISTA CON TODOS LOS ELEMENTOS EXISTENTES EN TODAS LAS LISTAS EN FORMA DE TUPLES , NO IMPORTANDO EL TAMANO DE LAS LISTAS\n",
        "\n",
        "LA FUNCION ES LA MISMA DE ARRIBA PERO CON UN PARAMETRO AGREGADO list(itertools.zip_longest(x, y, fillvalue='Hi')) QUE SIGNIFICA EL VALOR NONE DE LAS LISTAS MAS LARGAS SEA CAMBIADO POR 'Hi'"
      ],
      "metadata": {
        "id": "WsUCM7Zm5oXN"
      }
    },
    {
      "cell_type": "markdown",
      "source": [
        "# **FUNCIONE ITERTOOLS COMBINATIONS**"
      ],
      "metadata": {
        "id": "Fo14VwUp8HfS"
      }
    },
    {
      "cell_type": "code",
      "source": [
        "def combinations_demo():\n",
        "    print('combinations([1, 2, 3], 2):')\n",
        "    print(list(itertools.combinations([1, 2, 3], 2)))\n",
        "\n",
        "    print('\\ncombinations([1, 2, 3, 4, 5], 3):')\n",
        "    print(list(itertools.combinations([1, 2, 3, 4, 5], 3)))"
      ],
      "metadata": {
        "id": "IBg8gBLV8TT1"
      },
      "execution_count": 13,
      "outputs": []
    },
    {
      "cell_type": "code",
      "source": [
        "combinations_demo()"
      ],
      "metadata": {
        "colab": {
          "base_uri": "https://localhost:8080/"
        },
        "id": "FLlOOrod8W_7",
        "outputId": "eb3cd4e0-9880-4001-95f1-f68f44f84bc4"
      },
      "execution_count": 14,
      "outputs": [
        {
          "output_type": "stream",
          "name": "stdout",
          "text": [
            "combinations([1, 2, 3], 2):\n",
            "[(1, 2), (1, 3), (2, 3)]\n",
            "\n",
            "combinations([1, 2, 3, 4, 5], 3):\n",
            "[(1, 2, 3), (1, 2, 4), (1, 2, 5), (1, 3, 4), (1, 3, 5), (1, 4, 5), (2, 3, 4), (2, 3, 5), (2, 4, 5), (3, 4, 5)]\n"
          ]
        }
      ]
    },
    {
      "cell_type": "markdown",
      "source": [
        "ESTA FUNCION NOS AYUDA A FORMAR GRUPOS DEACUERDO A LOS ELEMENTOS QUE ESTEN EN LA LISTA A COMBINAR (COMO EN MATE BDIDA). \n",
        "LA FUNCION list(itertools.combinations([1, 2, 3], 2)) RECIBE UNA LISTA DE ELEMENTOS (PRIMER PARAMETRO) Y DE ACUERDO AL NUMERO DLE SEGUNDO PARAMETRO HACE HACE TODAS LAS COMBINACIONES POSIBLES SIENDO ESE NUMERO EL TAMANO DE CADA COMBIMACION. SI UNA COMBINACION TIENE NUMEROS REPETIDOS, NO SE TOMA EN CUENTA."
      ],
      "metadata": {
        "id": "4AKgW7mL8gQ7"
      }
    },
    {
      "cell_type": "code",
      "source": [
        "def combinations_with_replacement_demo():\n",
        "    print('combinations_with_replacement([1, 2, 3], 2):')\n",
        "    print(list(itertools.combinations_with_replacement([1, 2, 3], 2)))"
      ],
      "metadata": {
        "id": "b-QEG-uz-V3J"
      },
      "execution_count": 7,
      "outputs": []
    },
    {
      "cell_type": "code",
      "source": [
        "combinations_with_replacement_demo()"
      ],
      "metadata": {
        "colab": {
          "base_uri": "https://localhost:8080/"
        },
        "id": "p4FbWI4m-YMZ",
        "outputId": "a19a108e-55d0-4c22-8e36-226a663ba9c0"
      },
      "execution_count": 8,
      "outputs": [
        {
          "output_type": "stream",
          "name": "stdout",
          "text": [
            "combinations_with_replacement([1, 2, 3], 2):\n",
            "[(1, 1), (1, 2), (1, 3), (2, 2), (2, 3), (3, 3)]\n"
          ]
        }
      ]
    },
    {
      "cell_type": "markdown",
      "source": [
        "LO MISMO QUE LA FUNCION def combinations_demo() PERO CON REPETICIONES EN LOS NUMEROS\n"
      ],
      "metadata": {
        "id": "_YBLxLmP-gAk"
      }
    },
    {
      "cell_type": "markdown",
      "source": [
        "# **FUNCIONES ITERTOOLS PERMUTACIONES**"
      ],
      "metadata": {
        "id": "85QhjOnGButu"
      }
    },
    {
      "cell_type": "code",
      "source": [
        "def permutations_demo():\n",
        "    # example 1:\n",
        "    print('permutations([1, 2, 3]):')\n",
        "    print(list(itertools.permutations([1, 2, 3])))\n",
        "\n",
        "    # example 2:\n",
        "    print(\"\\npermutations('abc'):\") #n! = 3!\n",
        "    for p in itertools.permutations('abc'):\n",
        "        print(p)\n",
        "\n",
        "    # example 3:\n",
        "    print(\"\\npermutations('abcd'):\") # n! = 4!\n",
        "    for p in itertools.permutations('abcd'):\n",
        "        print(p)\n"
      ],
      "metadata": {
        "id": "XiRPZPfeB3AU"
      },
      "execution_count": 9,
      "outputs": []
    },
    {
      "cell_type": "code",
      "source": [
        "permutations_demo()"
      ],
      "metadata": {
        "colab": {
          "base_uri": "https://localhost:8080/"
        },
        "id": "lerIlkjgB4tu",
        "outputId": "61c00d20-69b3-4725-957f-0cb336c6b44c"
      },
      "execution_count": 10,
      "outputs": [
        {
          "output_type": "stream",
          "name": "stdout",
          "text": [
            "permutations([1, 2, 3]):\n",
            "[(1, 2, 3), (1, 3, 2), (2, 1, 3), (2, 3, 1), (3, 1, 2), (3, 2, 1)]\n",
            "\n",
            "permutations('abc'):\n",
            "('a', 'b', 'c')\n",
            "('a', 'c', 'b')\n",
            "('b', 'a', 'c')\n",
            "('b', 'c', 'a')\n",
            "('c', 'a', 'b')\n",
            "('c', 'b', 'a')\n",
            "\n",
            "permutations('abc'):\n",
            "('a', 'b', 'c', 'd')\n",
            "('a', 'b', 'd', 'c')\n",
            "('a', 'c', 'b', 'd')\n",
            "('a', 'c', 'd', 'b')\n",
            "('a', 'd', 'b', 'c')\n",
            "('a', 'd', 'c', 'b')\n",
            "('b', 'a', 'c', 'd')\n",
            "('b', 'a', 'd', 'c')\n",
            "('b', 'c', 'a', 'd')\n",
            "('b', 'c', 'd', 'a')\n",
            "('b', 'd', 'a', 'c')\n",
            "('b', 'd', 'c', 'a')\n",
            "('c', 'a', 'b', 'd')\n",
            "('c', 'a', 'd', 'b')\n",
            "('c', 'b', 'a', 'd')\n",
            "('c', 'b', 'd', 'a')\n",
            "('c', 'd', 'a', 'b')\n",
            "('c', 'd', 'b', 'a')\n",
            "('d', 'a', 'b', 'c')\n",
            "('d', 'a', 'c', 'b')\n",
            "('d', 'b', 'a', 'c')\n",
            "('d', 'b', 'c', 'a')\n",
            "('d', 'c', 'a', 'b')\n",
            "('d', 'c', 'b', 'a')\n"
          ]
        }
      ]
    },
    {
      "cell_type": "markdown",
      "source": [
        "SON TODAS LAS POSIBLES COMBINACIONES DE n! cuando n es el TAMANO DE LA KBUTZA A MEZCLAR, NO SE REPITEN LOS NUMEROS SOLAMENTE SE COMBINAN ENTRE ELLOS SIN REPETIRSE"
      ],
      "metadata": {
        "id": "X0xzERO_CPzH"
      }
    }
  ]
}