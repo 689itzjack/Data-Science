{
  "nbformat": 4,
  "nbformat_minor": 0,
  "metadata": {
    "colab": {
      "provenance": [],
      "authorship_tag": "ABX9TyNPmULyuF3YMdTUWZFlRI+K",
      "include_colab_link": true
    },
    "kernelspec": {
      "name": "python3",
      "display_name": "Python 3"
    },
    "language_info": {
      "name": "python"
    }
  },
  "cells": [
    {
      "cell_type": "markdown",
      "metadata": {
        "id": "view-in-github",
        "colab_type": "text"
      },
      "source": [
        "<a href=\"https://colab.research.google.com/github/689itzjack/Data-Science/blob/main/GENERATORS.ipynb\" target=\"_parent\"><img src=\"https://colab.research.google.com/assets/colab-badge.svg\" alt=\"Open In Colab\"/></a>"
      ]
    },
    {
      "cell_type": "markdown",
      "source": [
        "# **DEFINICION Y EJEMPLO DE GENERATORS**"
      ],
      "metadata": {
        "id": "SYTbuTD93I4V"
      }
    },
    {
      "cell_type": "markdown",
      "source": [
        "UNA ESTRUCTURA DE DATOS ITERABLE GUARDA DESDE EL PRINCIPIO LA INFORMACION EN ELLA Y SE PUEDE RECORRER LA ESTRUCTURA PARA OBTENER D ELLA LA INFORMACION GUARDADA. POR OTRA PARTE LOS GENERATORS TAMBIEN SON ITERABLES PERO CON LA DIFERENCIA ES QUE ELLOS EN CADA VAN GENERANDO LA INFORMACION CONFORME SE VA EJECUTANDO EL CODIGO. "
      ],
      "metadata": {
        "id": "IYh4dN4Uqbb1"
      }
    },
    {
      "cell_type": "markdown",
      "source": [
        "**NOTA:** SI QUEREMOS IMPRIMIR UN GENERATOR, PRIMERO LE HACEMOS CASTING A LIST PORUQE DE ESTA FORMA PODEMOS IMPRIMIR LOS ITERATORS. POR EJEMPLO:"
      ],
      "metadata": {
        "id": "6TD2EyZuu1NB"
      }
    },
    {
      "cell_type": "code",
      "source": [
        "finite_range = range(7)\n",
        "print(list(finite_range))\n",
        "type(finite_range)"
      ],
      "metadata": {
        "colab": {
          "base_uri": "https://localhost:8080/"
        },
        "id": "34JxXIkasQ8a",
        "outputId": "c458a96f-6f41-4ece-894c-4da7988c3738"
      },
      "execution_count": 45,
      "outputs": [
        {
          "output_type": "stream",
          "name": "stdout",
          "text": [
            "[0, 1, 2, 3, 4, 5, 6]\n"
          ]
        },
        {
          "output_type": "execute_result",
          "data": {
            "text/plain": [
              "range"
            ]
          },
          "metadata": {},
          "execution_count": 45
        }
      ]
    },
    {
      "cell_type": "markdown",
      "source": [
        "LA FUNCION range() ES UN GENERATOR QUE CREA LOS NUMEROS DEL 0 A UN NUMERO DEFINIDO POR NOSOTROS COMO PARAMETRO DE LA FUNCION"
      ],
      "metadata": {
        "id": "MPl3jBOss3uD"
      }
    },
    {
      "cell_type": "code",
      "source": [
        "finite_range = range(46, 100,  3)\n",
        "list(finite_range)"
      ],
      "metadata": {
        "colab": {
          "base_uri": "https://localhost:8080/"
        },
        "id": "R0lf0NBIwG8J",
        "outputId": "39f891a4-1755-4e85-f8ba-1a527920ac2b"
      },
      "execution_count": 5,
      "outputs": [
        {
          "output_type": "execute_result",
          "data": {
            "text/plain": [
              "[46, 49, 52, 55, 58, 61, 64, 67, 70, 73, 76, 79, 82, 85, 88, 91, 94, 97]"
            ]
          },
          "metadata": {},
          "execution_count": 5
        }
      ]
    },
    {
      "cell_type": "markdown",
      "source": [
        "EL MISMO GENERATOR range() CON DIFERENTE RANGO DE NUMEROS Y SALTOS DE NUMEROS"
      ],
      "metadata": {
        "id": "7NFyEo8Hw5sQ"
      }
    },
    {
      "cell_type": "code",
      "source": [
        "for i in range(10):\n",
        "  print(i)\n",
        "  i+=10\n",
        "  print(i)"
      ],
      "metadata": {
        "id": "7dhnLl5A0s5G"
      },
      "execution_count": null,
      "outputs": []
    },
    {
      "cell_type": "markdown",
      "source": [
        "SI QUEREMOS IMPRIMIR UN GENERATOR SIN CONVERTIRLO EN UNA LISTA CON CASTING, LO HACEMOS MEDIANTE UN LOOP FOR "
      ],
      "metadata": {
        "id": "qnOFiJ6A2FON"
      }
    },
    {
      "cell_type": "markdown",
      "source": [
        "# **YIELD**"
      ],
      "metadata": {
        "id": "NoIx3C2P2xRX"
      }
    },
    {
      "cell_type": "markdown",
      "source": [
        "COMO SABEMOS QUE LA FUNCION ES UN GENERATOR?? PORQUE TIENE LA PALABRA YIELD"
      ],
      "metadata": {
        "id": "VS3kVvCH6m8r"
      }
    },
    {
      "cell_type": "code",
      "source": [
        "def get_next_number_infinite():\n",
        "    i = -1\n",
        "    while True:\n",
        "        i += 1\n",
        "        yield i       "
      ],
      "metadata": {
        "id": "2624S1s93E2F"
      },
      "execution_count": 10,
      "outputs": []
    },
    {
      "cell_type": "markdown",
      "source": [
        "ESTA FUNCION get_next_number_infinite() ES UN EJEMPLO DE GENERATOR, SUPUESTAMENTE ESTA FUNCION TIENE UN LOOP INFINITO QUE AUMENTA UN NUMERO DE UNO EN UNO PERO LA PALABRA **YIELD** ES UNA FORMA DE RETURN, QUE CADA VEZ QUE LA FUNCION ES LLAMADA EN EL MAIN, LA FUNCION DEVULEVE EL VALOR ACTUAL DE LA VARIABLE (EN ESTE CASO LA RETORNA LA VARIABLE i). CADA VEZ QUE QUERAMOS LLAMAR AL GENERATOR, LO HACEMOS POR MEDIO DE nombre_iterator.next() desde el main GUARDANDO A LA VEZ EL RESULTADO DQUE DA LA FUNCION EN UNA VARIABLE."
      ],
      "metadata": {
        "id": "fUueMlBi3h8M"
      }
    },
    {
      "cell_type": "code",
      "source": [
        "gen = get_next_number_infinite()\n",
        "print(gen)"
      ],
      "metadata": {
        "colab": {
          "base_uri": "https://localhost:8080/"
        },
        "id": "82vJV3ap_3SS",
        "outputId": "ab150e77-a7d0-4628-b5b5-697d992fa017"
      },
      "execution_count": 9,
      "outputs": [
        {
          "output_type": "stream",
          "name": "stdout",
          "text": [
            "<generator object get_next_number_infinite at 0x7ffadf644f20>\n"
          ]
        }
      ]
    },
    {
      "cell_type": "markdown",
      "source": [
        "PARA USAR UN GENERETOR LO HACEMOS MEDIANTE LLAMADA A ALA FUNCION DEL GENERATOR GUARDANDOLO EN UNA VARIABLE PARA PODER ITERAR CON EL. LA VARIABLE CONTENDRA UN OBJETO ITERABLE."
      ],
      "metadata": {
        "id": "WZL87qOeAGlR"
      }
    },
    {
      "cell_type": "code",
      "source": [
        "next(gen)"
      ],
      "metadata": {
        "colab": {
          "base_uri": "https://localhost:8080/"
        },
        "id": "bQQfeCSMBijw",
        "outputId": "d5c5895c-8d68-4406-8fab-bf824668f722"
      },
      "execution_count": 24,
      "outputs": [
        {
          "output_type": "execute_result",
          "data": {
            "text/plain": [
              "13"
            ]
          },
          "metadata": {},
          "execution_count": 24
        }
      ]
    },
    {
      "cell_type": "markdown",
      "source": [
        "CON LA FUNCION next(OBJ_GENERATOR) DE ITERADORES UTILIZAMOS EL GENERATOR PARA PODER OBTENER LA INFORMACION QUE SE GENERA CON CADA LLAMADA ALA FUNCION POR MEDIO DE next()"
      ],
      "metadata": {
        "id": "pGWAavW-B6xG"
      }
    },
    {
      "cell_type": "code",
      "source": [
        "ii = next(gen)\n",
        "ii += 1\n",
        "ii"
      ],
      "metadata": {
        "colab": {
          "base_uri": "https://localhost:8080/"
        },
        "id": "XX2uEtCNDkzo",
        "outputId": "3ceb96ce-333c-4d91-991d-213f01d54554"
      },
      "execution_count": 23,
      "outputs": [
        {
          "output_type": "execute_result",
          "data": {
            "text/plain": [
              "13"
            ]
          },
          "metadata": {},
          "execution_count": 23
        }
      ]
    },
    {
      "cell_type": "markdown",
      "source": [
        "ARRIBA OTRO USO DE GENERATORS"
      ],
      "metadata": {
        "id": "i7qhgVnzI8nF"
      }
    },
    {
      "cell_type": "code",
      "source": [
        "for i in get_next_number_infinite():  # gen=get_next_number_infinite()  + next(gen)\n",
        "   print(i)\n",
        "\n",
        "   if(i == 15): # Adding this in order to stop the infinite loop for demonstration purpose\n",
        "     break"
      ],
      "metadata": {
        "id": "bEpJ8OrJJD4M"
      },
      "execution_count": null,
      "outputs": []
    },
    {
      "cell_type": "markdown",
      "source": [
        "PODEMOS LLAMAR AL GENERATOR POR MEDIO DE UN LOOP e imprimir los datos DE FORMA LIMITADA O INFINITA (DEPENDE DE COMO ESTE DEFINIDO EL CODIGO DEL FOR). ESTA ES UNA FORMA DE LLAMAR UN GENERATOR SIN LA NECESIDAD DE next() PORQUE EN SI EL LOOP for YA TIENE INTEGRADO LA FUNCION next() POR ESO NO ES NECESARIO LA FUNCION next(). SI AL CODIGO DE ARRIBA LE QUITAMOS EL if() ENTONCES IMPIMIRIA NUMEROS HASTA EL INFINITO."
      ],
      "metadata": {
        "id": "QxKv9Cp3JXFc"
      }
    },
    {
      "cell_type": "code",
      "source": [
        "gen = get_next_number_infinite() # LA VARIABLE gen CONTIENE EL OBJETO ITERABLE\n",
        "print(gen)\n",
        "next(gen) # CON LA FUNCION next(gen) PODEMOS ADQUIRIR EL VALOR QUE EL GENERATOR DEVUELVE  "
      ],
      "metadata": {
        "colab": {
          "base_uri": "https://localhost:8080/"
        },
        "id": "exs9YbjIWDxA",
        "outputId": "843927fb-75d6-4f4d-9d21-2afd319c129a"
      },
      "execution_count": 39,
      "outputs": [
        {
          "output_type": "stream",
          "name": "stdout",
          "text": [
            "<generator object get_next_number_infinite at 0x7ffadf5d8eb0>\n"
          ]
        },
        {
          "output_type": "execute_result",
          "data": {
            "text/plain": [
              "0"
            ]
          },
          "metadata": {},
          "execution_count": 39
        }
      ]
    },
    {
      "cell_type": "code",
      "source": [
        "next(gen) # CON CADA NEXT QUE HACEMOS  O LLAMAMOS PODEMOS ADQUIRIR EL NUEVO NUMERO DEL GENERATOR "
      ],
      "metadata": {
        "colab": {
          "base_uri": "https://localhost:8080/"
        },
        "id": "PihBi8j4cLLj",
        "outputId": "1809e928-67e4-4490-d66e-ff6736282532"
      },
      "execution_count": 42,
      "outputs": [
        {
          "output_type": "execute_result",
          "data": {
            "text/plain": [
              "2"
            ]
          },
          "metadata": {},
          "execution_count": 42
        }
      ]
    },
    {
      "cell_type": "code",
      "source": [
        "type(gen) # el tipo de el generator es 'generator'"
      ],
      "metadata": {
        "colab": {
          "base_uri": "https://localhost:8080/"
        },
        "id": "_foeVX6bckwa",
        "outputId": "1aed2a11-5716-4adb-89e3-b4522ba885f1"
      },
      "execution_count": 46,
      "outputs": [
        {
          "output_type": "execute_result",
          "data": {
            "text/plain": [
              "generator"
            ]
          },
          "metadata": {},
          "execution_count": 46
        }
      ]
    },
    {
      "cell_type": "markdown",
      "source": [
        "# **EJEMPLO DE GENERATOR CON DICCIONARIOS**"
      ],
      "metadata": {
        "id": "m7LcAYPpd5xz"
      }
    },
    {
      "cell_type": "code",
      "source": [
        "def get_my_dict():\n",
        "    d = {}\n",
        "    i = -1\n",
        "    while True:\n",
        "        print(d)\n",
        "        i += 1\n",
        "        d[i] = i**2\n",
        "        yield d  "
      ],
      "metadata": {
        "id": "9oCFGA7BeKMD"
      },
      "execution_count": 71,
      "outputs": []
    },
    {
      "cell_type": "markdown",
      "source": [
        "ESTE GENERATOR NOS CREA UN DICCIONARIO DE NUMEROS, Y CADA VEZ QUE LLAMAMOS AL GENERATOR, SE GUARDA UN NUMERO DE INDEX COMO KEY Y SU VALOR DEL MISMO INDEX AL CUADRADO (^2) COMO VALUE."
      ],
      "metadata": {
        "id": "CXfuhLGRew0D"
      }
    },
    {
      "cell_type": "code",
      "source": [
        "generator1 = get_my_dict() # aqui creamos un nuevo generator que es un diccionario"
      ],
      "metadata": {
        "id": "ToSDJg9Wgj7a"
      },
      "execution_count": 72,
      "outputs": []
    },
    {
      "cell_type": "code",
      "source": [
        "res_gen1 = next(generator1) # CADA VEZ QUE HACEMOS NEXT, LE METEMOS UN ELEMNTO NUEVO AL DICCIONARIO"
      ],
      "metadata": {
        "colab": {
          "base_uri": "https://localhost:8080/"
        },
        "id": "lnH71PMIhQCp",
        "outputId": "6b26d370-a1bb-4bbd-be6d-611e4251dc9d"
      },
      "execution_count": 73,
      "outputs": [
        {
          "output_type": "stream",
          "name": "stdout",
          "text": [
            "{}\n"
          ]
        }
      ]
    },
    {
      "cell_type": "markdown",
      "source": [
        "EN SI LA VARIABLE res_gen1 CONTIENE EL DICCIONARIO DE NUMEROS CREADO POR EL GENERATOR POR LO CONSIGUIENTE SE PUEDE HACER LOS SIGUIENTE:"
      ],
      "metadata": {
        "id": "r7Px5GZ7kTN4"
      }
    },
    {
      "cell_type": "code",
      "source": [
        "res_gen1['hi'] = 'bye' # AGREGAMOS UN NUEVO ELEMNTO AL DICCIONARIO DE FORMA HABITUAL DE OTRO TIPO\n",
        "print(res_gen1)"
      ],
      "metadata": {
        "colab": {
          "base_uri": "https://localhost:8080/"
        },
        "id": "3PchXdjhk4Fq",
        "outputId": "7f0c7656-e71a-4ce8-84f8-0c9846fd3ea0"
      },
      "execution_count": 74,
      "outputs": [
        {
          "output_type": "stream",
          "name": "stdout",
          "text": [
            "{0: 0, 'hi': 'bye'}\n"
          ]
        }
      ]
    },
    {
      "cell_type": "code",
      "source": [
        "res_gen1 = next(generator1) # CADA VEZ QUE HACEMOS NEXT, LE METEMOS UN ELEMNTO NUEVO AL DICCIONARIO"
      ],
      "metadata": {
        "colab": {
          "base_uri": "https://localhost:8080/"
        },
        "id": "8lFT2FPvpGHw",
        "outputId": "60135812-93ee-48f1-f55e-9975d6c4af2c"
      },
      "execution_count": 75,
      "outputs": [
        {
          "output_type": "stream",
          "name": "stdout",
          "text": [
            "{0: 0, 'hi': 'bye'}\n"
          ]
        }
      ]
    },
    {
      "cell_type": "code",
      "source": [
        "res_gen1"
      ],
      "metadata": {
        "colab": {
          "base_uri": "https://localhost:8080/"
        },
        "id": "fbJCqCR4pmN_",
        "outputId": "7219c567-f0db-4ba7-832f-254d5358e852"
      },
      "execution_count": 76,
      "outputs": [
        {
          "output_type": "execute_result",
          "data": {
            "text/plain": [
              "{0: 0, 'hi': 'bye', 1: 1}"
            ]
          },
          "metadata": {},
          "execution_count": 76
        }
      ]
    },
    {
      "cell_type": "markdown",
      "source": [
        "EL CONTEO SIGUE DESDE DONDE SE QUEDO EN LA ULTIMA VEZ QUE USAMOS EL GENERATOR."
      ],
      "metadata": {
        "id": "AyOWs5fbprYe"
      }
    }
  ]
}