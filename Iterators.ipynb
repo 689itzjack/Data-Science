{
  "nbformat": 4,
  "nbformat_minor": 0,
  "metadata": {
    "colab": {
      "provenance": [],
      "authorship_tag": "ABX9TyMjY9E4JH2dbGfYaXok5nJU",
      "include_colab_link": true
    },
    "kernelspec": {
      "name": "python3",
      "display_name": "Python 3"
    },
    "language_info": {
      "name": "python"
    }
  },
  "cells": [
    {
      "cell_type": "markdown",
      "metadata": {
        "id": "view-in-github",
        "colab_type": "text"
      },
      "source": [
        "<a href=\"https://colab.research.google.com/github/689itzjack/Data-Science/blob/main/Iterators.ipynb\" target=\"_parent\"><img src=\"https://colab.research.google.com/assets/colab-badge.svg\" alt=\"Open In Colab\"/></a>"
      ]
    },
    {
      "cell_type": "markdown",
      "source": [
        "# **ITERATOR EN TUPLES**"
      ],
      "metadata": {
        "id": "ASCBXECzmgNL"
      }
    },
    {
      "cell_type": "code",
      "execution_count": null,
      "metadata": {
        "id": "ghw57NKDftnN"
      },
      "outputs": [],
      "source": [
        "def iterate_tuple(): \n",
        "    \"\"\"\n",
        "    Example function for iterating over a tuple\n",
        "    \"\"\"\n",
        "    my_tuple = ('Sunday', 'Monday', 'Tuesday') \n",
        "    my_iterator = iter(my_tuple)\n",
        "    print(my_iterator)\n",
        "    print(next(my_iterator))\n",
        "    print(next(my_iterator))\n",
        "    print(next(my_iterator))\n",
        "    # ***print(next(my_iterator)) # Note - no more elements, an error will occur\n",
        "\n",
        "    # or, using a loop:\n",
        "    print('\\nUsing a loop:')\n",
        "    for x in my_tuple:\n",
        "        print(x)\n",
        "\n",
        "iterate_tuple() #CALLING TO THE FUNCTION"
      ]
    },
    {
      "cell_type": "markdown",
      "source": [
        "EN ESTA FUNCION IMPRIMIMOS UNA TUPLA POR MEDIO DE UN ITERATOR. PODEMOS VOLVER UNA TUPLA INTERABLE POR MEDIO DE LA FUNCION my_iterator = iter(my_tuple) GUARDANDOLA EN LA VARIABLE my_iterator, DE ESTA FORMA LE PODEMOS APLICAR CIERTAS FUNCIONES ITERABLES A LA VARIABLE COMO next(my_iterator) E IMPRIMIR EL CONTENIDO DE LA TUPLA CADA VEZ QUE AVANCEMOS. \n",
        "NOTA: SI ACTIVAMOS EL ITERATOR MAS VECES QUE EL TAMANO DE LA TUPLA ENTONCES NOS VA A DAR ERROR (LINEA VERDE ***). \n",
        "PODEMOS ITERAR EN UNA TUPLA POR MEDIO DE UNA LULAA O LOOP Y ASI TAMBN IMPRIMIR EL CONTENIDO DE LA TUPLA."
      ],
      "metadata": {
        "id": "r0nrsu_KmY-D"
      }
    },
    {
      "cell_type": "code",
      "source": [
        "my_tuple = ('Sunday', 'Monday', 'Tuesday') \n",
        "for i in range(len(my_tuple)): # list\n",
        "   t = my_tuple[i]\n",
        "   print(i,t)"
      ],
      "metadata": {
        "colab": {
          "base_uri": "https://localhost:8080/"
        },
        "id": "K_d0iHEz9OLY",
        "outputId": "a90b1e51-9785-4842-e25a-1c75a545003a"
      },
      "execution_count": 26,
      "outputs": [
        {
          "output_type": "stream",
          "name": "stdout",
          "text": [
            "0 Sunday\n",
            "1 Monday\n",
            "2 Tuesday\n"
          ]
        }
      ]
    },
    {
      "cell_type": "markdown",
      "source": [
        "SI QUEREMOS IMPRIMIR UNA TUPLE CON INDICES"
      ],
      "metadata": {
        "id": "AEweFVeV9TiJ"
      }
    },
    {
      "cell_type": "markdown",
      "source": [
        "# **ITERATOR EN LIST**"
      ],
      "metadata": {
        "id": "Nr-LBZbKuBsn"
      }
    },
    {
      "cell_type": "code",
      "source": [
        "def iterate_list():\n",
        "    \"\"\"\n",
        "    Example function for iterating over a list\n",
        "    \"\"\"\n",
        "    my_list = ['Sunday', 'Monday', 'Tuesday']\n",
        "    my_iterator = iter(my_list)\n",
        "    print(my_iterator)\n",
        "    print(next(my_iterator))\n",
        "    print(next(my_iterator))\n",
        "    print(next(my_iterator))\n",
        "    # print(next(my_iterator)) # Note - no more elements, error will occur\n",
        "\n",
        "    # or, using a loop:\n",
        "    print('\\nUsing a loop:')\n",
        "    for x in my_list:\n",
        "        print(x)\n",
        "\n",
        "iterate_list() # CALLING TO THE FUNCTION"
      ],
      "metadata": {
        "id": "L7aOOkkIuHDN"
      },
      "execution_count": null,
      "outputs": []
    },
    {
      "cell_type": "markdown",
      "source": [
        "APLICA LO MISMO QUE EN LAS TUPLAS"
      ],
      "metadata": {
        "id": "0uwfnRjLuX7j"
      }
    },
    {
      "cell_type": "markdown",
      "source": [
        "# **ITERATOR EN STRINGS**"
      ],
      "metadata": {
        "id": "SexwqNvsul0n"
      }
    },
    {
      "cell_type": "code",
      "source": [
        "def iterate_str():\n",
        "    my_str = 'Example'\n",
        "    my_iterator = iter(my_str)\n",
        "\n",
        "    print(next(my_iterator))\n",
        "    print(next(my_iterator))\n",
        "    print(next(my_iterator))\n",
        "    print(next(my_iterator))\n",
        "    print(next(my_iterator))\n",
        "    print(next(my_iterator))\n",
        "    print(next(my_iterator))\n",
        "    # print(next(my_iterator)) #  invalid call\n",
        "\n",
        "    # or, using a loop:\n",
        "    print('\\nUsing a loop:')\n",
        "    for x in my_str:\n",
        "        print(x)\n",
        "\n",
        "iterate_str() # CALLING TO THE FUNCTION"
      ],
      "metadata": {
        "id": "AuR_s4FXusvO"
      },
      "execution_count": null,
      "outputs": []
    },
    {
      "cell_type": "markdown",
      "source": [
        "APLICA LO MISMO QUE EN LAS TUPLAS"
      ],
      "metadata": {
        "id": "wWt8QaAbuuEu"
      }
    },
    {
      "cell_type": "markdown",
      "source": [
        "# **FUNCION ZIP**"
      ],
      "metadata": {
        "id": "R_GvGW35vQSG"
      }
    },
    {
      "cell_type": "markdown",
      "source": [
        "**LAS ESTRUCTURAS DE DATOS SON DEL MISMO TAMANO**"
      ],
      "metadata": {
        "id": "R_2vbkt2GNs1"
      }
    },
    {
      "cell_type": "code",
      "source": [
        "# Let us define two iterable objects, e.g. 2 lists:\n",
        "l1 = ['A', 'B', 'C']\n",
        "l2 = ['a', 'b', 'c']\n",
        "\n",
        "# zip() returns an iterator over tuples\n",
        "for t in zip(l1, l2):\n",
        "    print(t)  # the next tuple is printed"
      ],
      "metadata": {
        "colab": {
          "base_uri": "https://localhost:8080/"
        },
        "id": "3u0c-eNWvbyP",
        "outputId": "6b933a92-59e8-4150-cafb-e3ea057caaa9"
      },
      "execution_count": 16,
      "outputs": [
        {
          "output_type": "stream",
          "name": "stdout",
          "text": [
            "('A', 'a')\n",
            "('B', 'b')\n",
            "('C', 'c')\n"
          ]
        }
      ]
    },
    {
      "cell_type": "markdown",
      "source": [
        "ZIP ES UNA FUNCION ITERABLE LA CUAL RECIBE COMO PARAMETROS 2 O MAS ESTRUCTURAS DE DATOS (YA SEA LISTAS, TUPLES, SET O DICC) Y GUARDA SUS DATOS DE CADA ESTRUCTURA EN GRUPOS DE TUPLAS DEACUERDO A EL ORDEN EN EL QUE ESTAN GUARDADOS SUS PROPIAS ESTRUCTURAS"
      ],
      "metadata": {
        "id": "lYo0gr_VvjhX"
      }
    },
    {
      "cell_type": "code",
      "source": [
        "for i in range(len(l1)): # list\n",
        "   t = l1[i]\n",
        "   print(i,t)"
      ],
      "metadata": {
        "colab": {
          "base_uri": "https://localhost:8080/"
        },
        "id": "7Xhl-A8GyjIW",
        "outputId": "f04cc01b-0987-4a5f-9783-0f31251beb3e"
      },
      "execution_count": 20,
      "outputs": [
        {
          "output_type": "stream",
          "name": "stdout",
          "text": [
            "0 A\n",
            "1 B\n",
            "2 C\n"
          ]
        }
      ]
    },
    {
      "cell_type": "markdown",
      "source": [
        "ESTA ES UNA FORMA EN COMO IMPRIMIR UNA LISTA CON INDICES PARA CADA ELEMENTO PERO EN OCACIONES NO ES POSIBLE HACERLO DE ESTA FORMA, COMO POR EJEMPLO:"
      ],
      "metadata": {
        "id": "BwUVh0pW1qbc"
      }
    },
    {
      "cell_type": "code",
      "source": [
        "for t in zip(l1, l2):\n",
        "     print(t)  # the next tuple is printed"
      ],
      "metadata": {
        "colab": {
          "base_uri": "https://localhost:8080/"
        },
        "id": "iBbV18B43NPe",
        "outputId": "abfafc9b-a2cc-4f7c-c168-2cc334307b82"
      },
      "execution_count": 21,
      "outputs": [
        {
          "output_type": "stream",
          "name": "stdout",
          "text": [
            "('A', 'a')\n",
            "('B', 'b')\n",
            "('C', 'c')\n"
          ]
        }
      ]
    },
    {
      "cell_type": "markdown",
      "source": [
        "COMO PODEMOS VER CADA ITERACCION SE IMPRIME UN ELEMENTO DE LA TUPLA (CONFORMADA POR 2 ELEMENTOS DE 2 LISTAS)  "
      ],
      "metadata": {
        "id": "U_hEm2T34D5E"
      }
    },
    {
      "cell_type": "code",
      "source": [
        "#for t in range(len(zip(l1, l2))):\n",
        " #    print(t, zip[t])"
      ],
      "metadata": {
        "id": "SOHYD9EO5afq"
      },
      "execution_count": null,
      "outputs": []
    },
    {
      "cell_type": "markdown",
      "source": [
        "SI ITENTAMOS CORRER ESTO de arriba NOS DARIA ERROR PORQ ZIP NO TIENE TAMANO DEFINIDO DESD EL PRINCIPIO, SI NO QUE SE VA FORMANDO DEACUERDO A LA EJECUCION DELL PROGRAMA. SI QUEREMOS IMPRIMIR INDICES CON EL CONTENIDO DE UNA TUPLA HECHA POR LA FUNCION ZIP, TENEMOS 2 OPCIONES SOLO:\n"
      ],
      "metadata": {
        "id": "K6UT7WUk6bek"
      }
    },
    {
      "cell_type": "markdown",
      "source": [
        "OPCION 1: \n",
        "CON LA FUNCION enumerate PODEMOS DEFINIR INDEX PARA LA TUPLA HECHA POR LA FUNCION ZIP"
      ],
      "metadata": {
        "id": "QvrAHyuDBFd3"
      }
    },
    {
      "cell_type": "code",
      "source": [
        "for i, t in enumerate(zip(l1, l2)):\n",
        "    print(i, t)  # the next tuple is printed"
      ],
      "metadata": {
        "colab": {
          "base_uri": "https://localhost:8080/"
        },
        "id": "ytrlc5L29sqZ",
        "outputId": "55141f08-5b30-4ced-db6d-f1f751b124ad"
      },
      "execution_count": 27,
      "outputs": [
        {
          "output_type": "stream",
          "name": "stdout",
          "text": [
            "0 ('A', 'a')\n",
            "1 ('B', 'b')\n",
            "2 ('C', 'c')\n"
          ]
        }
      ]
    },
    {
      "cell_type": "markdown",
      "source": [
        "OPCION 2: POR MEDIO DE UN COUNTER."
      ],
      "metadata": {
        "id": "NSmphUTqAtZY"
      }
    },
    {
      "cell_type": "code",
      "source": [
        "i = 0\n",
        "for t in zip(l1, l2):\n",
        "     print(i,t)  # the next tuple is printed\n",
        "     i += 1"
      ],
      "metadata": {
        "colab": {
          "base_uri": "https://localhost:8080/"
        },
        "id": "Onodg1V2BD-z",
        "outputId": "e784153f-340e-467a-b2ae-9b17e13dccfe"
      },
      "execution_count": 29,
      "outputs": [
        {
          "output_type": "stream",
          "name": "stdout",
          "text": [
            "0 ('A', 'a')\n",
            "1 ('B', 'b')\n",
            "2 ('C', 'c')\n"
          ]
        }
      ]
    },
    {
      "cell_type": "markdown",
      "source": [
        "TENEMOS LA POSIBILIDAD DE UNIR (HACER ZIP) MAS DE 2 ESTUCTURAS DE DATOS CON DIFERENTE TIPO DE DATOS:"
      ],
      "metadata": {
        "id": "5NCoN0j7B7EQ"
      }
    },
    {
      "cell_type": "code",
      "source": [
        "l3 = [1, 2, 3]\n",
        "t4 = (10, 20, 30)  # This is a tuple, while l1, l2 & l3 are lists\n",
        "for t in zip(l1, l2, l3, t4):\n",
        "    print(t)  # the next tuple is printed\n",
        "\n",
        "s5 = 'str'  # This is a String\n",
        "for t in zip(l1, l2,  l3, t4, s5):\n",
        "    print(t)  # the next tuple is printed"
      ],
      "metadata": {
        "colab": {
          "base_uri": "https://localhost:8080/"
        },
        "id": "fjRzyTnHCmjT",
        "outputId": "fbff2b9f-0eec-46ce-9185-4030b88925a3"
      },
      "execution_count": 31,
      "outputs": [
        {
          "output_type": "stream",
          "name": "stdout",
          "text": [
            "('A', 'a', 1, 10)\n",
            "('B', 'b', 2, 20)\n",
            "('C', 'c', 3, 30)\n",
            "('A', 'a', 1, 10, 's')\n",
            "('B', 'b', 2, 20, 't')\n",
            "('C', 'c', 3, 30, 'r')\n"
          ]
        }
      ]
    },
    {
      "cell_type": "markdown",
      "source": [
        "**QUE PASA SI LA ESTRUCTURAS DE DATOS NO SON DEL MISMO TAMANO ???**"
      ],
      "metadata": {
        "id": "95IdPUmzGI_V"
      }
    },
    {
      "cell_type": "code",
      "source": [
        "# Note:  zip() stops aggregating elements once the shortest iterable\n",
        "# passed to it is done. Thus in the following example,\n",
        "# 4 & 5 are ignored and only three tuples are created\n",
        "for i, t in enumerate(zip([1, 2, 3], [11, 12, 13, 14, 15])):\n",
        "    print(i, t)"
      ],
      "metadata": {
        "colab": {
          "base_uri": "https://localhost:8080/"
        },
        "id": "0gni7GI5HFd-",
        "outputId": "f721ed9d-0030-417f-e358-83ec7ab8376f"
      },
      "execution_count": 32,
      "outputs": [
        {
          "output_type": "stream",
          "name": "stdout",
          "text": [
            "0 (1, 11)\n",
            "1 (2, 12)\n",
            "2 (3, 13)\n"
          ]
        }
      ]
    },
    {
      "cell_type": "markdown",
      "source": [
        "LA FUNCION ZIP NOS LIMITA Y SOLO PONE LA CANTIDAD DE DATOS DE TODAS LAS ESTRUCTURAS, LA MAS PEQUENA."
      ],
      "metadata": {
        "id": "OaGWA7yeHLkt"
      }
    },
    {
      "cell_type": "markdown",
      "source": [
        "# **FUNCION MAP**"
      ],
      "metadata": {
        "id": "9C_WOhRDHk4A"
      }
    },
    {
      "cell_type": "markdown",
      "source": [
        "LA FUNCION MAP RECIBE 2 PARAMETROS:\n",
        "1. UNA FUNCION A SER EJECUTADA\n",
        "2. UNA ESTRUCTURA DE DATOS ITERABLE\n",
        "\n",
        "SI QUIESIERAMOS OBTENER EL LARGO DE LOS STIRNGS DE UNA ESTRUCTURA DE MANERA NATURAL HICIERAMOS LO SIGUIENTE:"
      ],
      "metadata": {
        "id": "PRsxNJe_HoYk"
      }
    },
    {
      "cell_type": "code",
      "source": [
        "str_list = ['this', 'is', 'an', 'example', '!']\n",
        "for s in str_list:\n",
        "  print(len(s))"
      ],
      "metadata": {
        "id": "GF2azRpqIlJ0"
      },
      "execution_count": null,
      "outputs": []
    },
    {
      "cell_type": "markdown",
      "source": [
        "PERO CON LA FUNCION MAP() PODEMOS ACTIVAR UNA FUNCION DETERMINADA SOBRE UNA ESTRUCTURA, POR EJEMPLO:"
      ],
      "metadata": {
        "id": "k47XKl_VKChl"
      }
    },
    {
      "cell_type": "code",
      "source": [
        "str_list = ['this', 'is', 'an', 'example', '!']\n",
        "for i in map(len, str_list):\n",
        "    print(i)"
      ],
      "metadata": {
        "id": "O7ce2W0kOhar"
      },
      "execution_count": null,
      "outputs": []
    },
    {
      "cell_type": "markdown",
      "source": [
        "AQUI TENEMOS UNA ESTRUCTURA LLAMADA str_list QUE CONTIENE STRINGS Y SOBRE CADA ELEMENTO DE LA ESTRUCTURA LE ACTIVAMOS LA FUNCION len() DE STRINGS. LA FUNCION NOS DEVUELVE EL RESULTADO Y LO IMPRIMIMOS."
      ],
      "metadata": {
        "id": "KhHLkJmGO2Wy"
      }
    },
    {
      "cell_type": "code",
      "source": [
        "print(list(map(len, str_list)))"
      ],
      "metadata": {
        "id": "jtdcBJ6HP5sQ"
      },
      "execution_count": null,
      "outputs": []
    },
    {
      "cell_type": "markdown",
      "source": [
        "ESTA ES OTRA FORMA DE HACER MAP PERO ESTA VEZ PONIENDO LOS RESULTADOS EN UNA LISTA."
      ],
      "metadata": {
        "id": "oxYtOhLJP68w"
      }
    },
    {
      "cell_type": "markdown",
      "source": [
        "**QUE IMPRIME ESTA FUNCION ???**"
      ],
      "metadata": {
        "id": "kbjequ-4TR3o"
      }
    },
    {
      "cell_type": "code",
      "source": [
        "def combined_demo_list():\n",
        "    \"\"\"\n",
        "    A combined example using map & zip\n",
        "    :return:\n",
        "    \"\"\"\n",
        "    print(list(map(sum, zip([0, 1, 2], [10, 9, 12]))))\n",
        "\n",
        "combined_demo_list()"
      ],
      "metadata": {
        "colab": {
          "base_uri": "https://localhost:8080/"
        },
        "id": "--DNJuaRTmof",
        "outputId": "2c874b55-1f97-4f8b-e2ed-3efbf7de0dac"
      },
      "execution_count": 33,
      "outputs": [
        {
          "output_type": "stream",
          "name": "stdout",
          "text": [
            "[10, 10, 14]\n"
          ]
        }
      ]
    },
    {
      "cell_type": "markdown",
      "source": [
        "1. PRIMERAMENTE EJECUTA LA FUNCION ZIP SOBRE LAS 2 ESTRUCTURAS DE DATOS(LISTAS) Y OBTENEMOS UNA SERIE DE TUPLAS (0,10)(1,9)(2,12)\n",
        "2. LA FUNCION MAP ACTIVA LA FUNCION SUM DE SU PARAMETRO SOBRE LA SERIE DE TUPLES OBTENIDOS DE LA FUNCION ZIP\n",
        "3. AL FINAL OBTENEMOS UNA LISTA D LOS RESULTADOS DE LA SUMA DE CADA TUPLE Y SE IMPRIME TODA LA LISTA "
      ],
      "metadata": {
        "id": "AJFbxgVBTwh3"
      }
    },
    {
      "cell_type": "code",
      "source": [
        "for res in zip([0, 1, 2], [10, 9, 12]):\n",
        "  print(res)"
      ],
      "metadata": {
        "colab": {
          "base_uri": "https://localhost:8080/"
        },
        "id": "4TlMEdzqbVKe",
        "outputId": "a3a0b7b2-73ee-42a4-ad31-13db2e6de65a"
      },
      "execution_count": 37,
      "outputs": [
        {
          "output_type": "stream",
          "name": "stdout",
          "text": [
            "(0, 10)\n",
            "(1, 9)\n",
            "(2, 12)\n"
          ]
        }
      ]
    },
    {
      "cell_type": "markdown",
      "source": [
        "DE ESTA FORMA IMPRIMIMOS LOS REULTADOS DE LA FUNCION ZIP"
      ],
      "metadata": {
        "id": "rejT7Y1TeW_U"
      }
    }
  ]
}